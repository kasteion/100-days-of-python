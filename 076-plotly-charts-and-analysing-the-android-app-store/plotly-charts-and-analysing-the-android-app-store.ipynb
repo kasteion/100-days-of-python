{
 "cells": [
  {
   "cell_type": "markdown",
   "id": "a88e601b",
   "metadata": {},
   "source": [
    "# Wrestle the Android App Store Data into Beautiful Looking Charts with Plotly\n",
    "\n",
    "Have you ever thought about building your own an iOS or Android app? If so, then you probably have wondered about how things work in the app stores. Today we'll replicate some of the app store analytics provided by companies like App Annie or Sensor Tower that helps inform development and app marketing strategies for many companies. This stuff is BIG business!\n",
    "\n",
    "We will compare thousands of apps in the Google Play Store so that we can gain insight into:\n",
    "\n",
    "- How competitive different app categories (e.g., Games, Lifestyle, Weather) are\n",
    "\n",
    "- Which app category offers compelling opportunities based on its popularity\n",
    "\n",
    "- How many downloads you would give up by making your app paid vs. free\n",
    "\n",
    "- How much you can reasonably charge for a paid app\n",
    "\n",
    "- Which paid apps have had the highest revenue\n",
    "\n",
    "- How many paid apps will recoup their development costs based on their sales revenue\n",
    "\n"
   ]
  },
  {
   "cell_type": "code",
   "execution_count": 90,
   "id": "ccf77604",
   "metadata": {},
   "outputs": [],
   "source": [
    "import pandas as pd\n",
    "\n",
    "df_apps = pd.read_csv('apps.csv')"
   ]
  },
  {
   "cell_type": "markdown",
   "id": "126c84c2",
   "metadata": {},
   "source": [
    "# Data Cleaning: Removin NaN Values and Duplicates\n",
    "\n",
    "The first step as always is getting a better idea about what we're dealing with.\n",
    "\n",
    "### Preliminary Data Exploration\n",
    "\n",
    "How many rows and columns does df_apps have? What are the column names? What does the data look like? Look at a random sample of 5 different rows with [.sample()](https://pandas.pydata.org/pandas-docs/stable/reference/api/pandas.DataFrame.sample.html)"
   ]
  },
  {
   "cell_type": "code",
   "execution_count": 91,
   "id": "6b5531ca",
   "metadata": {},
   "outputs": [
    {
     "data": {
      "text/plain": [
       "(10841, 12)"
      ]
     },
     "execution_count": 91,
     "metadata": {},
     "output_type": "execute_result"
    }
   ],
   "source": [
    "# How many rows and columns does df_apps have?\n",
    "df_apps.shape\n",
    "\n",
    "# 10841 rows, 12 columns"
   ]
  },
  {
   "cell_type": "markdown",
   "id": "92836aa0",
   "metadata": {},
   "source": [
    "We are working with a fairly large DataFrame this time.\n",
    "\n",
    "10841 rows and 12 columns."
   ]
  },
  {
   "cell_type": "code",
   "execution_count": 92,
   "id": "a7681da5",
   "metadata": {},
   "outputs": [
    {
     "data": {
      "text/html": [
       "<div>\n",
       "<style scoped>\n",
       "    .dataframe tbody tr th:only-of-type {\n",
       "        vertical-align: middle;\n",
       "    }\n",
       "\n",
       "    .dataframe tbody tr th {\n",
       "        vertical-align: top;\n",
       "    }\n",
       "\n",
       "    .dataframe thead th {\n",
       "        text-align: right;\n",
       "    }\n",
       "</style>\n",
       "<table border=\"1\" class=\"dataframe\">\n",
       "  <thead>\n",
       "    <tr style=\"text-align: right;\">\n",
       "      <th></th>\n",
       "      <th>App</th>\n",
       "      <th>Category</th>\n",
       "      <th>Rating</th>\n",
       "      <th>Reviews</th>\n",
       "      <th>Size_MBs</th>\n",
       "      <th>Installs</th>\n",
       "      <th>Type</th>\n",
       "      <th>Price</th>\n",
       "      <th>Content_Rating</th>\n",
       "      <th>Genres</th>\n",
       "      <th>Last_Updated</th>\n",
       "      <th>Android_Ver</th>\n",
       "    </tr>\n",
       "  </thead>\n",
       "  <tbody>\n",
       "    <tr>\n",
       "      <th>0</th>\n",
       "      <td>Ak Parti Yardım Toplama</td>\n",
       "      <td>SOCIAL</td>\n",
       "      <td>NaN</td>\n",
       "      <td>0</td>\n",
       "      <td>8.7</td>\n",
       "      <td>0</td>\n",
       "      <td>Paid</td>\n",
       "      <td>$13.99</td>\n",
       "      <td>Teen</td>\n",
       "      <td>Social</td>\n",
       "      <td>July 28, 2017</td>\n",
       "      <td>4.1 and up</td>\n",
       "    </tr>\n",
       "    <tr>\n",
       "      <th>1</th>\n",
       "      <td>Ain Arabic Kids Alif Ba ta</td>\n",
       "      <td>FAMILY</td>\n",
       "      <td>NaN</td>\n",
       "      <td>0</td>\n",
       "      <td>33.0</td>\n",
       "      <td>0</td>\n",
       "      <td>Paid</td>\n",
       "      <td>$2.99</td>\n",
       "      <td>Everyone</td>\n",
       "      <td>Education</td>\n",
       "      <td>April 15, 2016</td>\n",
       "      <td>3.0 and up</td>\n",
       "    </tr>\n",
       "    <tr>\n",
       "      <th>2</th>\n",
       "      <td>Popsicle Launcher for Android P 9.0 launcher</td>\n",
       "      <td>PERSONALIZATION</td>\n",
       "      <td>NaN</td>\n",
       "      <td>0</td>\n",
       "      <td>5.5</td>\n",
       "      <td>0</td>\n",
       "      <td>Paid</td>\n",
       "      <td>$1.49</td>\n",
       "      <td>Everyone</td>\n",
       "      <td>Personalization</td>\n",
       "      <td>July 11, 2018</td>\n",
       "      <td>4.2 and up</td>\n",
       "    </tr>\n",
       "    <tr>\n",
       "      <th>3</th>\n",
       "      <td>Command &amp; Conquer: Rivals</td>\n",
       "      <td>FAMILY</td>\n",
       "      <td>NaN</td>\n",
       "      <td>0</td>\n",
       "      <td>19.0</td>\n",
       "      <td>0</td>\n",
       "      <td>NaN</td>\n",
       "      <td>0</td>\n",
       "      <td>Everyone 10+</td>\n",
       "      <td>Strategy</td>\n",
       "      <td>June 28, 2018</td>\n",
       "      <td>Varies with device</td>\n",
       "    </tr>\n",
       "    <tr>\n",
       "      <th>4</th>\n",
       "      <td>CX Network</td>\n",
       "      <td>BUSINESS</td>\n",
       "      <td>NaN</td>\n",
       "      <td>0</td>\n",
       "      <td>10.0</td>\n",
       "      <td>0</td>\n",
       "      <td>Free</td>\n",
       "      <td>0</td>\n",
       "      <td>Everyone</td>\n",
       "      <td>Business</td>\n",
       "      <td>August 6, 2018</td>\n",
       "      <td>4.1 and up</td>\n",
       "    </tr>\n",
       "  </tbody>\n",
       "</table>\n",
       "</div>"
      ],
      "text/plain": [
       "                                            App         Category  Rating  \\\n",
       "0                       Ak Parti Yardım Toplama           SOCIAL     NaN   \n",
       "1                    Ain Arabic Kids Alif Ba ta           FAMILY     NaN   \n",
       "2  Popsicle Launcher for Android P 9.0 launcher  PERSONALIZATION     NaN   \n",
       "3                     Command & Conquer: Rivals           FAMILY     NaN   \n",
       "4                                    CX Network         BUSINESS     NaN   \n",
       "\n",
       "   Reviews  Size_MBs Installs  Type   Price Content_Rating           Genres  \\\n",
       "0        0       8.7        0  Paid  $13.99           Teen           Social   \n",
       "1        0      33.0        0  Paid   $2.99       Everyone        Education   \n",
       "2        0       5.5        0  Paid   $1.49       Everyone  Personalization   \n",
       "3        0      19.0        0   NaN       0   Everyone 10+         Strategy   \n",
       "4        0      10.0        0  Free       0       Everyone         Business   \n",
       "\n",
       "     Last_Updated         Android_Ver  \n",
       "0   July 28, 2017          4.1 and up  \n",
       "1  April 15, 2016          3.0 and up  \n",
       "2   July 11, 2018          4.2 and up  \n",
       "3   June 28, 2018  Varies with device  \n",
       "4  August 6, 2018          4.1 and up  "
      ]
     },
     "execution_count": 92,
     "metadata": {},
     "output_type": "execute_result"
    }
   ],
   "source": [
    "df_apps.head()"
   ]
  },
  {
   "cell_type": "markdown",
   "id": "77cce747",
   "metadata": {},
   "source": [
    "We can already see that there are some data issues that we need to fix. In the Ratings and Type columns there are NaN (Not a number values) and in the Price column we have dollar signs that will cause problems.\n",
    "\n"
   ]
  },
  {
   "cell_type": "code",
   "execution_count": 93,
   "id": "efe9075c",
   "metadata": {},
   "outputs": [
    {
     "name": "stdout",
     "output_type": "stream",
     "text": [
      "Columns: \n",
      " - App\n",
      " - Category\n",
      " - Rating\n",
      " - Reviews\n",
      " - Size_MBs\n",
      " - Installs\n",
      " - Type\n",
      " - Price\n",
      " - Content_Rating\n",
      " - Genres\n",
      " - Last_Updated\n",
      " - Android_Ver\n"
     ]
    }
   ],
   "source": [
    "# What are the column names? \n",
    "print('Columns: ')\n",
    "for col in df_apps.columns:\n",
    "    print(f' - {col}')"
   ]
  },
  {
   "cell_type": "code",
   "execution_count": 94,
   "id": "89d8b4e2",
   "metadata": {},
   "outputs": [
    {
     "data": {
      "text/html": [
       "<div>\n",
       "<style scoped>\n",
       "    .dataframe tbody tr th:only-of-type {\n",
       "        vertical-align: middle;\n",
       "    }\n",
       "\n",
       "    .dataframe tbody tr th {\n",
       "        vertical-align: top;\n",
       "    }\n",
       "\n",
       "    .dataframe thead th {\n",
       "        text-align: right;\n",
       "    }\n",
       "</style>\n",
       "<table border=\"1\" class=\"dataframe\">\n",
       "  <thead>\n",
       "    <tr style=\"text-align: right;\">\n",
       "      <th></th>\n",
       "      <th>App</th>\n",
       "      <th>Category</th>\n",
       "      <th>Rating</th>\n",
       "      <th>Reviews</th>\n",
       "      <th>Size_MBs</th>\n",
       "      <th>Installs</th>\n",
       "      <th>Type</th>\n",
       "      <th>Price</th>\n",
       "      <th>Content_Rating</th>\n",
       "      <th>Genres</th>\n",
       "      <th>Last_Updated</th>\n",
       "      <th>Android_Ver</th>\n",
       "    </tr>\n",
       "  </thead>\n",
       "  <tbody>\n",
       "    <tr>\n",
       "      <th>9195</th>\n",
       "      <td>Metal Soldiers 2</td>\n",
       "      <td>GAME</td>\n",
       "      <td>4.4</td>\n",
       "      <td>153381</td>\n",
       "      <td>36.00</td>\n",
       "      <td>10,000,000</td>\n",
       "      <td>Free</td>\n",
       "      <td>0</td>\n",
       "      <td>Teen</td>\n",
       "      <td>Action</td>\n",
       "      <td>June 18, 2018</td>\n",
       "      <td>4.1 and up</td>\n",
       "    </tr>\n",
       "    <tr>\n",
       "      <th>472</th>\n",
       "      <td>All-night drugstore CI &amp; Price</td>\n",
       "      <td>HEALTH_AND_FITNESS</td>\n",
       "      <td>NaN</td>\n",
       "      <td>0</td>\n",
       "      <td>5.10</td>\n",
       "      <td>10</td>\n",
       "      <td>Paid</td>\n",
       "      <td>$0.99</td>\n",
       "      <td>Everyone</td>\n",
       "      <td>Health &amp; Fitness</td>\n",
       "      <td>November 27, 2017</td>\n",
       "      <td>1.6 and up</td>\n",
       "    </tr>\n",
       "    <tr>\n",
       "      <th>2487</th>\n",
       "      <td>CG Sanyukt Bharti Pariksha 2018</td>\n",
       "      <td>FAMILY</td>\n",
       "      <td>4.3</td>\n",
       "      <td>14</td>\n",
       "      <td>4.30</td>\n",
       "      <td>1,000</td>\n",
       "      <td>Free</td>\n",
       "      <td>0</td>\n",
       "      <td>Teen</td>\n",
       "      <td>Education</td>\n",
       "      <td>January 10, 2018</td>\n",
       "      <td>2.3 and up</td>\n",
       "    </tr>\n",
       "    <tr>\n",
       "      <th>4357</th>\n",
       "      <td>Popeyes® App</td>\n",
       "      <td>FOOD_AND_DRINK</td>\n",
       "      <td>3.7</td>\n",
       "      <td>61</td>\n",
       "      <td>11.00</td>\n",
       "      <td>50,000</td>\n",
       "      <td>Free</td>\n",
       "      <td>0</td>\n",
       "      <td>Everyone</td>\n",
       "      <td>Food &amp; Drink</td>\n",
       "      <td>July 23, 2018</td>\n",
       "      <td>4.1 and up</td>\n",
       "    </tr>\n",
       "    <tr>\n",
       "      <th>5042</th>\n",
       "      <td>Money Manager Ex for Android</td>\n",
       "      <td>FINANCE</td>\n",
       "      <td>4.2</td>\n",
       "      <td>2695</td>\n",
       "      <td>9.15</td>\n",
       "      <td>100,000</td>\n",
       "      <td>Free</td>\n",
       "      <td>0</td>\n",
       "      <td>Everyone</td>\n",
       "      <td>Finance</td>\n",
       "      <td>February 26, 2018</td>\n",
       "      <td>Varies with device</td>\n",
       "    </tr>\n",
       "  </tbody>\n",
       "</table>\n",
       "</div>"
      ],
      "text/plain": [
       "                                  App            Category  Rating  Reviews  \\\n",
       "9195                 Metal Soldiers 2                GAME     4.4   153381   \n",
       "472    All-night drugstore CI & Price  HEALTH_AND_FITNESS     NaN        0   \n",
       "2487  CG Sanyukt Bharti Pariksha 2018              FAMILY     4.3       14   \n",
       "4357                     Popeyes® App      FOOD_AND_DRINK     3.7       61   \n",
       "5042     Money Manager Ex for Android             FINANCE     4.2     2695   \n",
       "\n",
       "      Size_MBs    Installs  Type  Price Content_Rating            Genres  \\\n",
       "9195     36.00  10,000,000  Free      0           Teen            Action   \n",
       "472       5.10          10  Paid  $0.99       Everyone  Health & Fitness   \n",
       "2487      4.30       1,000  Free      0           Teen         Education   \n",
       "4357     11.00      50,000  Free      0       Everyone      Food & Drink   \n",
       "5042      9.15     100,000  Free      0       Everyone           Finance   \n",
       "\n",
       "           Last_Updated         Android_Ver  \n",
       "9195      June 18, 2018          4.1 and up  \n",
       "472   November 27, 2017          1.6 and up  \n",
       "2487   January 10, 2018          2.3 and up  \n",
       "4357      July 23, 2018          4.1 and up  \n",
       "5042  February 26, 2018  Varies with device  "
      ]
     },
     "execution_count": 94,
     "metadata": {},
     "output_type": "execute_result"
    }
   ],
   "source": [
    "# What does the data look like? Look at a random sample of 5 different rows with .sample()\n",
    "df_apps.sample(5)"
   ]
  },
  {
   "cell_type": "markdown",
   "id": "946973e7",
   "metadata": {},
   "source": [
    "Remove the columns called Last_Updated and Android_Version from the DataFrame. We will not use these columns.\n",
    "\n"
   ]
  },
  {
   "cell_type": "code",
   "execution_count": 95,
   "id": "b7115f3a",
   "metadata": {},
   "outputs": [],
   "source": [
    "df_apps = df_apps.drop('Last_Updated', axis=1) #axis = 0 for rows, axis = 1 for columns\n",
    "df_apps = df_apps.drop('Android_Ver', axis=1)"
   ]
  },
  {
   "cell_type": "code",
   "execution_count": 96,
   "id": "32c8a586",
   "metadata": {},
   "outputs": [
    {
     "name": "stdout",
     "output_type": "stream",
     "text": [
      "Columns: \n",
      " - App\n",
      " - Category\n",
      " - Rating\n",
      " - Reviews\n",
      " - Size_MBs\n",
      " - Installs\n",
      " - Type\n",
      " - Price\n",
      " - Content_Rating\n",
      " - Genres\n"
     ]
    }
   ],
   "source": [
    "print('Columns: ')\n",
    "for col in df_apps.columns:\n",
    "    print(f' - {col}')"
   ]
  },
  {
   "cell_type": "markdown",
   "id": "757bfd45",
   "metadata": {},
   "source": [
    "How many rows have a NaN value (not-a-number) in the Rating column? Create DataFrame called df_apps_clean that does not include these rows."
   ]
  },
  {
   "cell_type": "code",
   "execution_count": 97,
   "id": "08e06a7f",
   "metadata": {},
   "outputs": [
    {
     "data": {
      "text/plain": [
       "np.int64(1474)"
      ]
     },
     "execution_count": 97,
     "metadata": {},
     "output_type": "execute_result"
    }
   ],
   "source": [
    "df_apps.Rating.isna().sum()"
   ]
  },
  {
   "cell_type": "code",
   "execution_count": 98,
   "id": "e71184a7",
   "metadata": {},
   "outputs": [],
   "source": [
    "# df_apps_clean = df_apps[df_apps.Rating.notna()]\n",
    "df_apps_clean = df_apps.dropna()"
   ]
  },
  {
   "cell_type": "code",
   "execution_count": 99,
   "id": "e2cafa32",
   "metadata": {},
   "outputs": [
    {
     "data": {
      "text/plain": [
       "(9367, 10)"
      ]
     },
     "execution_count": 99,
     "metadata": {},
     "output_type": "execute_result"
    }
   ],
   "source": [
    "df_apps_clean.shape"
   ]
  },
  {
   "cell_type": "markdown",
   "id": "bb8f4775",
   "metadata": {},
   "source": [
    "This leaves us with 9,367 entries in our DataFrame. But there may be other problems with the data too:\n",
    "\n",
    "Are there any duplicates in data? Check for duplicates using the [.duplicated()](https://pandas.pydata.org/pandas-docs/stable/reference/api/pandas.DataFrame.duplicated.html) function. How many entries can you find for the \"Instagram\" app? Use [.drop_duplicates()](https://pandas.pydata.org/pandas-docs/stable/reference/api/pandas.DataFrame.drop_duplicates.html) to remove any duplicates from `df_apps_clean`.\n",
    "\n"
   ]
  },
  {
   "cell_type": "code",
   "execution_count": 100,
   "id": "0f8fb721",
   "metadata": {},
   "outputs": [
    {
     "data": {
      "text/html": [
       "<div>\n",
       "<style scoped>\n",
       "    .dataframe tbody tr th:only-of-type {\n",
       "        vertical-align: middle;\n",
       "    }\n",
       "\n",
       "    .dataframe tbody tr th {\n",
       "        vertical-align: top;\n",
       "    }\n",
       "\n",
       "    .dataframe thead th {\n",
       "        text-align: right;\n",
       "    }\n",
       "</style>\n",
       "<table border=\"1\" class=\"dataframe\">\n",
       "  <thead>\n",
       "    <tr style=\"text-align: right;\">\n",
       "      <th></th>\n",
       "      <th>App</th>\n",
       "      <th>Category</th>\n",
       "      <th>Rating</th>\n",
       "      <th>Reviews</th>\n",
       "      <th>Size_MBs</th>\n",
       "      <th>Installs</th>\n",
       "      <th>Type</th>\n",
       "      <th>Price</th>\n",
       "      <th>Content_Rating</th>\n",
       "      <th>Genres</th>\n",
       "    </tr>\n",
       "  </thead>\n",
       "  <tbody>\n",
       "    <tr>\n",
       "      <th>946</th>\n",
       "      <td>420 BZ Budeze Delivery</td>\n",
       "      <td>MEDICAL</td>\n",
       "      <td>5.0</td>\n",
       "      <td>2</td>\n",
       "      <td>11.0</td>\n",
       "      <td>100</td>\n",
       "      <td>Free</td>\n",
       "      <td>0</td>\n",
       "      <td>Mature 17+</td>\n",
       "      <td>Medical</td>\n",
       "    </tr>\n",
       "    <tr>\n",
       "      <th>1133</th>\n",
       "      <td>MouseMingle</td>\n",
       "      <td>DATING</td>\n",
       "      <td>2.7</td>\n",
       "      <td>3</td>\n",
       "      <td>3.9</td>\n",
       "      <td>100</td>\n",
       "      <td>Free</td>\n",
       "      <td>0</td>\n",
       "      <td>Mature 17+</td>\n",
       "      <td>Dating</td>\n",
       "    </tr>\n",
       "    <tr>\n",
       "      <th>1196</th>\n",
       "      <td>Cardiac diagnosis (heart rate, arrhythmia)</td>\n",
       "      <td>MEDICAL</td>\n",
       "      <td>4.4</td>\n",
       "      <td>8</td>\n",
       "      <td>6.5</td>\n",
       "      <td>100</td>\n",
       "      <td>Paid</td>\n",
       "      <td>$12.99</td>\n",
       "      <td>Everyone</td>\n",
       "      <td>Medical</td>\n",
       "    </tr>\n",
       "    <tr>\n",
       "      <th>1231</th>\n",
       "      <td>Sway Medical</td>\n",
       "      <td>MEDICAL</td>\n",
       "      <td>5.0</td>\n",
       "      <td>3</td>\n",
       "      <td>22.0</td>\n",
       "      <td>100</td>\n",
       "      <td>Free</td>\n",
       "      <td>0</td>\n",
       "      <td>Everyone</td>\n",
       "      <td>Medical</td>\n",
       "    </tr>\n",
       "    <tr>\n",
       "      <th>1247</th>\n",
       "      <td>Chat Kids - Chat Room For Kids</td>\n",
       "      <td>DATING</td>\n",
       "      <td>4.7</td>\n",
       "      <td>6</td>\n",
       "      <td>4.9</td>\n",
       "      <td>100</td>\n",
       "      <td>Free</td>\n",
       "      <td>0</td>\n",
       "      <td>Mature 17+</td>\n",
       "      <td>Dating</td>\n",
       "    </tr>\n",
       "    <tr>\n",
       "      <th>...</th>\n",
       "      <td>...</td>\n",
       "      <td>...</td>\n",
       "      <td>...</td>\n",
       "      <td>...</td>\n",
       "      <td>...</td>\n",
       "      <td>...</td>\n",
       "      <td>...</td>\n",
       "      <td>...</td>\n",
       "      <td>...</td>\n",
       "      <td>...</td>\n",
       "    </tr>\n",
       "    <tr>\n",
       "      <th>10802</th>\n",
       "      <td>Skype - free IM &amp; video calls</td>\n",
       "      <td>COMMUNICATION</td>\n",
       "      <td>4.1</td>\n",
       "      <td>10484169</td>\n",
       "      <td>3.5</td>\n",
       "      <td>1,000,000,000</td>\n",
       "      <td>Free</td>\n",
       "      <td>0</td>\n",
       "      <td>Everyone</td>\n",
       "      <td>Communication</td>\n",
       "    </tr>\n",
       "    <tr>\n",
       "      <th>10809</th>\n",
       "      <td>Instagram</td>\n",
       "      <td>SOCIAL</td>\n",
       "      <td>4.5</td>\n",
       "      <td>66577313</td>\n",
       "      <td>5.3</td>\n",
       "      <td>1,000,000,000</td>\n",
       "      <td>Free</td>\n",
       "      <td>0</td>\n",
       "      <td>Teen</td>\n",
       "      <td>Social</td>\n",
       "    </tr>\n",
       "    <tr>\n",
       "      <th>10826</th>\n",
       "      <td>Google Drive</td>\n",
       "      <td>PRODUCTIVITY</td>\n",
       "      <td>4.4</td>\n",
       "      <td>2731211</td>\n",
       "      <td>4.0</td>\n",
       "      <td>1,000,000,000</td>\n",
       "      <td>Free</td>\n",
       "      <td>0</td>\n",
       "      <td>Everyone</td>\n",
       "      <td>Productivity</td>\n",
       "    </tr>\n",
       "    <tr>\n",
       "      <th>10832</th>\n",
       "      <td>Google News</td>\n",
       "      <td>NEWS_AND_MAGAZINES</td>\n",
       "      <td>3.9</td>\n",
       "      <td>877635</td>\n",
       "      <td>13.0</td>\n",
       "      <td>1,000,000,000</td>\n",
       "      <td>Free</td>\n",
       "      <td>0</td>\n",
       "      <td>Teen</td>\n",
       "      <td>News &amp; Magazines</td>\n",
       "    </tr>\n",
       "    <tr>\n",
       "      <th>10839</th>\n",
       "      <td>Subway Surfers</td>\n",
       "      <td>GAME</td>\n",
       "      <td>4.5</td>\n",
       "      <td>27725352</td>\n",
       "      <td>76.0</td>\n",
       "      <td>1,000,000,000</td>\n",
       "      <td>Free</td>\n",
       "      <td>0</td>\n",
       "      <td>Everyone 10+</td>\n",
       "      <td>Arcade</td>\n",
       "    </tr>\n",
       "  </tbody>\n",
       "</table>\n",
       "<p>476 rows × 10 columns</p>\n",
       "</div>"
      ],
      "text/plain": [
       "                                              App            Category  Rating  \\\n",
       "946                        420 BZ Budeze Delivery             MEDICAL     5.0   \n",
       "1133                                  MouseMingle              DATING     2.7   \n",
       "1196   Cardiac diagnosis (heart rate, arrhythmia)             MEDICAL     4.4   \n",
       "1231                                 Sway Medical             MEDICAL     5.0   \n",
       "1247               Chat Kids - Chat Room For Kids              DATING     4.7   \n",
       "...                                           ...                 ...     ...   \n",
       "10802               Skype - free IM & video calls       COMMUNICATION     4.1   \n",
       "10809                                   Instagram              SOCIAL     4.5   \n",
       "10826                                Google Drive        PRODUCTIVITY     4.4   \n",
       "10832                                 Google News  NEWS_AND_MAGAZINES     3.9   \n",
       "10839                              Subway Surfers                GAME     4.5   \n",
       "\n",
       "        Reviews  Size_MBs       Installs  Type   Price Content_Rating  \\\n",
       "946           2      11.0            100  Free       0     Mature 17+   \n",
       "1133          3       3.9            100  Free       0     Mature 17+   \n",
       "1196          8       6.5            100  Paid  $12.99       Everyone   \n",
       "1231          3      22.0            100  Free       0       Everyone   \n",
       "1247          6       4.9            100  Free       0     Mature 17+   \n",
       "...         ...       ...            ...   ...     ...            ...   \n",
       "10802  10484169       3.5  1,000,000,000  Free       0       Everyone   \n",
       "10809  66577313       5.3  1,000,000,000  Free       0           Teen   \n",
       "10826   2731211       4.0  1,000,000,000  Free       0       Everyone   \n",
       "10832    877635      13.0  1,000,000,000  Free       0           Teen   \n",
       "10839  27725352      76.0  1,000,000,000  Free       0   Everyone 10+   \n",
       "\n",
       "                 Genres  \n",
       "946             Medical  \n",
       "1133             Dating  \n",
       "1196            Medical  \n",
       "1231            Medical  \n",
       "1247             Dating  \n",
       "...                 ...  \n",
       "10802     Communication  \n",
       "10809            Social  \n",
       "10826      Productivity  \n",
       "10832  News & Magazines  \n",
       "10839            Arcade  \n",
       "\n",
       "[476 rows x 10 columns]"
      ]
     },
     "execution_count": 100,
     "metadata": {},
     "output_type": "execute_result"
    }
   ],
   "source": [
    "df_apps_clean[df_apps_clean.duplicated()]"
   ]
  },
  {
   "cell_type": "code",
   "execution_count": 101,
   "id": "17d4eb84",
   "metadata": {},
   "outputs": [
    {
     "data": {
      "text/html": [
       "<div>\n",
       "<style scoped>\n",
       "    .dataframe tbody tr th:only-of-type {\n",
       "        vertical-align: middle;\n",
       "    }\n",
       "\n",
       "    .dataframe tbody tr th {\n",
       "        vertical-align: top;\n",
       "    }\n",
       "\n",
       "    .dataframe thead th {\n",
       "        text-align: right;\n",
       "    }\n",
       "</style>\n",
       "<table border=\"1\" class=\"dataframe\">\n",
       "  <thead>\n",
       "    <tr style=\"text-align: right;\">\n",
       "      <th></th>\n",
       "      <th>App</th>\n",
       "      <th>Category</th>\n",
       "      <th>Rating</th>\n",
       "      <th>Reviews</th>\n",
       "      <th>Size_MBs</th>\n",
       "      <th>Installs</th>\n",
       "      <th>Type</th>\n",
       "      <th>Price</th>\n",
       "      <th>Content_Rating</th>\n",
       "      <th>Genres</th>\n",
       "    </tr>\n",
       "  </thead>\n",
       "  <tbody>\n",
       "    <tr>\n",
       "      <th>10806</th>\n",
       "      <td>Instagram</td>\n",
       "      <td>SOCIAL</td>\n",
       "      <td>4.5</td>\n",
       "      <td>66577313</td>\n",
       "      <td>5.3</td>\n",
       "      <td>1,000,000,000</td>\n",
       "      <td>Free</td>\n",
       "      <td>0</td>\n",
       "      <td>Teen</td>\n",
       "      <td>Social</td>\n",
       "    </tr>\n",
       "    <tr>\n",
       "      <th>10808</th>\n",
       "      <td>Instagram</td>\n",
       "      <td>SOCIAL</td>\n",
       "      <td>4.5</td>\n",
       "      <td>66577446</td>\n",
       "      <td>5.3</td>\n",
       "      <td>1,000,000,000</td>\n",
       "      <td>Free</td>\n",
       "      <td>0</td>\n",
       "      <td>Teen</td>\n",
       "      <td>Social</td>\n",
       "    </tr>\n",
       "    <tr>\n",
       "      <th>10809</th>\n",
       "      <td>Instagram</td>\n",
       "      <td>SOCIAL</td>\n",
       "      <td>4.5</td>\n",
       "      <td>66577313</td>\n",
       "      <td>5.3</td>\n",
       "      <td>1,000,000,000</td>\n",
       "      <td>Free</td>\n",
       "      <td>0</td>\n",
       "      <td>Teen</td>\n",
       "      <td>Social</td>\n",
       "    </tr>\n",
       "    <tr>\n",
       "      <th>10810</th>\n",
       "      <td>Instagram</td>\n",
       "      <td>SOCIAL</td>\n",
       "      <td>4.5</td>\n",
       "      <td>66509917</td>\n",
       "      <td>5.3</td>\n",
       "      <td>1,000,000,000</td>\n",
       "      <td>Free</td>\n",
       "      <td>0</td>\n",
       "      <td>Teen</td>\n",
       "      <td>Social</td>\n",
       "    </tr>\n",
       "  </tbody>\n",
       "</table>\n",
       "</div>"
      ],
      "text/plain": [
       "             App Category  Rating   Reviews  Size_MBs       Installs  Type  \\\n",
       "10806  Instagram   SOCIAL     4.5  66577313       5.3  1,000,000,000  Free   \n",
       "10808  Instagram   SOCIAL     4.5  66577446       5.3  1,000,000,000  Free   \n",
       "10809  Instagram   SOCIAL     4.5  66577313       5.3  1,000,000,000  Free   \n",
       "10810  Instagram   SOCIAL     4.5  66509917       5.3  1,000,000,000  Free   \n",
       "\n",
       "      Price Content_Rating  Genres  \n",
       "10806     0           Teen  Social  \n",
       "10808     0           Teen  Social  \n",
       "10809     0           Teen  Social  \n",
       "10810     0           Teen  Social  "
      ]
     },
     "execution_count": 101,
     "metadata": {},
     "output_type": "execute_result"
    }
   ],
   "source": [
    "df_apps_clean[df_apps_clean.App == 'Instagram']"
   ]
  },
  {
   "cell_type": "code",
   "execution_count": 102,
   "id": "1ecc3eb7",
   "metadata": {},
   "outputs": [
    {
     "data": {
      "text/plain": [
       "10806    False\n",
       "10808    False\n",
       "10809     True\n",
       "10810    False\n",
       "dtype: bool"
      ]
     },
     "execution_count": 102,
     "metadata": {},
     "output_type": "execute_result"
    }
   ],
   "source": [
    "df_apps_clean[df_apps_clean.App == 'Instagram'].duplicated()"
   ]
  },
  {
   "cell_type": "code",
   "execution_count": 103,
   "id": "411b9027",
   "metadata": {},
   "outputs": [],
   "source": [
    "df_apps_clean = df_apps_clean.drop_duplicates()"
   ]
  },
  {
   "cell_type": "code",
   "execution_count": 104,
   "id": "3bf39ded",
   "metadata": {},
   "outputs": [
    {
     "data": {
      "text/html": [
       "<div>\n",
       "<style scoped>\n",
       "    .dataframe tbody tr th:only-of-type {\n",
       "        vertical-align: middle;\n",
       "    }\n",
       "\n",
       "    .dataframe tbody tr th {\n",
       "        vertical-align: top;\n",
       "    }\n",
       "\n",
       "    .dataframe thead th {\n",
       "        text-align: right;\n",
       "    }\n",
       "</style>\n",
       "<table border=\"1\" class=\"dataframe\">\n",
       "  <thead>\n",
       "    <tr style=\"text-align: right;\">\n",
       "      <th></th>\n",
       "      <th>App</th>\n",
       "      <th>Category</th>\n",
       "      <th>Rating</th>\n",
       "      <th>Reviews</th>\n",
       "      <th>Size_MBs</th>\n",
       "      <th>Installs</th>\n",
       "      <th>Type</th>\n",
       "      <th>Price</th>\n",
       "      <th>Content_Rating</th>\n",
       "      <th>Genres</th>\n",
       "    </tr>\n",
       "  </thead>\n",
       "  <tbody>\n",
       "    <tr>\n",
       "      <th>10806</th>\n",
       "      <td>Instagram</td>\n",
       "      <td>SOCIAL</td>\n",
       "      <td>4.5</td>\n",
       "      <td>66577313</td>\n",
       "      <td>5.3</td>\n",
       "      <td>1,000,000,000</td>\n",
       "      <td>Free</td>\n",
       "      <td>0</td>\n",
       "      <td>Teen</td>\n",
       "      <td>Social</td>\n",
       "    </tr>\n",
       "    <tr>\n",
       "      <th>10808</th>\n",
       "      <td>Instagram</td>\n",
       "      <td>SOCIAL</td>\n",
       "      <td>4.5</td>\n",
       "      <td>66577446</td>\n",
       "      <td>5.3</td>\n",
       "      <td>1,000,000,000</td>\n",
       "      <td>Free</td>\n",
       "      <td>0</td>\n",
       "      <td>Teen</td>\n",
       "      <td>Social</td>\n",
       "    </tr>\n",
       "    <tr>\n",
       "      <th>10810</th>\n",
       "      <td>Instagram</td>\n",
       "      <td>SOCIAL</td>\n",
       "      <td>4.5</td>\n",
       "      <td>66509917</td>\n",
       "      <td>5.3</td>\n",
       "      <td>1,000,000,000</td>\n",
       "      <td>Free</td>\n",
       "      <td>0</td>\n",
       "      <td>Teen</td>\n",
       "      <td>Social</td>\n",
       "    </tr>\n",
       "  </tbody>\n",
       "</table>\n",
       "</div>"
      ],
      "text/plain": [
       "             App Category  Rating   Reviews  Size_MBs       Installs  Type  \\\n",
       "10806  Instagram   SOCIAL     4.5  66577313       5.3  1,000,000,000  Free   \n",
       "10808  Instagram   SOCIAL     4.5  66577446       5.3  1,000,000,000  Free   \n",
       "10810  Instagram   SOCIAL     4.5  66509917       5.3  1,000,000,000  Free   \n",
       "\n",
       "      Price Content_Rating  Genres  \n",
       "10806     0           Teen  Social  \n",
       "10808     0           Teen  Social  \n",
       "10810     0           Teen  Social  "
      ]
     },
     "execution_count": 104,
     "metadata": {},
     "output_type": "execute_result"
    }
   ],
   "source": [
    "df_apps_clean[df_apps_clean.App == 'Instagram']"
   ]
  },
  {
   "cell_type": "markdown",
   "id": "6d835248",
   "metadata": {},
   "source": [
    "We need to provide the column names that should be used in the comparison to identify duplicates. "
   ]
  },
  {
   "cell_type": "code",
   "execution_count": 105,
   "id": "1f3a8ba8",
   "metadata": {},
   "outputs": [],
   "source": [
    "df_apps_clean = df_apps_clean.drop_duplicates(subset=['App', 'Type', 'Price'])"
   ]
  },
  {
   "cell_type": "code",
   "execution_count": 106,
   "id": "34c69133",
   "metadata": {},
   "outputs": [
    {
     "data": {
      "text/html": [
       "<div>\n",
       "<style scoped>\n",
       "    .dataframe tbody tr th:only-of-type {\n",
       "        vertical-align: middle;\n",
       "    }\n",
       "\n",
       "    .dataframe tbody tr th {\n",
       "        vertical-align: top;\n",
       "    }\n",
       "\n",
       "    .dataframe thead th {\n",
       "        text-align: right;\n",
       "    }\n",
       "</style>\n",
       "<table border=\"1\" class=\"dataframe\">\n",
       "  <thead>\n",
       "    <tr style=\"text-align: right;\">\n",
       "      <th></th>\n",
       "      <th>App</th>\n",
       "      <th>Category</th>\n",
       "      <th>Rating</th>\n",
       "      <th>Reviews</th>\n",
       "      <th>Size_MBs</th>\n",
       "      <th>Installs</th>\n",
       "      <th>Type</th>\n",
       "      <th>Price</th>\n",
       "      <th>Content_Rating</th>\n",
       "      <th>Genres</th>\n",
       "    </tr>\n",
       "  </thead>\n",
       "  <tbody>\n",
       "    <tr>\n",
       "      <th>10806</th>\n",
       "      <td>Instagram</td>\n",
       "      <td>SOCIAL</td>\n",
       "      <td>4.5</td>\n",
       "      <td>66577313</td>\n",
       "      <td>5.3</td>\n",
       "      <td>1,000,000,000</td>\n",
       "      <td>Free</td>\n",
       "      <td>0</td>\n",
       "      <td>Teen</td>\n",
       "      <td>Social</td>\n",
       "    </tr>\n",
       "  </tbody>\n",
       "</table>\n",
       "</div>"
      ],
      "text/plain": [
       "             App Category  Rating   Reviews  Size_MBs       Installs  Type  \\\n",
       "10806  Instagram   SOCIAL     4.5  66577313       5.3  1,000,000,000  Free   \n",
       "\n",
       "      Price Content_Rating  Genres  \n",
       "10806     0           Teen  Social  "
      ]
     },
     "execution_count": 106,
     "metadata": {},
     "output_type": "execute_result"
    }
   ],
   "source": [
    "df_apps_clean[df_apps_clean.App == 'Instagram']"
   ]
  },
  {
   "cell_type": "code",
   "execution_count": 107,
   "id": "59f889ba",
   "metadata": {},
   "outputs": [
    {
     "data": {
      "text/plain": [
       "(8199, 10)"
      ]
     },
     "execution_count": 107,
     "metadata": {},
     "output_type": "execute_result"
    }
   ],
   "source": [
    "df_apps_clean.shape"
   ]
  },
  {
   "cell_type": "markdown",
   "id": "a7c41c01",
   "metadata": {},
   "source": [
    "This leaves us with 8,199 entries after removing duplicates. "
   ]
  },
  {
   "cell_type": "markdown",
   "id": "0a91b0fb",
   "metadata": {},
   "source": [
    "### What else should I know about the data?\n",
    "\n",
    "So we can see that 13 different features were originally scraped from the Google Play Store.\n",
    "\n",
    "- Obviously, the data is just a sample out of all the Android apps. It doesn't include all Android apps of which there are millions.\n",
    "\n",
    "- I’ll assume that the sample is representative of the App Store as a whole. This is not necessarily the case as, during the web scraping process, this sample was served up based on geographical location and user behaviour of the person who scraped it - in our case Lavanya Gupta.\n",
    "\n",
    "- The data was compiled around 2017/2018. The pricing data reflect the price in USD Dollars at the time of scraping. (developers can offer promotions and change their app’s pricing).\n",
    "\n",
    "- I’ve converted the app’s size to a floating-point number in MBs. If data was missing, it has been replaced by the average size for that category.\n",
    "\n",
    "- The installs are not the exact number of installs. If an app has 245,239 installs then Google will simply report an order of magnitude like 100,000+. I’ve removed the '+' and we’ll assume the exact number of installs in that column for simplicity.\n",
    "\n"
   ]
  },
  {
   "cell_type": "markdown",
   "id": "fdc61f51",
   "metadata": {},
   "source": [
    "# Preliminary Exploration: The Highest Ratings, Most Reviews, and Largest Size\n",
    "\n",
    "- Identify which apps are the highest rated. What problem might you encounter if you rely exclusively on ratings alone to determine the quality of an app?"
   ]
  },
  {
   "cell_type": "code",
   "execution_count": 108,
   "id": "b7adcd8a",
   "metadata": {},
   "outputs": [
    {
     "data": {
      "text/html": [
       "<div>\n",
       "<style scoped>\n",
       "    .dataframe tbody tr th:only-of-type {\n",
       "        vertical-align: middle;\n",
       "    }\n",
       "\n",
       "    .dataframe tbody tr th {\n",
       "        vertical-align: top;\n",
       "    }\n",
       "\n",
       "    .dataframe thead th {\n",
       "        text-align: right;\n",
       "    }\n",
       "</style>\n",
       "<table border=\"1\" class=\"dataframe\">\n",
       "  <thead>\n",
       "    <tr style=\"text-align: right;\">\n",
       "      <th></th>\n",
       "      <th>App</th>\n",
       "      <th>Category</th>\n",
       "      <th>Rating</th>\n",
       "      <th>Reviews</th>\n",
       "      <th>Size_MBs</th>\n",
       "      <th>Installs</th>\n",
       "      <th>Type</th>\n",
       "      <th>Price</th>\n",
       "      <th>Content_Rating</th>\n",
       "      <th>Genres</th>\n",
       "    </tr>\n",
       "  </thead>\n",
       "  <tbody>\n",
       "    <tr>\n",
       "      <th>21</th>\n",
       "      <td>KBA-EZ Health Guide</td>\n",
       "      <td>MEDICAL</td>\n",
       "      <td>5.0</td>\n",
       "      <td>4</td>\n",
       "      <td>25.0</td>\n",
       "      <td>1</td>\n",
       "      <td>Free</td>\n",
       "      <td>0</td>\n",
       "      <td>Everyone</td>\n",
       "      <td>Medical</td>\n",
       "    </tr>\n",
       "    <tr>\n",
       "      <th>1230</th>\n",
       "      <td>Sway Medical</td>\n",
       "      <td>MEDICAL</td>\n",
       "      <td>5.0</td>\n",
       "      <td>3</td>\n",
       "      <td>22.0</td>\n",
       "      <td>100</td>\n",
       "      <td>Free</td>\n",
       "      <td>0</td>\n",
       "      <td>Everyone</td>\n",
       "      <td>Medical</td>\n",
       "    </tr>\n",
       "    <tr>\n",
       "      <th>1227</th>\n",
       "      <td>AJ Men's Grooming</td>\n",
       "      <td>LIFESTYLE</td>\n",
       "      <td>5.0</td>\n",
       "      <td>2</td>\n",
       "      <td>22.0</td>\n",
       "      <td>100</td>\n",
       "      <td>Free</td>\n",
       "      <td>0</td>\n",
       "      <td>Everyone</td>\n",
       "      <td>Lifestyle</td>\n",
       "    </tr>\n",
       "    <tr>\n",
       "      <th>1224</th>\n",
       "      <td>FK Dedinje BGD</td>\n",
       "      <td>SPORTS</td>\n",
       "      <td>5.0</td>\n",
       "      <td>36</td>\n",
       "      <td>2.6</td>\n",
       "      <td>100</td>\n",
       "      <td>Free</td>\n",
       "      <td>0</td>\n",
       "      <td>Everyone</td>\n",
       "      <td>Sports</td>\n",
       "    </tr>\n",
       "    <tr>\n",
       "      <th>1223</th>\n",
       "      <td>CB VIDEO VISION</td>\n",
       "      <td>PHOTOGRAPHY</td>\n",
       "      <td>5.0</td>\n",
       "      <td>13</td>\n",
       "      <td>2.6</td>\n",
       "      <td>100</td>\n",
       "      <td>Free</td>\n",
       "      <td>0</td>\n",
       "      <td>Everyone</td>\n",
       "      <td>Photography</td>\n",
       "    </tr>\n",
       "    <tr>\n",
       "      <th>1222</th>\n",
       "      <td>Beacon Baptist Jupiter, FL</td>\n",
       "      <td>LIFESTYLE</td>\n",
       "      <td>5.0</td>\n",
       "      <td>14</td>\n",
       "      <td>2.6</td>\n",
       "      <td>100</td>\n",
       "      <td>Free</td>\n",
       "      <td>0</td>\n",
       "      <td>Everyone</td>\n",
       "      <td>Lifestyle</td>\n",
       "    </tr>\n",
       "    <tr>\n",
       "      <th>1214</th>\n",
       "      <td>BV Mobile Apps</td>\n",
       "      <td>PRODUCTIVITY</td>\n",
       "      <td>5.0</td>\n",
       "      <td>3</td>\n",
       "      <td>4.8</td>\n",
       "      <td>100</td>\n",
       "      <td>Free</td>\n",
       "      <td>0</td>\n",
       "      <td>Everyone</td>\n",
       "      <td>Productivity</td>\n",
       "    </tr>\n",
       "    <tr>\n",
       "      <th>2680</th>\n",
       "      <td>Florida Wildflowers</td>\n",
       "      <td>FAMILY</td>\n",
       "      <td>5.0</td>\n",
       "      <td>5</td>\n",
       "      <td>69.0</td>\n",
       "      <td>1,000</td>\n",
       "      <td>Free</td>\n",
       "      <td>0</td>\n",
       "      <td>Everyone</td>\n",
       "      <td>Education</td>\n",
       "    </tr>\n",
       "    <tr>\n",
       "      <th>1206</th>\n",
       "      <td>ADS-B Driver</td>\n",
       "      <td>TOOLS</td>\n",
       "      <td>5.0</td>\n",
       "      <td>2</td>\n",
       "      <td>6.3</td>\n",
       "      <td>100</td>\n",
       "      <td>Paid</td>\n",
       "      <td>$1.99</td>\n",
       "      <td>Everyone</td>\n",
       "      <td>Tools</td>\n",
       "    </tr>\n",
       "    <tr>\n",
       "      <th>2750</th>\n",
       "      <td>Superheroes, Marvel, DC, Comics, TV, Movies News</td>\n",
       "      <td>COMICS</td>\n",
       "      <td>5.0</td>\n",
       "      <td>34</td>\n",
       "      <td>12.0</td>\n",
       "      <td>5,000</td>\n",
       "      <td>Free</td>\n",
       "      <td>0</td>\n",
       "      <td>Everyone</td>\n",
       "      <td>Comics</td>\n",
       "    </tr>\n",
       "    <tr>\n",
       "      <th>1183</th>\n",
       "      <td>Railroad Radio Vancouver BC</td>\n",
       "      <td>FAMILY</td>\n",
       "      <td>5.0</td>\n",
       "      <td>4</td>\n",
       "      <td>1.7</td>\n",
       "      <td>100</td>\n",
       "      <td>Free</td>\n",
       "      <td>0</td>\n",
       "      <td>Teen</td>\n",
       "      <td>Entertainment</td>\n",
       "    </tr>\n",
       "  </tbody>\n",
       "</table>\n",
       "</div>"
      ],
      "text/plain": [
       "                                                   App      Category  Rating  \\\n",
       "21                                 KBA-EZ Health Guide       MEDICAL     5.0   \n",
       "1230                                      Sway Medical       MEDICAL     5.0   \n",
       "1227                                 AJ Men's Grooming     LIFESTYLE     5.0   \n",
       "1224                                    FK Dedinje BGD        SPORTS     5.0   \n",
       "1223                                   CB VIDEO VISION   PHOTOGRAPHY     5.0   \n",
       "1222                        Beacon Baptist Jupiter, FL     LIFESTYLE     5.0   \n",
       "1214                                    BV Mobile Apps  PRODUCTIVITY     5.0   \n",
       "2680                               Florida Wildflowers        FAMILY     5.0   \n",
       "1206                                      ADS-B Driver         TOOLS     5.0   \n",
       "2750  Superheroes, Marvel, DC, Comics, TV, Movies News        COMICS     5.0   \n",
       "1183                       Railroad Radio Vancouver BC        FAMILY     5.0   \n",
       "\n",
       "      Reviews  Size_MBs Installs  Type  Price Content_Rating         Genres  \n",
       "21          4      25.0        1  Free      0       Everyone        Medical  \n",
       "1230        3      22.0      100  Free      0       Everyone        Medical  \n",
       "1227        2      22.0      100  Free      0       Everyone      Lifestyle  \n",
       "1224       36       2.6      100  Free      0       Everyone         Sports  \n",
       "1223       13       2.6      100  Free      0       Everyone    Photography  \n",
       "1222       14       2.6      100  Free      0       Everyone      Lifestyle  \n",
       "1214        3       4.8      100  Free      0       Everyone   Productivity  \n",
       "2680        5      69.0    1,000  Free      0       Everyone      Education  \n",
       "1206        2       6.3      100  Paid  $1.99       Everyone          Tools  \n",
       "2750       34      12.0    5,000  Free      0       Everyone         Comics  \n",
       "1183        4       1.7      100  Free      0           Teen  Entertainment  "
      ]
     },
     "execution_count": 108,
     "metadata": {},
     "output_type": "execute_result"
    }
   ],
   "source": [
    "df_apps_clean.sort_values(by='Rating', ascending=False)[:11]"
   ]
  },
  {
   "cell_type": "markdown",
   "id": "3ae104c4",
   "metadata": {},
   "source": [
    "Only apps with very few reviews (and a low number on installs) have perfect 5 star ratings (most likely by friends and family).\n",
    "\n",
    "- What's the size in megabytes (MB) of the largest Android apps in the Google Play Store. Based on the data, do you think there could be a limit in place or can developers make apps as large as they please?"
   ]
  },
  {
   "cell_type": "code",
   "execution_count": 109,
   "id": "1437cb7d",
   "metadata": {},
   "outputs": [
    {
     "data": {
      "text/html": [
       "<div>\n",
       "<style scoped>\n",
       "    .dataframe tbody tr th:only-of-type {\n",
       "        vertical-align: middle;\n",
       "    }\n",
       "\n",
       "    .dataframe tbody tr th {\n",
       "        vertical-align: top;\n",
       "    }\n",
       "\n",
       "    .dataframe thead th {\n",
       "        text-align: right;\n",
       "    }\n",
       "</style>\n",
       "<table border=\"1\" class=\"dataframe\">\n",
       "  <thead>\n",
       "    <tr style=\"text-align: right;\">\n",
       "      <th></th>\n",
       "      <th>App</th>\n",
       "      <th>Category</th>\n",
       "      <th>Rating</th>\n",
       "      <th>Reviews</th>\n",
       "      <th>Size_MBs</th>\n",
       "      <th>Installs</th>\n",
       "      <th>Type</th>\n",
       "      <th>Price</th>\n",
       "      <th>Content_Rating</th>\n",
       "      <th>Genres</th>\n",
       "    </tr>\n",
       "  </thead>\n",
       "  <tbody>\n",
       "    <tr>\n",
       "      <th>9942</th>\n",
       "      <td>Talking Babsy Baby: Baby Games</td>\n",
       "      <td>LIFESTYLE</td>\n",
       "      <td>4.0</td>\n",
       "      <td>140995</td>\n",
       "      <td>100.0</td>\n",
       "      <td>10,000,000</td>\n",
       "      <td>Free</td>\n",
       "      <td>0</td>\n",
       "      <td>Everyone</td>\n",
       "      <td>Lifestyle;Pretend Play</td>\n",
       "    </tr>\n",
       "    <tr>\n",
       "      <th>10687</th>\n",
       "      <td>Hungry Shark Evolution</td>\n",
       "      <td>GAME</td>\n",
       "      <td>4.5</td>\n",
       "      <td>6074334</td>\n",
       "      <td>100.0</td>\n",
       "      <td>100,000,000</td>\n",
       "      <td>Free</td>\n",
       "      <td>0</td>\n",
       "      <td>Teen</td>\n",
       "      <td>Arcade</td>\n",
       "    </tr>\n",
       "    <tr>\n",
       "      <th>9943</th>\n",
       "      <td>Miami crime simulator</td>\n",
       "      <td>GAME</td>\n",
       "      <td>4.0</td>\n",
       "      <td>254518</td>\n",
       "      <td>100.0</td>\n",
       "      <td>10,000,000</td>\n",
       "      <td>Free</td>\n",
       "      <td>0</td>\n",
       "      <td>Mature 17+</td>\n",
       "      <td>Action</td>\n",
       "    </tr>\n",
       "    <tr>\n",
       "      <th>9944</th>\n",
       "      <td>Gangster Town: Vice District</td>\n",
       "      <td>FAMILY</td>\n",
       "      <td>4.3</td>\n",
       "      <td>65146</td>\n",
       "      <td>100.0</td>\n",
       "      <td>10,000,000</td>\n",
       "      <td>Free</td>\n",
       "      <td>0</td>\n",
       "      <td>Mature 17+</td>\n",
       "      <td>Simulation</td>\n",
       "    </tr>\n",
       "    <tr>\n",
       "      <th>3144</th>\n",
       "      <td>Vi Trainer</td>\n",
       "      <td>HEALTH_AND_FITNESS</td>\n",
       "      <td>3.6</td>\n",
       "      <td>124</td>\n",
       "      <td>100.0</td>\n",
       "      <td>5,000</td>\n",
       "      <td>Free</td>\n",
       "      <td>0</td>\n",
       "      <td>Everyone</td>\n",
       "      <td>Health &amp; Fitness</td>\n",
       "    </tr>\n",
       "  </tbody>\n",
       "</table>\n",
       "</div>"
      ],
      "text/plain": [
       "                                  App            Category  Rating  Reviews  \\\n",
       "9942   Talking Babsy Baby: Baby Games           LIFESTYLE     4.0   140995   \n",
       "10687          Hungry Shark Evolution                GAME     4.5  6074334   \n",
       "9943            Miami crime simulator                GAME     4.0   254518   \n",
       "9944     Gangster Town: Vice District              FAMILY     4.3    65146   \n",
       "3144                       Vi Trainer  HEALTH_AND_FITNESS     3.6      124   \n",
       "\n",
       "       Size_MBs     Installs  Type Price Content_Rating  \\\n",
       "9942      100.0   10,000,000  Free     0       Everyone   \n",
       "10687     100.0  100,000,000  Free     0           Teen   \n",
       "9943      100.0   10,000,000  Free     0     Mature 17+   \n",
       "9944      100.0   10,000,000  Free     0     Mature 17+   \n",
       "3144      100.0        5,000  Free     0       Everyone   \n",
       "\n",
       "                       Genres  \n",
       "9942   Lifestyle;Pretend Play  \n",
       "10687                  Arcade  \n",
       "9943                   Action  \n",
       "9944               Simulation  \n",
       "3144         Health & Fitness  "
      ]
     },
     "execution_count": 109,
     "metadata": {},
     "output_type": "execute_result"
    }
   ],
   "source": [
    "df_apps_clean.sort_values(by='Size_MBs', ascending=False).head()"
   ]
  },
  {
   "cell_type": "markdown",
   "id": "282a243e",
   "metadata": {},
   "source": [
    "Here we can clearly see that there seems to be an upper bound of 100 MB for the size of an app. A quick google search would also have revealed that this limit is imposed by the Google Play Store itself. It’s interesting to see that a number of apps actually hit that limit exactly.\n",
    "\n",
    "\n",
    "- Which apps have the highest number of reviews? Are there any paid apps among the top 50?"
   ]
  },
  {
   "cell_type": "code",
   "execution_count": 110,
   "id": "8408b5fb",
   "metadata": {},
   "outputs": [
    {
     "data": {
      "text/html": [
       "<div>\n",
       "<style scoped>\n",
       "    .dataframe tbody tr th:only-of-type {\n",
       "        vertical-align: middle;\n",
       "    }\n",
       "\n",
       "    .dataframe tbody tr th {\n",
       "        vertical-align: top;\n",
       "    }\n",
       "\n",
       "    .dataframe thead th {\n",
       "        text-align: right;\n",
       "    }\n",
       "</style>\n",
       "<table border=\"1\" class=\"dataframe\">\n",
       "  <thead>\n",
       "    <tr style=\"text-align: right;\">\n",
       "      <th></th>\n",
       "      <th>App</th>\n",
       "      <th>Category</th>\n",
       "      <th>Rating</th>\n",
       "      <th>Reviews</th>\n",
       "      <th>Size_MBs</th>\n",
       "      <th>Installs</th>\n",
       "      <th>Type</th>\n",
       "      <th>Price</th>\n",
       "      <th>Content_Rating</th>\n",
       "      <th>Genres</th>\n",
       "    </tr>\n",
       "  </thead>\n",
       "  <tbody>\n",
       "    <tr>\n",
       "      <th>10805</th>\n",
       "      <td>Facebook</td>\n",
       "      <td>SOCIAL</td>\n",
       "      <td>4.1</td>\n",
       "      <td>78158306</td>\n",
       "      <td>5.30</td>\n",
       "      <td>1,000,000,000</td>\n",
       "      <td>Free</td>\n",
       "      <td>0</td>\n",
       "      <td>Teen</td>\n",
       "      <td>Social</td>\n",
       "    </tr>\n",
       "    <tr>\n",
       "      <th>10785</th>\n",
       "      <td>WhatsApp Messenger</td>\n",
       "      <td>COMMUNICATION</td>\n",
       "      <td>4.4</td>\n",
       "      <td>69119316</td>\n",
       "      <td>3.50</td>\n",
       "      <td>1,000,000,000</td>\n",
       "      <td>Free</td>\n",
       "      <td>0</td>\n",
       "      <td>Everyone</td>\n",
       "      <td>Communication</td>\n",
       "    </tr>\n",
       "    <tr>\n",
       "      <th>10806</th>\n",
       "      <td>Instagram</td>\n",
       "      <td>SOCIAL</td>\n",
       "      <td>4.5</td>\n",
       "      <td>66577313</td>\n",
       "      <td>5.30</td>\n",
       "      <td>1,000,000,000</td>\n",
       "      <td>Free</td>\n",
       "      <td>0</td>\n",
       "      <td>Teen</td>\n",
       "      <td>Social</td>\n",
       "    </tr>\n",
       "    <tr>\n",
       "      <th>10784</th>\n",
       "      <td>Messenger – Text and Video Chat for Free</td>\n",
       "      <td>COMMUNICATION</td>\n",
       "      <td>4.0</td>\n",
       "      <td>56642847</td>\n",
       "      <td>3.50</td>\n",
       "      <td>1,000,000,000</td>\n",
       "      <td>Free</td>\n",
       "      <td>0</td>\n",
       "      <td>Everyone</td>\n",
       "      <td>Communication</td>\n",
       "    </tr>\n",
       "    <tr>\n",
       "      <th>10650</th>\n",
       "      <td>Clash of Clans</td>\n",
       "      <td>GAME</td>\n",
       "      <td>4.6</td>\n",
       "      <td>44891723</td>\n",
       "      <td>98.00</td>\n",
       "      <td>100,000,000</td>\n",
       "      <td>Free</td>\n",
       "      <td>0</td>\n",
       "      <td>Everyone 10+</td>\n",
       "      <td>Strategy</td>\n",
       "    </tr>\n",
       "    <tr>\n",
       "      <th>10744</th>\n",
       "      <td>Clean Master- Space Cleaner &amp; Antivirus</td>\n",
       "      <td>TOOLS</td>\n",
       "      <td>4.7</td>\n",
       "      <td>42916526</td>\n",
       "      <td>3.40</td>\n",
       "      <td>500,000,000</td>\n",
       "      <td>Free</td>\n",
       "      <td>0</td>\n",
       "      <td>Everyone</td>\n",
       "      <td>Tools</td>\n",
       "    </tr>\n",
       "    <tr>\n",
       "      <th>10835</th>\n",
       "      <td>Subway Surfers</td>\n",
       "      <td>GAME</td>\n",
       "      <td>4.5</td>\n",
       "      <td>27722264</td>\n",
       "      <td>76.00</td>\n",
       "      <td>1,000,000,000</td>\n",
       "      <td>Free</td>\n",
       "      <td>0</td>\n",
       "      <td>Everyone 10+</td>\n",
       "      <td>Arcade</td>\n",
       "    </tr>\n",
       "    <tr>\n",
       "      <th>10828</th>\n",
       "      <td>YouTube</td>\n",
       "      <td>VIDEO_PLAYERS</td>\n",
       "      <td>4.3</td>\n",
       "      <td>25655305</td>\n",
       "      <td>4.65</td>\n",
       "      <td>1,000,000,000</td>\n",
       "      <td>Free</td>\n",
       "      <td>0</td>\n",
       "      <td>Teen</td>\n",
       "      <td>Video Players &amp; Editors</td>\n",
       "    </tr>\n",
       "    <tr>\n",
       "      <th>10746</th>\n",
       "      <td>Security Master - Antivirus, VPN, AppLock, Boo...</td>\n",
       "      <td>TOOLS</td>\n",
       "      <td>4.7</td>\n",
       "      <td>24900999</td>\n",
       "      <td>3.40</td>\n",
       "      <td>500,000,000</td>\n",
       "      <td>Free</td>\n",
       "      <td>0</td>\n",
       "      <td>Everyone</td>\n",
       "      <td>Tools</td>\n",
       "    </tr>\n",
       "    <tr>\n",
       "      <th>10584</th>\n",
       "      <td>Clash Royale</td>\n",
       "      <td>GAME</td>\n",
       "      <td>4.6</td>\n",
       "      <td>23133508</td>\n",
       "      <td>97.00</td>\n",
       "      <td>100,000,000</td>\n",
       "      <td>Free</td>\n",
       "      <td>0</td>\n",
       "      <td>Everyone 10+</td>\n",
       "      <td>Strategy</td>\n",
       "    </tr>\n",
       "    <tr>\n",
       "      <th>10763</th>\n",
       "      <td>Candy Crush Saga</td>\n",
       "      <td>GAME</td>\n",
       "      <td>4.4</td>\n",
       "      <td>22426677</td>\n",
       "      <td>74.00</td>\n",
       "      <td>500,000,000</td>\n",
       "      <td>Free</td>\n",
       "      <td>0</td>\n",
       "      <td>Everyone</td>\n",
       "      <td>Casual</td>\n",
       "    </tr>\n",
       "    <tr>\n",
       "      <th>10770</th>\n",
       "      <td>UC Browser - Fast Download Private &amp; Secure</td>\n",
       "      <td>COMMUNICATION</td>\n",
       "      <td>4.5</td>\n",
       "      <td>17712922</td>\n",
       "      <td>40.00</td>\n",
       "      <td>500,000,000</td>\n",
       "      <td>Free</td>\n",
       "      <td>0</td>\n",
       "      <td>Teen</td>\n",
       "      <td>Communication</td>\n",
       "    </tr>\n",
       "    <tr>\n",
       "      <th>10735</th>\n",
       "      <td>Snapchat</td>\n",
       "      <td>SOCIAL</td>\n",
       "      <td>4.0</td>\n",
       "      <td>17014787</td>\n",
       "      <td>5.30</td>\n",
       "      <td>500,000,000</td>\n",
       "      <td>Free</td>\n",
       "      <td>0</td>\n",
       "      <td>Teen</td>\n",
       "      <td>Social</td>\n",
       "    </tr>\n",
       "    <tr>\n",
       "      <th>10489</th>\n",
       "      <td>360 Security - Free Antivirus, Booster, Cleaner</td>\n",
       "      <td>TOOLS</td>\n",
       "      <td>4.6</td>\n",
       "      <td>16771865</td>\n",
       "      <td>3.40</td>\n",
       "      <td>100,000,000</td>\n",
       "      <td>Free</td>\n",
       "      <td>0</td>\n",
       "      <td>Everyone</td>\n",
       "      <td>Tools</td>\n",
       "    </tr>\n",
       "    <tr>\n",
       "      <th>10731</th>\n",
       "      <td>My Talking Tom</td>\n",
       "      <td>GAME</td>\n",
       "      <td>4.5</td>\n",
       "      <td>14891223</td>\n",
       "      <td>36.00</td>\n",
       "      <td>500,000,000</td>\n",
       "      <td>Free</td>\n",
       "      <td>0</td>\n",
       "      <td>Everyone</td>\n",
       "      <td>Casual</td>\n",
       "    </tr>\n",
       "    <tr>\n",
       "      <th>10594</th>\n",
       "      <td>8 Ball Pool</td>\n",
       "      <td>GAME</td>\n",
       "      <td>4.5</td>\n",
       "      <td>14198297</td>\n",
       "      <td>52.00</td>\n",
       "      <td>100,000,000</td>\n",
       "      <td>Free</td>\n",
       "      <td>0</td>\n",
       "      <td>Everyone</td>\n",
       "      <td>Sports</td>\n",
       "    </tr>\n",
       "    <tr>\n",
       "      <th>10302</th>\n",
       "      <td>DU Battery Saver - Battery Charger &amp; Battery Life</td>\n",
       "      <td>TOOLS</td>\n",
       "      <td>4.5</td>\n",
       "      <td>13479633</td>\n",
       "      <td>14.00</td>\n",
       "      <td>100,000,000</td>\n",
       "      <td>Free</td>\n",
       "      <td>0</td>\n",
       "      <td>Everyone</td>\n",
       "      <td>Tools</td>\n",
       "    </tr>\n",
       "    <tr>\n",
       "      <th>10354</th>\n",
       "      <td>BBM - Free Calls &amp; Messages</td>\n",
       "      <td>COMMUNICATION</td>\n",
       "      <td>4.3</td>\n",
       "      <td>12842860</td>\n",
       "      <td>3.50</td>\n",
       "      <td>100,000,000</td>\n",
       "      <td>Free</td>\n",
       "      <td>0</td>\n",
       "      <td>Everyone</td>\n",
       "      <td>Communication</td>\n",
       "    </tr>\n",
       "    <tr>\n",
       "      <th>10549</th>\n",
       "      <td>Cache Cleaner-DU Speed Booster (booster &amp; clea...</td>\n",
       "      <td>TOOLS</td>\n",
       "      <td>4.5</td>\n",
       "      <td>12759663</td>\n",
       "      <td>15.00</td>\n",
       "      <td>100,000,000</td>\n",
       "      <td>Free</td>\n",
       "      <td>0</td>\n",
       "      <td>Everyone</td>\n",
       "      <td>Tools</td>\n",
       "    </tr>\n",
       "    <tr>\n",
       "      <th>10757</th>\n",
       "      <td>Twitter</td>\n",
       "      <td>NEWS_AND_MAGAZINES</td>\n",
       "      <td>4.3</td>\n",
       "      <td>11667403</td>\n",
       "      <td>6.30</td>\n",
       "      <td>500,000,000</td>\n",
       "      <td>Free</td>\n",
       "      <td>0</td>\n",
       "      <td>Mature 17+</td>\n",
       "      <td>News &amp; Magazines</td>\n",
       "    </tr>\n",
       "    <tr>\n",
       "      <th>10721</th>\n",
       "      <td>Viber Messenger</td>\n",
       "      <td>COMMUNICATION</td>\n",
       "      <td>4.3</td>\n",
       "      <td>11334799</td>\n",
       "      <td>3.50</td>\n",
       "      <td>500,000,000</td>\n",
       "      <td>Free</td>\n",
       "      <td>0</td>\n",
       "      <td>Everyone</td>\n",
       "      <td>Communication</td>\n",
       "    </tr>\n",
       "    <tr>\n",
       "      <th>10578</th>\n",
       "      <td>Shadow Fight 2</td>\n",
       "      <td>GAME</td>\n",
       "      <td>4.6</td>\n",
       "      <td>10979062</td>\n",
       "      <td>88.00</td>\n",
       "      <td>100,000,000</td>\n",
       "      <td>Free</td>\n",
       "      <td>0</td>\n",
       "      <td>Everyone 10+</td>\n",
       "      <td>Action</td>\n",
       "    </tr>\n",
       "    <tr>\n",
       "      <th>10813</th>\n",
       "      <td>Google Photos</td>\n",
       "      <td>PHOTOGRAPHY</td>\n",
       "      <td>4.5</td>\n",
       "      <td>10858556</td>\n",
       "      <td>6.90</td>\n",
       "      <td>1,000,000,000</td>\n",
       "      <td>Free</td>\n",
       "      <td>0</td>\n",
       "      <td>Everyone</td>\n",
       "      <td>Photography</td>\n",
       "    </tr>\n",
       "    <tr>\n",
       "      <th>10724</th>\n",
       "      <td>LINE: Free Calls &amp; Messages</td>\n",
       "      <td>COMMUNICATION</td>\n",
       "      <td>4.2</td>\n",
       "      <td>10790289</td>\n",
       "      <td>3.50</td>\n",
       "      <td>500,000,000</td>\n",
       "      <td>Free</td>\n",
       "      <td>0</td>\n",
       "      <td>Everyone</td>\n",
       "      <td>Communication</td>\n",
       "    </tr>\n",
       "    <tr>\n",
       "      <th>10717</th>\n",
       "      <td>Pou</td>\n",
       "      <td>GAME</td>\n",
       "      <td>4.3</td>\n",
       "      <td>10485308</td>\n",
       "      <td>24.00</td>\n",
       "      <td>500,000,000</td>\n",
       "      <td>Free</td>\n",
       "      <td>0</td>\n",
       "      <td>Everyone</td>\n",
       "      <td>Casual</td>\n",
       "    </tr>\n",
       "    <tr>\n",
       "      <th>10792</th>\n",
       "      <td>Skype - free IM &amp; video calls</td>\n",
       "      <td>COMMUNICATION</td>\n",
       "      <td>4.1</td>\n",
       "      <td>10484169</td>\n",
       "      <td>3.50</td>\n",
       "      <td>1,000,000,000</td>\n",
       "      <td>Free</td>\n",
       "      <td>0</td>\n",
       "      <td>Everyone</td>\n",
       "      <td>Communication</td>\n",
       "    </tr>\n",
       "    <tr>\n",
       "      <th>10628</th>\n",
       "      <td>Pokémon GO</td>\n",
       "      <td>GAME</td>\n",
       "      <td>4.1</td>\n",
       "      <td>10424925</td>\n",
       "      <td>85.00</td>\n",
       "      <td>100,000,000</td>\n",
       "      <td>Free</td>\n",
       "      <td>0</td>\n",
       "      <td>Everyone</td>\n",
       "      <td>Adventure</td>\n",
       "    </tr>\n",
       "    <tr>\n",
       "      <th>10388</th>\n",
       "      <td>Minion Rush: Despicable Me Official Game</td>\n",
       "      <td>GAME</td>\n",
       "      <td>4.5</td>\n",
       "      <td>10216538</td>\n",
       "      <td>36.00</td>\n",
       "      <td>100,000,000</td>\n",
       "      <td>Free</td>\n",
       "      <td>0</td>\n",
       "      <td>Everyone 10+</td>\n",
       "      <td>Casual;Action &amp; Adventure</td>\n",
       "    </tr>\n",
       "    <tr>\n",
       "      <th>10694</th>\n",
       "      <td>Yes day</td>\n",
       "      <td>GAME</td>\n",
       "      <td>4.5</td>\n",
       "      <td>10055521</td>\n",
       "      <td>94.00</td>\n",
       "      <td>100,000,000</td>\n",
       "      <td>Free</td>\n",
       "      <td>0</td>\n",
       "      <td>Everyone</td>\n",
       "      <td>Casual</td>\n",
       "    </tr>\n",
       "    <tr>\n",
       "      <th>10695</th>\n",
       "      <td>Hay Day</td>\n",
       "      <td>FAMILY</td>\n",
       "      <td>4.5</td>\n",
       "      <td>10053186</td>\n",
       "      <td>94.00</td>\n",
       "      <td>100,000,000</td>\n",
       "      <td>Free</td>\n",
       "      <td>0</td>\n",
       "      <td>Everyone</td>\n",
       "      <td>Casual</td>\n",
       "    </tr>\n",
       "    <tr>\n",
       "      <th>10644</th>\n",
       "      <td>Dream League Soccer 2018</td>\n",
       "      <td>GAME</td>\n",
       "      <td>4.6</td>\n",
       "      <td>9882639</td>\n",
       "      <td>74.00</td>\n",
       "      <td>100,000,000</td>\n",
       "      <td>Free</td>\n",
       "      <td>0</td>\n",
       "      <td>Everyone</td>\n",
       "      <td>Sports</td>\n",
       "    </tr>\n",
       "    <tr>\n",
       "      <th>10696</th>\n",
       "      <td>My Talking Angela</td>\n",
       "      <td>GAME</td>\n",
       "      <td>4.5</td>\n",
       "      <td>9881829</td>\n",
       "      <td>99.00</td>\n",
       "      <td>100,000,000</td>\n",
       "      <td>Free</td>\n",
       "      <td>0</td>\n",
       "      <td>Everyone</td>\n",
       "      <td>Casual</td>\n",
       "    </tr>\n",
       "    <tr>\n",
       "      <th>10660</th>\n",
       "      <td>VivaVideo - Video Editor &amp; Photo Movie</td>\n",
       "      <td>VIDEO_PLAYERS</td>\n",
       "      <td>4.6</td>\n",
       "      <td>9879473</td>\n",
       "      <td>40.00</td>\n",
       "      <td>100,000,000</td>\n",
       "      <td>Free</td>\n",
       "      <td>0</td>\n",
       "      <td>Teen</td>\n",
       "      <td>Video Players &amp; Editors</td>\n",
       "    </tr>\n",
       "    <tr>\n",
       "      <th>10786</th>\n",
       "      <td>Google Chrome: Fast &amp; Secure</td>\n",
       "      <td>COMMUNICATION</td>\n",
       "      <td>4.3</td>\n",
       "      <td>9642995</td>\n",
       "      <td>3.50</td>\n",
       "      <td>1,000,000,000</td>\n",
       "      <td>Free</td>\n",
       "      <td>0</td>\n",
       "      <td>Everyone</td>\n",
       "      <td>Communication</td>\n",
       "    </tr>\n",
       "    <tr>\n",
       "      <th>10817</th>\n",
       "      <td>Maps - Navigate &amp; Explore</td>\n",
       "      <td>TRAVEL_AND_LOCAL</td>\n",
       "      <td>4.3</td>\n",
       "      <td>9235155</td>\n",
       "      <td>12.00</td>\n",
       "      <td>1,000,000,000</td>\n",
       "      <td>Free</td>\n",
       "      <td>0</td>\n",
       "      <td>Everyone</td>\n",
       "      <td>Travel &amp; Local</td>\n",
       "    </tr>\n",
       "    <tr>\n",
       "      <th>10672</th>\n",
       "      <td>Hill Climb Racing</td>\n",
       "      <td>GAME</td>\n",
       "      <td>4.4</td>\n",
       "      <td>8923587</td>\n",
       "      <td>63.00</td>\n",
       "      <td>100,000,000</td>\n",
       "      <td>Free</td>\n",
       "      <td>0</td>\n",
       "      <td>Everyone</td>\n",
       "      <td>Racing</td>\n",
       "    </tr>\n",
       "    <tr>\n",
       "      <th>10734</th>\n",
       "      <td>Facebook Lite</td>\n",
       "      <td>SOCIAL</td>\n",
       "      <td>4.3</td>\n",
       "      <td>8606259</td>\n",
       "      <td>5.30</td>\n",
       "      <td>500,000,000</td>\n",
       "      <td>Free</td>\n",
       "      <td>0</td>\n",
       "      <td>Teen</td>\n",
       "      <td>Social</td>\n",
       "    </tr>\n",
       "    <tr>\n",
       "      <th>10649</th>\n",
       "      <td>Asphalt 8: Airborne</td>\n",
       "      <td>GAME</td>\n",
       "      <td>4.5</td>\n",
       "      <td>8389714</td>\n",
       "      <td>92.00</td>\n",
       "      <td>100,000,000</td>\n",
       "      <td>Free</td>\n",
       "      <td>0</td>\n",
       "      <td>Teen</td>\n",
       "      <td>Racing</td>\n",
       "    </tr>\n",
       "    <tr>\n",
       "      <th>10699</th>\n",
       "      <td>Mobile Legends: Bang Bang</td>\n",
       "      <td>GAME</td>\n",
       "      <td>4.4</td>\n",
       "      <td>8219586</td>\n",
       "      <td>99.00</td>\n",
       "      <td>100,000,000</td>\n",
       "      <td>Free</td>\n",
       "      <td>0</td>\n",
       "      <td>Teen</td>\n",
       "      <td>Action</td>\n",
       "    </tr>\n",
       "    <tr>\n",
       "      <th>10322</th>\n",
       "      <td>Battery Doctor-Battery Life Saver &amp; Battery Co...</td>\n",
       "      <td>TOOLS</td>\n",
       "      <td>4.5</td>\n",
       "      <td>8190074</td>\n",
       "      <td>17.00</td>\n",
       "      <td>100,000,000</td>\n",
       "      <td>Free</td>\n",
       "      <td>0</td>\n",
       "      <td>Everyone</td>\n",
       "      <td>Tools</td>\n",
       "    </tr>\n",
       "    <tr>\n",
       "      <th>10396</th>\n",
       "      <td>Piano Tiles 2™</td>\n",
       "      <td>GAME</td>\n",
       "      <td>4.7</td>\n",
       "      <td>8118880</td>\n",
       "      <td>36.00</td>\n",
       "      <td>100,000,000</td>\n",
       "      <td>Free</td>\n",
       "      <td>0</td>\n",
       "      <td>Everyone</td>\n",
       "      <td>Arcade</td>\n",
       "    </tr>\n",
       "    <tr>\n",
       "      <th>10777</th>\n",
       "      <td>Temple Run 2</td>\n",
       "      <td>GAME</td>\n",
       "      <td>4.3</td>\n",
       "      <td>8118609</td>\n",
       "      <td>62.00</td>\n",
       "      <td>500,000,000</td>\n",
       "      <td>Free</td>\n",
       "      <td>0</td>\n",
       "      <td>Everyone</td>\n",
       "      <td>Action</td>\n",
       "    </tr>\n",
       "    <tr>\n",
       "      <th>10822</th>\n",
       "      <td>Google</td>\n",
       "      <td>TOOLS</td>\n",
       "      <td>4.4</td>\n",
       "      <td>8033493</td>\n",
       "      <td>3.40</td>\n",
       "      <td>1,000,000,000</td>\n",
       "      <td>Free</td>\n",
       "      <td>0</td>\n",
       "      <td>Everyone</td>\n",
       "      <td>Tools</td>\n",
       "    </tr>\n",
       "    <tr>\n",
       "      <th>10359</th>\n",
       "      <td>Truecaller: Caller ID, SMS spam blocking &amp; Dialer</td>\n",
       "      <td>COMMUNICATION</td>\n",
       "      <td>4.5</td>\n",
       "      <td>7820209</td>\n",
       "      <td>3.50</td>\n",
       "      <td>100,000,000</td>\n",
       "      <td>Free</td>\n",
       "      <td>0</td>\n",
       "      <td>Everyone</td>\n",
       "      <td>Communication</td>\n",
       "    </tr>\n",
       "    <tr>\n",
       "      <th>10711</th>\n",
       "      <td>SHAREit - Transfer &amp; Share</td>\n",
       "      <td>TOOLS</td>\n",
       "      <td>4.6</td>\n",
       "      <td>7790693</td>\n",
       "      <td>17.00</td>\n",
       "      <td>500,000,000</td>\n",
       "      <td>Free</td>\n",
       "      <td>0</td>\n",
       "      <td>Everyone</td>\n",
       "      <td>Tools</td>\n",
       "    </tr>\n",
       "    <tr>\n",
       "      <th>10389</th>\n",
       "      <td>Sniper 3D Gun Shooter: Free Shooting Games - FPS</td>\n",
       "      <td>GAME</td>\n",
       "      <td>4.6</td>\n",
       "      <td>7671249</td>\n",
       "      <td>36.00</td>\n",
       "      <td>100,000,000</td>\n",
       "      <td>Free</td>\n",
       "      <td>0</td>\n",
       "      <td>Mature 17+</td>\n",
       "      <td>Action</td>\n",
       "    </tr>\n",
       "    <tr>\n",
       "      <th>10676</th>\n",
       "      <td>Farm Heroes Saga</td>\n",
       "      <td>GAME</td>\n",
       "      <td>4.4</td>\n",
       "      <td>7614130</td>\n",
       "      <td>70.00</td>\n",
       "      <td>100,000,000</td>\n",
       "      <td>Free</td>\n",
       "      <td>0</td>\n",
       "      <td>Everyone</td>\n",
       "      <td>Casual</td>\n",
       "    </tr>\n",
       "    <tr>\n",
       "      <th>10576</th>\n",
       "      <td>PicsArt Photo Studio: Collage Maker &amp; Pic Editor</td>\n",
       "      <td>PHOTOGRAPHY</td>\n",
       "      <td>4.5</td>\n",
       "      <td>7594559</td>\n",
       "      <td>34.00</td>\n",
       "      <td>100,000,000</td>\n",
       "      <td>Free</td>\n",
       "      <td>0</td>\n",
       "      <td>Teen</td>\n",
       "      <td>Photography</td>\n",
       "    </tr>\n",
       "    <tr>\n",
       "      <th>10461</th>\n",
       "      <td>PhotoGrid: Video &amp; Pic Collage Maker, Photo Ed...</td>\n",
       "      <td>PHOTOGRAPHY</td>\n",
       "      <td>4.6</td>\n",
       "      <td>7529865</td>\n",
       "      <td>6.90</td>\n",
       "      <td>100,000,000</td>\n",
       "      <td>Free</td>\n",
       "      <td>0</td>\n",
       "      <td>Everyone</td>\n",
       "      <td>Photography</td>\n",
       "    </tr>\n",
       "    <tr>\n",
       "      <th>10502</th>\n",
       "      <td>GO Launcher - 3D parallax Themes &amp; HD Wallpapers</td>\n",
       "      <td>PERSONALIZATION</td>\n",
       "      <td>4.5</td>\n",
       "      <td>7464996</td>\n",
       "      <td>6.15</td>\n",
       "      <td>100,000,000</td>\n",
       "      <td>Free</td>\n",
       "      <td>0</td>\n",
       "      <td>Everyone</td>\n",
       "      <td>Personalization</td>\n",
       "    </tr>\n",
       "  </tbody>\n",
       "</table>\n",
       "</div>"
      ],
      "text/plain": [
       "                                                     App            Category  \\\n",
       "10805                                           Facebook              SOCIAL   \n",
       "10785                                 WhatsApp Messenger       COMMUNICATION   \n",
       "10806                                          Instagram              SOCIAL   \n",
       "10784           Messenger – Text and Video Chat for Free       COMMUNICATION   \n",
       "10650                                     Clash of Clans                GAME   \n",
       "10744            Clean Master- Space Cleaner & Antivirus               TOOLS   \n",
       "10835                                     Subway Surfers                GAME   \n",
       "10828                                            YouTube       VIDEO_PLAYERS   \n",
       "10746  Security Master - Antivirus, VPN, AppLock, Boo...               TOOLS   \n",
       "10584                                       Clash Royale                GAME   \n",
       "10763                                   Candy Crush Saga                GAME   \n",
       "10770        UC Browser - Fast Download Private & Secure       COMMUNICATION   \n",
       "10735                                           Snapchat              SOCIAL   \n",
       "10489    360 Security - Free Antivirus, Booster, Cleaner               TOOLS   \n",
       "10731                                     My Talking Tom                GAME   \n",
       "10594                                        8 Ball Pool                GAME   \n",
       "10302  DU Battery Saver - Battery Charger & Battery Life               TOOLS   \n",
       "10354                        BBM - Free Calls & Messages       COMMUNICATION   \n",
       "10549  Cache Cleaner-DU Speed Booster (booster & clea...               TOOLS   \n",
       "10757                                            Twitter  NEWS_AND_MAGAZINES   \n",
       "10721                                    Viber Messenger       COMMUNICATION   \n",
       "10578                                     Shadow Fight 2                GAME   \n",
       "10813                                      Google Photos         PHOTOGRAPHY   \n",
       "10724                        LINE: Free Calls & Messages       COMMUNICATION   \n",
       "10717                                                Pou                GAME   \n",
       "10792                      Skype - free IM & video calls       COMMUNICATION   \n",
       "10628                                         Pokémon GO                GAME   \n",
       "10388           Minion Rush: Despicable Me Official Game                GAME   \n",
       "10694                                            Yes day                GAME   \n",
       "10695                                            Hay Day              FAMILY   \n",
       "10644                           Dream League Soccer 2018                GAME   \n",
       "10696                                  My Talking Angela                GAME   \n",
       "10660             VivaVideo - Video Editor & Photo Movie       VIDEO_PLAYERS   \n",
       "10786                       Google Chrome: Fast & Secure       COMMUNICATION   \n",
       "10817                          Maps - Navigate & Explore    TRAVEL_AND_LOCAL   \n",
       "10672                                  Hill Climb Racing                GAME   \n",
       "10734                                      Facebook Lite              SOCIAL   \n",
       "10649                                Asphalt 8: Airborne                GAME   \n",
       "10699                          Mobile Legends: Bang Bang                GAME   \n",
       "10322  Battery Doctor-Battery Life Saver & Battery Co...               TOOLS   \n",
       "10396                                     Piano Tiles 2™                GAME   \n",
       "10777                                       Temple Run 2                GAME   \n",
       "10822                                             Google               TOOLS   \n",
       "10359  Truecaller: Caller ID, SMS spam blocking & Dialer       COMMUNICATION   \n",
       "10711                         SHAREit - Transfer & Share               TOOLS   \n",
       "10389   Sniper 3D Gun Shooter: Free Shooting Games - FPS                GAME   \n",
       "10676                                   Farm Heroes Saga                GAME   \n",
       "10576   PicsArt Photo Studio: Collage Maker & Pic Editor         PHOTOGRAPHY   \n",
       "10461  PhotoGrid: Video & Pic Collage Maker, Photo Ed...         PHOTOGRAPHY   \n",
       "10502   GO Launcher - 3D parallax Themes & HD Wallpapers     PERSONALIZATION   \n",
       "\n",
       "       Rating   Reviews  Size_MBs       Installs  Type Price Content_Rating  \\\n",
       "10805     4.1  78158306      5.30  1,000,000,000  Free     0           Teen   \n",
       "10785     4.4  69119316      3.50  1,000,000,000  Free     0       Everyone   \n",
       "10806     4.5  66577313      5.30  1,000,000,000  Free     0           Teen   \n",
       "10784     4.0  56642847      3.50  1,000,000,000  Free     0       Everyone   \n",
       "10650     4.6  44891723     98.00    100,000,000  Free     0   Everyone 10+   \n",
       "10744     4.7  42916526      3.40    500,000,000  Free     0       Everyone   \n",
       "10835     4.5  27722264     76.00  1,000,000,000  Free     0   Everyone 10+   \n",
       "10828     4.3  25655305      4.65  1,000,000,000  Free     0           Teen   \n",
       "10746     4.7  24900999      3.40    500,000,000  Free     0       Everyone   \n",
       "10584     4.6  23133508     97.00    100,000,000  Free     0   Everyone 10+   \n",
       "10763     4.4  22426677     74.00    500,000,000  Free     0       Everyone   \n",
       "10770     4.5  17712922     40.00    500,000,000  Free     0           Teen   \n",
       "10735     4.0  17014787      5.30    500,000,000  Free     0           Teen   \n",
       "10489     4.6  16771865      3.40    100,000,000  Free     0       Everyone   \n",
       "10731     4.5  14891223     36.00    500,000,000  Free     0       Everyone   \n",
       "10594     4.5  14198297     52.00    100,000,000  Free     0       Everyone   \n",
       "10302     4.5  13479633     14.00    100,000,000  Free     0       Everyone   \n",
       "10354     4.3  12842860      3.50    100,000,000  Free     0       Everyone   \n",
       "10549     4.5  12759663     15.00    100,000,000  Free     0       Everyone   \n",
       "10757     4.3  11667403      6.30    500,000,000  Free     0     Mature 17+   \n",
       "10721     4.3  11334799      3.50    500,000,000  Free     0       Everyone   \n",
       "10578     4.6  10979062     88.00    100,000,000  Free     0   Everyone 10+   \n",
       "10813     4.5  10858556      6.90  1,000,000,000  Free     0       Everyone   \n",
       "10724     4.2  10790289      3.50    500,000,000  Free     0       Everyone   \n",
       "10717     4.3  10485308     24.00    500,000,000  Free     0       Everyone   \n",
       "10792     4.1  10484169      3.50  1,000,000,000  Free     0       Everyone   \n",
       "10628     4.1  10424925     85.00    100,000,000  Free     0       Everyone   \n",
       "10388     4.5  10216538     36.00    100,000,000  Free     0   Everyone 10+   \n",
       "10694     4.5  10055521     94.00    100,000,000  Free     0       Everyone   \n",
       "10695     4.5  10053186     94.00    100,000,000  Free     0       Everyone   \n",
       "10644     4.6   9882639     74.00    100,000,000  Free     0       Everyone   \n",
       "10696     4.5   9881829     99.00    100,000,000  Free     0       Everyone   \n",
       "10660     4.6   9879473     40.00    100,000,000  Free     0           Teen   \n",
       "10786     4.3   9642995      3.50  1,000,000,000  Free     0       Everyone   \n",
       "10817     4.3   9235155     12.00  1,000,000,000  Free     0       Everyone   \n",
       "10672     4.4   8923587     63.00    100,000,000  Free     0       Everyone   \n",
       "10734     4.3   8606259      5.30    500,000,000  Free     0           Teen   \n",
       "10649     4.5   8389714     92.00    100,000,000  Free     0           Teen   \n",
       "10699     4.4   8219586     99.00    100,000,000  Free     0           Teen   \n",
       "10322     4.5   8190074     17.00    100,000,000  Free     0       Everyone   \n",
       "10396     4.7   8118880     36.00    100,000,000  Free     0       Everyone   \n",
       "10777     4.3   8118609     62.00    500,000,000  Free     0       Everyone   \n",
       "10822     4.4   8033493      3.40  1,000,000,000  Free     0       Everyone   \n",
       "10359     4.5   7820209      3.50    100,000,000  Free     0       Everyone   \n",
       "10711     4.6   7790693     17.00    500,000,000  Free     0       Everyone   \n",
       "10389     4.6   7671249     36.00    100,000,000  Free     0     Mature 17+   \n",
       "10676     4.4   7614130     70.00    100,000,000  Free     0       Everyone   \n",
       "10576     4.5   7594559     34.00    100,000,000  Free     0           Teen   \n",
       "10461     4.6   7529865      6.90    100,000,000  Free     0       Everyone   \n",
       "10502     4.5   7464996      6.15    100,000,000  Free     0       Everyone   \n",
       "\n",
       "                          Genres  \n",
       "10805                     Social  \n",
       "10785              Communication  \n",
       "10806                     Social  \n",
       "10784              Communication  \n",
       "10650                   Strategy  \n",
       "10744                      Tools  \n",
       "10835                     Arcade  \n",
       "10828    Video Players & Editors  \n",
       "10746                      Tools  \n",
       "10584                   Strategy  \n",
       "10763                     Casual  \n",
       "10770              Communication  \n",
       "10735                     Social  \n",
       "10489                      Tools  \n",
       "10731                     Casual  \n",
       "10594                     Sports  \n",
       "10302                      Tools  \n",
       "10354              Communication  \n",
       "10549                      Tools  \n",
       "10757           News & Magazines  \n",
       "10721              Communication  \n",
       "10578                     Action  \n",
       "10813                Photography  \n",
       "10724              Communication  \n",
       "10717                     Casual  \n",
       "10792              Communication  \n",
       "10628                  Adventure  \n",
       "10388  Casual;Action & Adventure  \n",
       "10694                     Casual  \n",
       "10695                     Casual  \n",
       "10644                     Sports  \n",
       "10696                     Casual  \n",
       "10660    Video Players & Editors  \n",
       "10786              Communication  \n",
       "10817             Travel & Local  \n",
       "10672                     Racing  \n",
       "10734                     Social  \n",
       "10649                     Racing  \n",
       "10699                     Action  \n",
       "10322                      Tools  \n",
       "10396                     Arcade  \n",
       "10777                     Action  \n",
       "10822                      Tools  \n",
       "10359              Communication  \n",
       "10711                      Tools  \n",
       "10389                     Action  \n",
       "10676                     Casual  \n",
       "10576                Photography  \n",
       "10461                Photography  \n",
       "10502            Personalization  "
      ]
     },
     "execution_count": 110,
     "metadata": {},
     "output_type": "execute_result"
    }
   ],
   "source": [
    "df_apps_clean.sort_values(by='Reviews', ascending=False).head(n=50)"
   ]
  },
  {
   "cell_type": "markdown",
   "id": "17db5573",
   "metadata": {},
   "source": [
    "If you look at the number of reviews, you can find the most popular apps on the Android App Store. These include the usual suspects: Facebook, WhatsApp, Instagram etc. What’s also notable is that the list of the top 50 most reviewed apps does not include a single paid app! 🤔\n",
    "\n"
   ]
  },
  {
   "cell_type": "markdown",
   "id": "0076eb0f",
   "metadata": {},
   "source": [
    "# Data Visualisation with Plotly: Create Pie and Donut Charts\n",
    "\n",
    "All Android apps have a content rating like “Everyone” or “Teen” or “Mature 17+”. Let’s take a look at the distribution of the content ratings in our dataset and see how to visualise it with [plotly](https://plotly.com/python/) - a popular data visualisation library that you can use alongside or instead of Matplotlib.\n",
    "\n",
    "First, we’ll count the number of occurrences of each rating with `.value_counts()`\n",
    "\n"
   ]
  },
  {
   "cell_type": "code",
   "execution_count": 111,
   "id": "181cc26b",
   "metadata": {},
   "outputs": [
    {
     "data": {
      "text/plain": [
       "Content_Rating\n",
       "Everyone           6621\n",
       "Teen                912\n",
       "Mature 17+          357\n",
       "Everyone 10+        305\n",
       "Adults only 18+       3\n",
       "Unrated               1\n",
       "Name: count, dtype: int64"
      ]
     },
     "execution_count": 111,
     "metadata": {},
     "output_type": "execute_result"
    }
   ],
   "source": [
    "ratings = df_apps_clean.Content_Rating.value_counts()\n",
    "ratings"
   ]
  },
  {
   "cell_type": "markdown",
   "id": "83646019",
   "metadata": {},
   "source": [
    "The first step in creating charts with plotly is to import plotly.express. This is the fastest way to create a beautiful graphic with a minimal amount of code in plotly.\n",
    "\n",
    "## Import Statements\n"
   ]
  },
  {
   "cell_type": "code",
   "execution_count": 112,
   "id": "f9ddba52",
   "metadata": {},
   "outputs": [],
   "source": [
    "import plotly.express as px"
   ]
  },
  {
   "cell_type": "markdown",
   "id": "eb2bb3c3",
   "metadata": {},
   "source": [
    "To create a pie chart we simply call `px.pie()` and then `.show()` the resulting figure. Plotly refers to all their figures, be they line charts, bar charts, or pie charts as graph_objects.\n",
    "\n"
   ]
  },
  {
   "cell_type": "code",
   "execution_count": 113,
   "id": "511f741c",
   "metadata": {},
   "outputs": [
    {
     "data": {
      "application/vnd.plotly.v1+json": {
       "config": {
        "plotlyServerURL": "https://plot.ly"
       },
       "data": [
        {
         "domain": {
          "x": [
           0,
           1
          ],
          "y": [
           0,
           1
          ]
         },
         "hovertemplate": "value=%{value}<extra></extra>",
         "legendgroup": "",
         "name": "",
         "showlegend": false,
         "type": "pie",
         "values": {
          "bdata": "3RmQA2UBMQEDAAEA",
          "dtype": "i2"
         }
        }
       ],
       "layout": {
        "legend": {
         "tracegroupgap": 0
        },
        "margin": {
         "t": 60
        },
        "template": {
         "data": {
          "bar": [
           {
            "error_x": {
             "color": "#2a3f5f"
            },
            "error_y": {
             "color": "#2a3f5f"
            },
            "marker": {
             "line": {
              "color": "#E5ECF6",
              "width": 0.5
             },
             "pattern": {
              "fillmode": "overlay",
              "size": 10,
              "solidity": 0.2
             }
            },
            "type": "bar"
           }
          ],
          "barpolar": [
           {
            "marker": {
             "line": {
              "color": "#E5ECF6",
              "width": 0.5
             },
             "pattern": {
              "fillmode": "overlay",
              "size": 10,
              "solidity": 0.2
             }
            },
            "type": "barpolar"
           }
          ],
          "carpet": [
           {
            "aaxis": {
             "endlinecolor": "#2a3f5f",
             "gridcolor": "white",
             "linecolor": "white",
             "minorgridcolor": "white",
             "startlinecolor": "#2a3f5f"
            },
            "baxis": {
             "endlinecolor": "#2a3f5f",
             "gridcolor": "white",
             "linecolor": "white",
             "minorgridcolor": "white",
             "startlinecolor": "#2a3f5f"
            },
            "type": "carpet"
           }
          ],
          "choropleth": [
           {
            "colorbar": {
             "outlinewidth": 0,
             "ticks": ""
            },
            "type": "choropleth"
           }
          ],
          "contour": [
           {
            "colorbar": {
             "outlinewidth": 0,
             "ticks": ""
            },
            "colorscale": [
             [
              0,
              "#0d0887"
             ],
             [
              0.1111111111111111,
              "#46039f"
             ],
             [
              0.2222222222222222,
              "#7201a8"
             ],
             [
              0.3333333333333333,
              "#9c179e"
             ],
             [
              0.4444444444444444,
              "#bd3786"
             ],
             [
              0.5555555555555556,
              "#d8576b"
             ],
             [
              0.6666666666666666,
              "#ed7953"
             ],
             [
              0.7777777777777778,
              "#fb9f3a"
             ],
             [
              0.8888888888888888,
              "#fdca26"
             ],
             [
              1,
              "#f0f921"
             ]
            ],
            "type": "contour"
           }
          ],
          "contourcarpet": [
           {
            "colorbar": {
             "outlinewidth": 0,
             "ticks": ""
            },
            "type": "contourcarpet"
           }
          ],
          "heatmap": [
           {
            "colorbar": {
             "outlinewidth": 0,
             "ticks": ""
            },
            "colorscale": [
             [
              0,
              "#0d0887"
             ],
             [
              0.1111111111111111,
              "#46039f"
             ],
             [
              0.2222222222222222,
              "#7201a8"
             ],
             [
              0.3333333333333333,
              "#9c179e"
             ],
             [
              0.4444444444444444,
              "#bd3786"
             ],
             [
              0.5555555555555556,
              "#d8576b"
             ],
             [
              0.6666666666666666,
              "#ed7953"
             ],
             [
              0.7777777777777778,
              "#fb9f3a"
             ],
             [
              0.8888888888888888,
              "#fdca26"
             ],
             [
              1,
              "#f0f921"
             ]
            ],
            "type": "heatmap"
           }
          ],
          "histogram": [
           {
            "marker": {
             "pattern": {
              "fillmode": "overlay",
              "size": 10,
              "solidity": 0.2
             }
            },
            "type": "histogram"
           }
          ],
          "histogram2d": [
           {
            "colorbar": {
             "outlinewidth": 0,
             "ticks": ""
            },
            "colorscale": [
             [
              0,
              "#0d0887"
             ],
             [
              0.1111111111111111,
              "#46039f"
             ],
             [
              0.2222222222222222,
              "#7201a8"
             ],
             [
              0.3333333333333333,
              "#9c179e"
             ],
             [
              0.4444444444444444,
              "#bd3786"
             ],
             [
              0.5555555555555556,
              "#d8576b"
             ],
             [
              0.6666666666666666,
              "#ed7953"
             ],
             [
              0.7777777777777778,
              "#fb9f3a"
             ],
             [
              0.8888888888888888,
              "#fdca26"
             ],
             [
              1,
              "#f0f921"
             ]
            ],
            "type": "histogram2d"
           }
          ],
          "histogram2dcontour": [
           {
            "colorbar": {
             "outlinewidth": 0,
             "ticks": ""
            },
            "colorscale": [
             [
              0,
              "#0d0887"
             ],
             [
              0.1111111111111111,
              "#46039f"
             ],
             [
              0.2222222222222222,
              "#7201a8"
             ],
             [
              0.3333333333333333,
              "#9c179e"
             ],
             [
              0.4444444444444444,
              "#bd3786"
             ],
             [
              0.5555555555555556,
              "#d8576b"
             ],
             [
              0.6666666666666666,
              "#ed7953"
             ],
             [
              0.7777777777777778,
              "#fb9f3a"
             ],
             [
              0.8888888888888888,
              "#fdca26"
             ],
             [
              1,
              "#f0f921"
             ]
            ],
            "type": "histogram2dcontour"
           }
          ],
          "mesh3d": [
           {
            "colorbar": {
             "outlinewidth": 0,
             "ticks": ""
            },
            "type": "mesh3d"
           }
          ],
          "parcoords": [
           {
            "line": {
             "colorbar": {
              "outlinewidth": 0,
              "ticks": ""
             }
            },
            "type": "parcoords"
           }
          ],
          "pie": [
           {
            "automargin": true,
            "type": "pie"
           }
          ],
          "scatter": [
           {
            "fillpattern": {
             "fillmode": "overlay",
             "size": 10,
             "solidity": 0.2
            },
            "type": "scatter"
           }
          ],
          "scatter3d": [
           {
            "line": {
             "colorbar": {
              "outlinewidth": 0,
              "ticks": ""
             }
            },
            "marker": {
             "colorbar": {
              "outlinewidth": 0,
              "ticks": ""
             }
            },
            "type": "scatter3d"
           }
          ],
          "scattercarpet": [
           {
            "marker": {
             "colorbar": {
              "outlinewidth": 0,
              "ticks": ""
             }
            },
            "type": "scattercarpet"
           }
          ],
          "scattergeo": [
           {
            "marker": {
             "colorbar": {
              "outlinewidth": 0,
              "ticks": ""
             }
            },
            "type": "scattergeo"
           }
          ],
          "scattergl": [
           {
            "marker": {
             "colorbar": {
              "outlinewidth": 0,
              "ticks": ""
             }
            },
            "type": "scattergl"
           }
          ],
          "scattermap": [
           {
            "marker": {
             "colorbar": {
              "outlinewidth": 0,
              "ticks": ""
             }
            },
            "type": "scattermap"
           }
          ],
          "scattermapbox": [
           {
            "marker": {
             "colorbar": {
              "outlinewidth": 0,
              "ticks": ""
             }
            },
            "type": "scattermapbox"
           }
          ],
          "scatterpolar": [
           {
            "marker": {
             "colorbar": {
              "outlinewidth": 0,
              "ticks": ""
             }
            },
            "type": "scatterpolar"
           }
          ],
          "scatterpolargl": [
           {
            "marker": {
             "colorbar": {
              "outlinewidth": 0,
              "ticks": ""
             }
            },
            "type": "scatterpolargl"
           }
          ],
          "scatterternary": [
           {
            "marker": {
             "colorbar": {
              "outlinewidth": 0,
              "ticks": ""
             }
            },
            "type": "scatterternary"
           }
          ],
          "surface": [
           {
            "colorbar": {
             "outlinewidth": 0,
             "ticks": ""
            },
            "colorscale": [
             [
              0,
              "#0d0887"
             ],
             [
              0.1111111111111111,
              "#46039f"
             ],
             [
              0.2222222222222222,
              "#7201a8"
             ],
             [
              0.3333333333333333,
              "#9c179e"
             ],
             [
              0.4444444444444444,
              "#bd3786"
             ],
             [
              0.5555555555555556,
              "#d8576b"
             ],
             [
              0.6666666666666666,
              "#ed7953"
             ],
             [
              0.7777777777777778,
              "#fb9f3a"
             ],
             [
              0.8888888888888888,
              "#fdca26"
             ],
             [
              1,
              "#f0f921"
             ]
            ],
            "type": "surface"
           }
          ],
          "table": [
           {
            "cells": {
             "fill": {
              "color": "#EBF0F8"
             },
             "line": {
              "color": "white"
             }
            },
            "header": {
             "fill": {
              "color": "#C8D4E3"
             },
             "line": {
              "color": "white"
             }
            },
            "type": "table"
           }
          ]
         },
         "layout": {
          "annotationdefaults": {
           "arrowcolor": "#2a3f5f",
           "arrowhead": 0,
           "arrowwidth": 1
          },
          "autotypenumbers": "strict",
          "coloraxis": {
           "colorbar": {
            "outlinewidth": 0,
            "ticks": ""
           }
          },
          "colorscale": {
           "diverging": [
            [
             0,
             "#8e0152"
            ],
            [
             0.1,
             "#c51b7d"
            ],
            [
             0.2,
             "#de77ae"
            ],
            [
             0.3,
             "#f1b6da"
            ],
            [
             0.4,
             "#fde0ef"
            ],
            [
             0.5,
             "#f7f7f7"
            ],
            [
             0.6,
             "#e6f5d0"
            ],
            [
             0.7,
             "#b8e186"
            ],
            [
             0.8,
             "#7fbc41"
            ],
            [
             0.9,
             "#4d9221"
            ],
            [
             1,
             "#276419"
            ]
           ],
           "sequential": [
            [
             0,
             "#0d0887"
            ],
            [
             0.1111111111111111,
             "#46039f"
            ],
            [
             0.2222222222222222,
             "#7201a8"
            ],
            [
             0.3333333333333333,
             "#9c179e"
            ],
            [
             0.4444444444444444,
             "#bd3786"
            ],
            [
             0.5555555555555556,
             "#d8576b"
            ],
            [
             0.6666666666666666,
             "#ed7953"
            ],
            [
             0.7777777777777778,
             "#fb9f3a"
            ],
            [
             0.8888888888888888,
             "#fdca26"
            ],
            [
             1,
             "#f0f921"
            ]
           ],
           "sequentialminus": [
            [
             0,
             "#0d0887"
            ],
            [
             0.1111111111111111,
             "#46039f"
            ],
            [
             0.2222222222222222,
             "#7201a8"
            ],
            [
             0.3333333333333333,
             "#9c179e"
            ],
            [
             0.4444444444444444,
             "#bd3786"
            ],
            [
             0.5555555555555556,
             "#d8576b"
            ],
            [
             0.6666666666666666,
             "#ed7953"
            ],
            [
             0.7777777777777778,
             "#fb9f3a"
            ],
            [
             0.8888888888888888,
             "#fdca26"
            ],
            [
             1,
             "#f0f921"
            ]
           ]
          },
          "colorway": [
           "#636efa",
           "#EF553B",
           "#00cc96",
           "#ab63fa",
           "#FFA15A",
           "#19d3f3",
           "#FF6692",
           "#B6E880",
           "#FF97FF",
           "#FECB52"
          ],
          "font": {
           "color": "#2a3f5f"
          },
          "geo": {
           "bgcolor": "white",
           "lakecolor": "white",
           "landcolor": "#E5ECF6",
           "showlakes": true,
           "showland": true,
           "subunitcolor": "white"
          },
          "hoverlabel": {
           "align": "left"
          },
          "hovermode": "closest",
          "mapbox": {
           "style": "light"
          },
          "paper_bgcolor": "white",
          "plot_bgcolor": "#E5ECF6",
          "polar": {
           "angularaxis": {
            "gridcolor": "white",
            "linecolor": "white",
            "ticks": ""
           },
           "bgcolor": "#E5ECF6",
           "radialaxis": {
            "gridcolor": "white",
            "linecolor": "white",
            "ticks": ""
           }
          },
          "scene": {
           "xaxis": {
            "backgroundcolor": "#E5ECF6",
            "gridcolor": "white",
            "gridwidth": 2,
            "linecolor": "white",
            "showbackground": true,
            "ticks": "",
            "zerolinecolor": "white"
           },
           "yaxis": {
            "backgroundcolor": "#E5ECF6",
            "gridcolor": "white",
            "gridwidth": 2,
            "linecolor": "white",
            "showbackground": true,
            "ticks": "",
            "zerolinecolor": "white"
           },
           "zaxis": {
            "backgroundcolor": "#E5ECF6",
            "gridcolor": "white",
            "gridwidth": 2,
            "linecolor": "white",
            "showbackground": true,
            "ticks": "",
            "zerolinecolor": "white"
           }
          },
          "shapedefaults": {
           "line": {
            "color": "#2a3f5f"
           }
          },
          "ternary": {
           "aaxis": {
            "gridcolor": "white",
            "linecolor": "white",
            "ticks": ""
           },
           "baxis": {
            "gridcolor": "white",
            "linecolor": "white",
            "ticks": ""
           },
           "bgcolor": "#E5ECF6",
           "caxis": {
            "gridcolor": "white",
            "linecolor": "white",
            "ticks": ""
           }
          },
          "title": {
           "x": 0.05
          },
          "xaxis": {
           "automargin": true,
           "gridcolor": "white",
           "linecolor": "white",
           "ticks": "",
           "title": {
            "standoff": 15
           },
           "zerolinecolor": "white",
           "zerolinewidth": 2
          },
          "yaxis": {
           "automargin": true,
           "gridcolor": "white",
           "linecolor": "white",
           "ticks": "",
           "title": {
            "standoff": 15
           },
           "zerolinecolor": "white",
           "zerolinewidth": 2
          }
         }
        }
       }
      }
     },
     "metadata": {},
     "output_type": "display_data"
    }
   ],
   "source": [
    "fig = px.pie(labels=ratings.index, values=ratings.values)\n",
    "fig.show()"
   ]
  },
  {
   "cell_type": "markdown",
   "id": "5a70270a",
   "metadata": {},
   "source": [
    "Let’s customise our pie chart. Looking at the [.pie() documentation](https://plotly.com/python-api-reference/generated/plotly.express.pie.html) we see a number of parameters that we can set, like title or names.\n",
    "\n",
    "If you’d like to configure other aspects of the chart, that you can’t see in the list of parameters, you can call a method called `.update_traces()`. In plotly lingo, “traces” refer to graphical marks on a figure. Think of “traces” as collections of attributes. Here we update the traces to change how the text is displayed.\n",
    "\n"
   ]
  },
  {
   "cell_type": "code",
   "execution_count": 114,
   "id": "6d4a68f2",
   "metadata": {},
   "outputs": [
    {
     "data": {
      "application/vnd.plotly.v1+json": {
       "config": {
        "plotlyServerURL": "https://plot.ly"
       },
       "data": [
        {
         "domain": {
          "x": [
           0,
           1
          ],
          "y": [
           0,
           1
          ]
         },
         "hovertemplate": "label=%{label}<br>value=%{value}<extra></extra>",
         "labels": [
          "Everyone",
          "Teen",
          "Mature 17+",
          "Everyone 10+",
          "Adults only 18+",
          "Unrated"
         ],
         "legendgroup": "",
         "name": "",
         "showlegend": true,
         "textinfo": "percent+label",
         "textposition": "outside",
         "type": "pie",
         "values": {
          "bdata": "3RmQA2UBMQEDAAEA",
          "dtype": "i2"
         }
        }
       ],
       "layout": {
        "legend": {
         "tracegroupgap": 0
        },
        "template": {
         "data": {
          "bar": [
           {
            "error_x": {
             "color": "#2a3f5f"
            },
            "error_y": {
             "color": "#2a3f5f"
            },
            "marker": {
             "line": {
              "color": "#E5ECF6",
              "width": 0.5
             },
             "pattern": {
              "fillmode": "overlay",
              "size": 10,
              "solidity": 0.2
             }
            },
            "type": "bar"
           }
          ],
          "barpolar": [
           {
            "marker": {
             "line": {
              "color": "#E5ECF6",
              "width": 0.5
             },
             "pattern": {
              "fillmode": "overlay",
              "size": 10,
              "solidity": 0.2
             }
            },
            "type": "barpolar"
           }
          ],
          "carpet": [
           {
            "aaxis": {
             "endlinecolor": "#2a3f5f",
             "gridcolor": "white",
             "linecolor": "white",
             "minorgridcolor": "white",
             "startlinecolor": "#2a3f5f"
            },
            "baxis": {
             "endlinecolor": "#2a3f5f",
             "gridcolor": "white",
             "linecolor": "white",
             "minorgridcolor": "white",
             "startlinecolor": "#2a3f5f"
            },
            "type": "carpet"
           }
          ],
          "choropleth": [
           {
            "colorbar": {
             "outlinewidth": 0,
             "ticks": ""
            },
            "type": "choropleth"
           }
          ],
          "contour": [
           {
            "colorbar": {
             "outlinewidth": 0,
             "ticks": ""
            },
            "colorscale": [
             [
              0,
              "#0d0887"
             ],
             [
              0.1111111111111111,
              "#46039f"
             ],
             [
              0.2222222222222222,
              "#7201a8"
             ],
             [
              0.3333333333333333,
              "#9c179e"
             ],
             [
              0.4444444444444444,
              "#bd3786"
             ],
             [
              0.5555555555555556,
              "#d8576b"
             ],
             [
              0.6666666666666666,
              "#ed7953"
             ],
             [
              0.7777777777777778,
              "#fb9f3a"
             ],
             [
              0.8888888888888888,
              "#fdca26"
             ],
             [
              1,
              "#f0f921"
             ]
            ],
            "type": "contour"
           }
          ],
          "contourcarpet": [
           {
            "colorbar": {
             "outlinewidth": 0,
             "ticks": ""
            },
            "type": "contourcarpet"
           }
          ],
          "heatmap": [
           {
            "colorbar": {
             "outlinewidth": 0,
             "ticks": ""
            },
            "colorscale": [
             [
              0,
              "#0d0887"
             ],
             [
              0.1111111111111111,
              "#46039f"
             ],
             [
              0.2222222222222222,
              "#7201a8"
             ],
             [
              0.3333333333333333,
              "#9c179e"
             ],
             [
              0.4444444444444444,
              "#bd3786"
             ],
             [
              0.5555555555555556,
              "#d8576b"
             ],
             [
              0.6666666666666666,
              "#ed7953"
             ],
             [
              0.7777777777777778,
              "#fb9f3a"
             ],
             [
              0.8888888888888888,
              "#fdca26"
             ],
             [
              1,
              "#f0f921"
             ]
            ],
            "type": "heatmap"
           }
          ],
          "histogram": [
           {
            "marker": {
             "pattern": {
              "fillmode": "overlay",
              "size": 10,
              "solidity": 0.2
             }
            },
            "type": "histogram"
           }
          ],
          "histogram2d": [
           {
            "colorbar": {
             "outlinewidth": 0,
             "ticks": ""
            },
            "colorscale": [
             [
              0,
              "#0d0887"
             ],
             [
              0.1111111111111111,
              "#46039f"
             ],
             [
              0.2222222222222222,
              "#7201a8"
             ],
             [
              0.3333333333333333,
              "#9c179e"
             ],
             [
              0.4444444444444444,
              "#bd3786"
             ],
             [
              0.5555555555555556,
              "#d8576b"
             ],
             [
              0.6666666666666666,
              "#ed7953"
             ],
             [
              0.7777777777777778,
              "#fb9f3a"
             ],
             [
              0.8888888888888888,
              "#fdca26"
             ],
             [
              1,
              "#f0f921"
             ]
            ],
            "type": "histogram2d"
           }
          ],
          "histogram2dcontour": [
           {
            "colorbar": {
             "outlinewidth": 0,
             "ticks": ""
            },
            "colorscale": [
             [
              0,
              "#0d0887"
             ],
             [
              0.1111111111111111,
              "#46039f"
             ],
             [
              0.2222222222222222,
              "#7201a8"
             ],
             [
              0.3333333333333333,
              "#9c179e"
             ],
             [
              0.4444444444444444,
              "#bd3786"
             ],
             [
              0.5555555555555556,
              "#d8576b"
             ],
             [
              0.6666666666666666,
              "#ed7953"
             ],
             [
              0.7777777777777778,
              "#fb9f3a"
             ],
             [
              0.8888888888888888,
              "#fdca26"
             ],
             [
              1,
              "#f0f921"
             ]
            ],
            "type": "histogram2dcontour"
           }
          ],
          "mesh3d": [
           {
            "colorbar": {
             "outlinewidth": 0,
             "ticks": ""
            },
            "type": "mesh3d"
           }
          ],
          "parcoords": [
           {
            "line": {
             "colorbar": {
              "outlinewidth": 0,
              "ticks": ""
             }
            },
            "type": "parcoords"
           }
          ],
          "pie": [
           {
            "automargin": true,
            "type": "pie"
           }
          ],
          "scatter": [
           {
            "fillpattern": {
             "fillmode": "overlay",
             "size": 10,
             "solidity": 0.2
            },
            "type": "scatter"
           }
          ],
          "scatter3d": [
           {
            "line": {
             "colorbar": {
              "outlinewidth": 0,
              "ticks": ""
             }
            },
            "marker": {
             "colorbar": {
              "outlinewidth": 0,
              "ticks": ""
             }
            },
            "type": "scatter3d"
           }
          ],
          "scattercarpet": [
           {
            "marker": {
             "colorbar": {
              "outlinewidth": 0,
              "ticks": ""
             }
            },
            "type": "scattercarpet"
           }
          ],
          "scattergeo": [
           {
            "marker": {
             "colorbar": {
              "outlinewidth": 0,
              "ticks": ""
             }
            },
            "type": "scattergeo"
           }
          ],
          "scattergl": [
           {
            "marker": {
             "colorbar": {
              "outlinewidth": 0,
              "ticks": ""
             }
            },
            "type": "scattergl"
           }
          ],
          "scattermap": [
           {
            "marker": {
             "colorbar": {
              "outlinewidth": 0,
              "ticks": ""
             }
            },
            "type": "scattermap"
           }
          ],
          "scattermapbox": [
           {
            "marker": {
             "colorbar": {
              "outlinewidth": 0,
              "ticks": ""
             }
            },
            "type": "scattermapbox"
           }
          ],
          "scatterpolar": [
           {
            "marker": {
             "colorbar": {
              "outlinewidth": 0,
              "ticks": ""
             }
            },
            "type": "scatterpolar"
           }
          ],
          "scatterpolargl": [
           {
            "marker": {
             "colorbar": {
              "outlinewidth": 0,
              "ticks": ""
             }
            },
            "type": "scatterpolargl"
           }
          ],
          "scatterternary": [
           {
            "marker": {
             "colorbar": {
              "outlinewidth": 0,
              "ticks": ""
             }
            },
            "type": "scatterternary"
           }
          ],
          "surface": [
           {
            "colorbar": {
             "outlinewidth": 0,
             "ticks": ""
            },
            "colorscale": [
             [
              0,
              "#0d0887"
             ],
             [
              0.1111111111111111,
              "#46039f"
             ],
             [
              0.2222222222222222,
              "#7201a8"
             ],
             [
              0.3333333333333333,
              "#9c179e"
             ],
             [
              0.4444444444444444,
              "#bd3786"
             ],
             [
              0.5555555555555556,
              "#d8576b"
             ],
             [
              0.6666666666666666,
              "#ed7953"
             ],
             [
              0.7777777777777778,
              "#fb9f3a"
             ],
             [
              0.8888888888888888,
              "#fdca26"
             ],
             [
              1,
              "#f0f921"
             ]
            ],
            "type": "surface"
           }
          ],
          "table": [
           {
            "cells": {
             "fill": {
              "color": "#EBF0F8"
             },
             "line": {
              "color": "white"
             }
            },
            "header": {
             "fill": {
              "color": "#C8D4E3"
             },
             "line": {
              "color": "white"
             }
            },
            "type": "table"
           }
          ]
         },
         "layout": {
          "annotationdefaults": {
           "arrowcolor": "#2a3f5f",
           "arrowhead": 0,
           "arrowwidth": 1
          },
          "autotypenumbers": "strict",
          "coloraxis": {
           "colorbar": {
            "outlinewidth": 0,
            "ticks": ""
           }
          },
          "colorscale": {
           "diverging": [
            [
             0,
             "#8e0152"
            ],
            [
             0.1,
             "#c51b7d"
            ],
            [
             0.2,
             "#de77ae"
            ],
            [
             0.3,
             "#f1b6da"
            ],
            [
             0.4,
             "#fde0ef"
            ],
            [
             0.5,
             "#f7f7f7"
            ],
            [
             0.6,
             "#e6f5d0"
            ],
            [
             0.7,
             "#b8e186"
            ],
            [
             0.8,
             "#7fbc41"
            ],
            [
             0.9,
             "#4d9221"
            ],
            [
             1,
             "#276419"
            ]
           ],
           "sequential": [
            [
             0,
             "#0d0887"
            ],
            [
             0.1111111111111111,
             "#46039f"
            ],
            [
             0.2222222222222222,
             "#7201a8"
            ],
            [
             0.3333333333333333,
             "#9c179e"
            ],
            [
             0.4444444444444444,
             "#bd3786"
            ],
            [
             0.5555555555555556,
             "#d8576b"
            ],
            [
             0.6666666666666666,
             "#ed7953"
            ],
            [
             0.7777777777777778,
             "#fb9f3a"
            ],
            [
             0.8888888888888888,
             "#fdca26"
            ],
            [
             1,
             "#f0f921"
            ]
           ],
           "sequentialminus": [
            [
             0,
             "#0d0887"
            ],
            [
             0.1111111111111111,
             "#46039f"
            ],
            [
             0.2222222222222222,
             "#7201a8"
            ],
            [
             0.3333333333333333,
             "#9c179e"
            ],
            [
             0.4444444444444444,
             "#bd3786"
            ],
            [
             0.5555555555555556,
             "#d8576b"
            ],
            [
             0.6666666666666666,
             "#ed7953"
            ],
            [
             0.7777777777777778,
             "#fb9f3a"
            ],
            [
             0.8888888888888888,
             "#fdca26"
            ],
            [
             1,
             "#f0f921"
            ]
           ]
          },
          "colorway": [
           "#636efa",
           "#EF553B",
           "#00cc96",
           "#ab63fa",
           "#FFA15A",
           "#19d3f3",
           "#FF6692",
           "#B6E880",
           "#FF97FF",
           "#FECB52"
          ],
          "font": {
           "color": "#2a3f5f"
          },
          "geo": {
           "bgcolor": "white",
           "lakecolor": "white",
           "landcolor": "#E5ECF6",
           "showlakes": true,
           "showland": true,
           "subunitcolor": "white"
          },
          "hoverlabel": {
           "align": "left"
          },
          "hovermode": "closest",
          "mapbox": {
           "style": "light"
          },
          "paper_bgcolor": "white",
          "plot_bgcolor": "#E5ECF6",
          "polar": {
           "angularaxis": {
            "gridcolor": "white",
            "linecolor": "white",
            "ticks": ""
           },
           "bgcolor": "#E5ECF6",
           "radialaxis": {
            "gridcolor": "white",
            "linecolor": "white",
            "ticks": ""
           }
          },
          "scene": {
           "xaxis": {
            "backgroundcolor": "#E5ECF6",
            "gridcolor": "white",
            "gridwidth": 2,
            "linecolor": "white",
            "showbackground": true,
            "ticks": "",
            "zerolinecolor": "white"
           },
           "yaxis": {
            "backgroundcolor": "#E5ECF6",
            "gridcolor": "white",
            "gridwidth": 2,
            "linecolor": "white",
            "showbackground": true,
            "ticks": "",
            "zerolinecolor": "white"
           },
           "zaxis": {
            "backgroundcolor": "#E5ECF6",
            "gridcolor": "white",
            "gridwidth": 2,
            "linecolor": "white",
            "showbackground": true,
            "ticks": "",
            "zerolinecolor": "white"
           }
          },
          "shapedefaults": {
           "line": {
            "color": "#2a3f5f"
           }
          },
          "ternary": {
           "aaxis": {
            "gridcolor": "white",
            "linecolor": "white",
            "ticks": ""
           },
           "baxis": {
            "gridcolor": "white",
            "linecolor": "white",
            "ticks": ""
           },
           "bgcolor": "#E5ECF6",
           "caxis": {
            "gridcolor": "white",
            "linecolor": "white",
            "ticks": ""
           }
          },
          "title": {
           "x": 0.05
          },
          "xaxis": {
           "automargin": true,
           "gridcolor": "white",
           "linecolor": "white",
           "ticks": "",
           "title": {
            "standoff": 15
           },
           "zerolinecolor": "white",
           "zerolinewidth": 2
          },
          "yaxis": {
           "automargin": true,
           "gridcolor": "white",
           "linecolor": "white",
           "ticks": "",
           "title": {
            "standoff": 15
           },
           "zerolinecolor": "white",
           "zerolinewidth": 2
          }
         }
        },
        "title": {
         "text": "Content Rating"
        }
       }
      }
     },
     "metadata": {},
     "output_type": "display_data"
    }
   ],
   "source": [
    "fig = px.pie(\n",
    "    labels=ratings.index, \n",
    "    values=ratings.values,\n",
    "    title=\"Content Rating\",\n",
    "    names=ratings.index\n",
    ")\n",
    "\n",
    "fig.update_traces(textposition='outside', textinfo='percent+label')\n",
    "\n",
    "fig.show()"
   ]
  },
  {
   "cell_type": "markdown",
   "id": "4b87065d",
   "metadata": {},
   "source": [
    "To create a donut 🍩 chart, we can simply add a value for the hole argument:"
   ]
  },
  {
   "cell_type": "code",
   "execution_count": 115,
   "id": "ea7ec759",
   "metadata": {},
   "outputs": [
    {
     "data": {
      "application/vnd.plotly.v1+json": {
       "config": {
        "plotlyServerURL": "https://plot.ly"
       },
       "data": [
        {
         "domain": {
          "x": [
           0,
           1
          ],
          "y": [
           0,
           1
          ]
         },
         "hole": 0.6,
         "hovertemplate": "label=%{label}<br>value=%{value}<extra></extra>",
         "labels": [
          "Everyone",
          "Teen",
          "Mature 17+",
          "Everyone 10+",
          "Adults only 18+",
          "Unrated"
         ],
         "legendgroup": "",
         "name": "",
         "showlegend": true,
         "textfont": {
          "size": 15
         },
         "textinfo": "percent",
         "textposition": "inside",
         "type": "pie",
         "values": {
          "bdata": "3RmQA2UBMQEDAAEA",
          "dtype": "i2"
         }
        }
       ],
       "layout": {
        "legend": {
         "tracegroupgap": 0
        },
        "template": {
         "data": {
          "bar": [
           {
            "error_x": {
             "color": "#2a3f5f"
            },
            "error_y": {
             "color": "#2a3f5f"
            },
            "marker": {
             "line": {
              "color": "#E5ECF6",
              "width": 0.5
             },
             "pattern": {
              "fillmode": "overlay",
              "size": 10,
              "solidity": 0.2
             }
            },
            "type": "bar"
           }
          ],
          "barpolar": [
           {
            "marker": {
             "line": {
              "color": "#E5ECF6",
              "width": 0.5
             },
             "pattern": {
              "fillmode": "overlay",
              "size": 10,
              "solidity": 0.2
             }
            },
            "type": "barpolar"
           }
          ],
          "carpet": [
           {
            "aaxis": {
             "endlinecolor": "#2a3f5f",
             "gridcolor": "white",
             "linecolor": "white",
             "minorgridcolor": "white",
             "startlinecolor": "#2a3f5f"
            },
            "baxis": {
             "endlinecolor": "#2a3f5f",
             "gridcolor": "white",
             "linecolor": "white",
             "minorgridcolor": "white",
             "startlinecolor": "#2a3f5f"
            },
            "type": "carpet"
           }
          ],
          "choropleth": [
           {
            "colorbar": {
             "outlinewidth": 0,
             "ticks": ""
            },
            "type": "choropleth"
           }
          ],
          "contour": [
           {
            "colorbar": {
             "outlinewidth": 0,
             "ticks": ""
            },
            "colorscale": [
             [
              0,
              "#0d0887"
             ],
             [
              0.1111111111111111,
              "#46039f"
             ],
             [
              0.2222222222222222,
              "#7201a8"
             ],
             [
              0.3333333333333333,
              "#9c179e"
             ],
             [
              0.4444444444444444,
              "#bd3786"
             ],
             [
              0.5555555555555556,
              "#d8576b"
             ],
             [
              0.6666666666666666,
              "#ed7953"
             ],
             [
              0.7777777777777778,
              "#fb9f3a"
             ],
             [
              0.8888888888888888,
              "#fdca26"
             ],
             [
              1,
              "#f0f921"
             ]
            ],
            "type": "contour"
           }
          ],
          "contourcarpet": [
           {
            "colorbar": {
             "outlinewidth": 0,
             "ticks": ""
            },
            "type": "contourcarpet"
           }
          ],
          "heatmap": [
           {
            "colorbar": {
             "outlinewidth": 0,
             "ticks": ""
            },
            "colorscale": [
             [
              0,
              "#0d0887"
             ],
             [
              0.1111111111111111,
              "#46039f"
             ],
             [
              0.2222222222222222,
              "#7201a8"
             ],
             [
              0.3333333333333333,
              "#9c179e"
             ],
             [
              0.4444444444444444,
              "#bd3786"
             ],
             [
              0.5555555555555556,
              "#d8576b"
             ],
             [
              0.6666666666666666,
              "#ed7953"
             ],
             [
              0.7777777777777778,
              "#fb9f3a"
             ],
             [
              0.8888888888888888,
              "#fdca26"
             ],
             [
              1,
              "#f0f921"
             ]
            ],
            "type": "heatmap"
           }
          ],
          "histogram": [
           {
            "marker": {
             "pattern": {
              "fillmode": "overlay",
              "size": 10,
              "solidity": 0.2
             }
            },
            "type": "histogram"
           }
          ],
          "histogram2d": [
           {
            "colorbar": {
             "outlinewidth": 0,
             "ticks": ""
            },
            "colorscale": [
             [
              0,
              "#0d0887"
             ],
             [
              0.1111111111111111,
              "#46039f"
             ],
             [
              0.2222222222222222,
              "#7201a8"
             ],
             [
              0.3333333333333333,
              "#9c179e"
             ],
             [
              0.4444444444444444,
              "#bd3786"
             ],
             [
              0.5555555555555556,
              "#d8576b"
             ],
             [
              0.6666666666666666,
              "#ed7953"
             ],
             [
              0.7777777777777778,
              "#fb9f3a"
             ],
             [
              0.8888888888888888,
              "#fdca26"
             ],
             [
              1,
              "#f0f921"
             ]
            ],
            "type": "histogram2d"
           }
          ],
          "histogram2dcontour": [
           {
            "colorbar": {
             "outlinewidth": 0,
             "ticks": ""
            },
            "colorscale": [
             [
              0,
              "#0d0887"
             ],
             [
              0.1111111111111111,
              "#46039f"
             ],
             [
              0.2222222222222222,
              "#7201a8"
             ],
             [
              0.3333333333333333,
              "#9c179e"
             ],
             [
              0.4444444444444444,
              "#bd3786"
             ],
             [
              0.5555555555555556,
              "#d8576b"
             ],
             [
              0.6666666666666666,
              "#ed7953"
             ],
             [
              0.7777777777777778,
              "#fb9f3a"
             ],
             [
              0.8888888888888888,
              "#fdca26"
             ],
             [
              1,
              "#f0f921"
             ]
            ],
            "type": "histogram2dcontour"
           }
          ],
          "mesh3d": [
           {
            "colorbar": {
             "outlinewidth": 0,
             "ticks": ""
            },
            "type": "mesh3d"
           }
          ],
          "parcoords": [
           {
            "line": {
             "colorbar": {
              "outlinewidth": 0,
              "ticks": ""
             }
            },
            "type": "parcoords"
           }
          ],
          "pie": [
           {
            "automargin": true,
            "type": "pie"
           }
          ],
          "scatter": [
           {
            "fillpattern": {
             "fillmode": "overlay",
             "size": 10,
             "solidity": 0.2
            },
            "type": "scatter"
           }
          ],
          "scatter3d": [
           {
            "line": {
             "colorbar": {
              "outlinewidth": 0,
              "ticks": ""
             }
            },
            "marker": {
             "colorbar": {
              "outlinewidth": 0,
              "ticks": ""
             }
            },
            "type": "scatter3d"
           }
          ],
          "scattercarpet": [
           {
            "marker": {
             "colorbar": {
              "outlinewidth": 0,
              "ticks": ""
             }
            },
            "type": "scattercarpet"
           }
          ],
          "scattergeo": [
           {
            "marker": {
             "colorbar": {
              "outlinewidth": 0,
              "ticks": ""
             }
            },
            "type": "scattergeo"
           }
          ],
          "scattergl": [
           {
            "marker": {
             "colorbar": {
              "outlinewidth": 0,
              "ticks": ""
             }
            },
            "type": "scattergl"
           }
          ],
          "scattermap": [
           {
            "marker": {
             "colorbar": {
              "outlinewidth": 0,
              "ticks": ""
             }
            },
            "type": "scattermap"
           }
          ],
          "scattermapbox": [
           {
            "marker": {
             "colorbar": {
              "outlinewidth": 0,
              "ticks": ""
             }
            },
            "type": "scattermapbox"
           }
          ],
          "scatterpolar": [
           {
            "marker": {
             "colorbar": {
              "outlinewidth": 0,
              "ticks": ""
             }
            },
            "type": "scatterpolar"
           }
          ],
          "scatterpolargl": [
           {
            "marker": {
             "colorbar": {
              "outlinewidth": 0,
              "ticks": ""
             }
            },
            "type": "scatterpolargl"
           }
          ],
          "scatterternary": [
           {
            "marker": {
             "colorbar": {
              "outlinewidth": 0,
              "ticks": ""
             }
            },
            "type": "scatterternary"
           }
          ],
          "surface": [
           {
            "colorbar": {
             "outlinewidth": 0,
             "ticks": ""
            },
            "colorscale": [
             [
              0,
              "#0d0887"
             ],
             [
              0.1111111111111111,
              "#46039f"
             ],
             [
              0.2222222222222222,
              "#7201a8"
             ],
             [
              0.3333333333333333,
              "#9c179e"
             ],
             [
              0.4444444444444444,
              "#bd3786"
             ],
             [
              0.5555555555555556,
              "#d8576b"
             ],
             [
              0.6666666666666666,
              "#ed7953"
             ],
             [
              0.7777777777777778,
              "#fb9f3a"
             ],
             [
              0.8888888888888888,
              "#fdca26"
             ],
             [
              1,
              "#f0f921"
             ]
            ],
            "type": "surface"
           }
          ],
          "table": [
           {
            "cells": {
             "fill": {
              "color": "#EBF0F8"
             },
             "line": {
              "color": "white"
             }
            },
            "header": {
             "fill": {
              "color": "#C8D4E3"
             },
             "line": {
              "color": "white"
             }
            },
            "type": "table"
           }
          ]
         },
         "layout": {
          "annotationdefaults": {
           "arrowcolor": "#2a3f5f",
           "arrowhead": 0,
           "arrowwidth": 1
          },
          "autotypenumbers": "strict",
          "coloraxis": {
           "colorbar": {
            "outlinewidth": 0,
            "ticks": ""
           }
          },
          "colorscale": {
           "diverging": [
            [
             0,
             "#8e0152"
            ],
            [
             0.1,
             "#c51b7d"
            ],
            [
             0.2,
             "#de77ae"
            ],
            [
             0.3,
             "#f1b6da"
            ],
            [
             0.4,
             "#fde0ef"
            ],
            [
             0.5,
             "#f7f7f7"
            ],
            [
             0.6,
             "#e6f5d0"
            ],
            [
             0.7,
             "#b8e186"
            ],
            [
             0.8,
             "#7fbc41"
            ],
            [
             0.9,
             "#4d9221"
            ],
            [
             1,
             "#276419"
            ]
           ],
           "sequential": [
            [
             0,
             "#0d0887"
            ],
            [
             0.1111111111111111,
             "#46039f"
            ],
            [
             0.2222222222222222,
             "#7201a8"
            ],
            [
             0.3333333333333333,
             "#9c179e"
            ],
            [
             0.4444444444444444,
             "#bd3786"
            ],
            [
             0.5555555555555556,
             "#d8576b"
            ],
            [
             0.6666666666666666,
             "#ed7953"
            ],
            [
             0.7777777777777778,
             "#fb9f3a"
            ],
            [
             0.8888888888888888,
             "#fdca26"
            ],
            [
             1,
             "#f0f921"
            ]
           ],
           "sequentialminus": [
            [
             0,
             "#0d0887"
            ],
            [
             0.1111111111111111,
             "#46039f"
            ],
            [
             0.2222222222222222,
             "#7201a8"
            ],
            [
             0.3333333333333333,
             "#9c179e"
            ],
            [
             0.4444444444444444,
             "#bd3786"
            ],
            [
             0.5555555555555556,
             "#d8576b"
            ],
            [
             0.6666666666666666,
             "#ed7953"
            ],
            [
             0.7777777777777778,
             "#fb9f3a"
            ],
            [
             0.8888888888888888,
             "#fdca26"
            ],
            [
             1,
             "#f0f921"
            ]
           ]
          },
          "colorway": [
           "#636efa",
           "#EF553B",
           "#00cc96",
           "#ab63fa",
           "#FFA15A",
           "#19d3f3",
           "#FF6692",
           "#B6E880",
           "#FF97FF",
           "#FECB52"
          ],
          "font": {
           "color": "#2a3f5f"
          },
          "geo": {
           "bgcolor": "white",
           "lakecolor": "white",
           "landcolor": "#E5ECF6",
           "showlakes": true,
           "showland": true,
           "subunitcolor": "white"
          },
          "hoverlabel": {
           "align": "left"
          },
          "hovermode": "closest",
          "mapbox": {
           "style": "light"
          },
          "paper_bgcolor": "white",
          "plot_bgcolor": "#E5ECF6",
          "polar": {
           "angularaxis": {
            "gridcolor": "white",
            "linecolor": "white",
            "ticks": ""
           },
           "bgcolor": "#E5ECF6",
           "radialaxis": {
            "gridcolor": "white",
            "linecolor": "white",
            "ticks": ""
           }
          },
          "scene": {
           "xaxis": {
            "backgroundcolor": "#E5ECF6",
            "gridcolor": "white",
            "gridwidth": 2,
            "linecolor": "white",
            "showbackground": true,
            "ticks": "",
            "zerolinecolor": "white"
           },
           "yaxis": {
            "backgroundcolor": "#E5ECF6",
            "gridcolor": "white",
            "gridwidth": 2,
            "linecolor": "white",
            "showbackground": true,
            "ticks": "",
            "zerolinecolor": "white"
           },
           "zaxis": {
            "backgroundcolor": "#E5ECF6",
            "gridcolor": "white",
            "gridwidth": 2,
            "linecolor": "white",
            "showbackground": true,
            "ticks": "",
            "zerolinecolor": "white"
           }
          },
          "shapedefaults": {
           "line": {
            "color": "#2a3f5f"
           }
          },
          "ternary": {
           "aaxis": {
            "gridcolor": "white",
            "linecolor": "white",
            "ticks": ""
           },
           "baxis": {
            "gridcolor": "white",
            "linecolor": "white",
            "ticks": ""
           },
           "bgcolor": "#E5ECF6",
           "caxis": {
            "gridcolor": "white",
            "linecolor": "white",
            "ticks": ""
           }
          },
          "title": {
           "x": 0.05
          },
          "xaxis": {
           "automargin": true,
           "gridcolor": "white",
           "linecolor": "white",
           "ticks": "",
           "title": {
            "standoff": 15
           },
           "zerolinecolor": "white",
           "zerolinewidth": 2
          },
          "yaxis": {
           "automargin": true,
           "gridcolor": "white",
           "linecolor": "white",
           "ticks": "",
           "title": {
            "standoff": 15
           },
           "zerolinecolor": "white",
           "zerolinewidth": 2
          }
         }
        },
        "title": {
         "text": "Content Rating"
        }
       }
      }
     },
     "metadata": {},
     "output_type": "display_data"
    }
   ],
   "source": [
    "fig = px.pie(\n",
    "    labels=ratings.index,\n",
    "    values=ratings.values,\n",
    "    title=\"Content Rating\",\n",
    "    names=ratings.index,\n",
    "    hole=0.6,\n",
    ")\n",
    "\n",
    "fig.update_traces(\n",
    "    textposition='inside',\n",
    "    textfont_size=15,\n",
    "    textinfo='percent',\n",
    ")\n",
    "\n",
    "fig.show()"
   ]
  },
  {
   "cell_type": "markdown",
   "id": "058f7155",
   "metadata": {},
   "source": [
    "# Numeric Type Conversions for the Installations & Price Data\n",
    "\n",
    "How many apps had over 1 billion (that's right - BILLION) installations? How many apps just had a single install?\n",
    "\n",
    "1. Check the datatype of the Installs column.\n",
    "\n",
    "2. Count the number of apps at each level of installations.\n",
    "\n",
    "3. Convert the number of installations (the Installs column) to a numeric data type. Hint: this is a 2-step process. You'll have to make sure you remove non-numeric characters first."
   ]
  },
  {
   "cell_type": "code",
   "execution_count": 116,
   "id": "40a52baa",
   "metadata": {},
   "outputs": [
    {
     "data": {
      "text/plain": [
       "count          8199\n",
       "unique           19\n",
       "top       1,000,000\n",
       "freq           1417\n",
       "Name: Installs, dtype: object"
      ]
     },
     "execution_count": 116,
     "metadata": {},
     "output_type": "execute_result"
    }
   ],
   "source": [
    "df_apps_clean.Installs.describe()"
   ]
  },
  {
   "cell_type": "code",
   "execution_count": 117,
   "id": "aa8f34c2",
   "metadata": {},
   "outputs": [
    {
     "data": {
      "text/plain": [
       "str"
      ]
     },
     "execution_count": 117,
     "metadata": {},
     "output_type": "execute_result"
    }
   ],
   "source": [
    "type(df_apps_clean[\"Installs\"].loc[21])"
   ]
  },
  {
   "cell_type": "code",
   "execution_count": 118,
   "id": "b6e2930d",
   "metadata": {},
   "outputs": [
    {
     "data": {
      "text/html": [
       "<div>\n",
       "<style scoped>\n",
       "    .dataframe tbody tr th:only-of-type {\n",
       "        vertical-align: middle;\n",
       "    }\n",
       "\n",
       "    .dataframe tbody tr th {\n",
       "        vertical-align: top;\n",
       "    }\n",
       "\n",
       "    .dataframe thead th {\n",
       "        text-align: right;\n",
       "    }\n",
       "</style>\n",
       "<table border=\"1\" class=\"dataframe\">\n",
       "  <thead>\n",
       "    <tr style=\"text-align: right;\">\n",
       "      <th></th>\n",
       "      <th>App</th>\n",
       "    </tr>\n",
       "    <tr>\n",
       "      <th>Installs</th>\n",
       "      <th></th>\n",
       "    </tr>\n",
       "  </thead>\n",
       "  <tbody>\n",
       "    <tr>\n",
       "      <th>1</th>\n",
       "      <td>3</td>\n",
       "    </tr>\n",
       "    <tr>\n",
       "      <th>1,000</th>\n",
       "      <td>698</td>\n",
       "    </tr>\n",
       "    <tr>\n",
       "      <th>1,000,000</th>\n",
       "      <td>1417</td>\n",
       "    </tr>\n",
       "    <tr>\n",
       "      <th>1,000,000,000</th>\n",
       "      <td>20</td>\n",
       "    </tr>\n",
       "    <tr>\n",
       "      <th>10</th>\n",
       "      <td>69</td>\n",
       "    </tr>\n",
       "    <tr>\n",
       "      <th>10,000</th>\n",
       "      <td>988</td>\n",
       "    </tr>\n",
       "    <tr>\n",
       "      <th>10,000,000</th>\n",
       "      <td>933</td>\n",
       "    </tr>\n",
       "    <tr>\n",
       "      <th>100</th>\n",
       "      <td>303</td>\n",
       "    </tr>\n",
       "    <tr>\n",
       "      <th>100,000</th>\n",
       "      <td>1096</td>\n",
       "    </tr>\n",
       "    <tr>\n",
       "      <th>100,000,000</th>\n",
       "      <td>189</td>\n",
       "    </tr>\n",
       "    <tr>\n",
       "      <th>5</th>\n",
       "      <td>9</td>\n",
       "    </tr>\n",
       "    <tr>\n",
       "      <th>5,000</th>\n",
       "      <td>425</td>\n",
       "    </tr>\n",
       "    <tr>\n",
       "      <th>5,000,000</th>\n",
       "      <td>607</td>\n",
       "    </tr>\n",
       "    <tr>\n",
       "      <th>50</th>\n",
       "      <td>56</td>\n",
       "    </tr>\n",
       "    <tr>\n",
       "      <th>50,000</th>\n",
       "      <td>457</td>\n",
       "    </tr>\n",
       "    <tr>\n",
       "      <th>50,000,000</th>\n",
       "      <td>202</td>\n",
       "    </tr>\n",
       "    <tr>\n",
       "      <th>500</th>\n",
       "      <td>199</td>\n",
       "    </tr>\n",
       "    <tr>\n",
       "      <th>500,000</th>\n",
       "      <td>504</td>\n",
       "    </tr>\n",
       "    <tr>\n",
       "      <th>500,000,000</th>\n",
       "      <td>24</td>\n",
       "    </tr>\n",
       "  </tbody>\n",
       "</table>\n",
       "</div>"
      ],
      "text/plain": [
       "                App\n",
       "Installs           \n",
       "1                 3\n",
       "1,000           698\n",
       "1,000,000      1417\n",
       "1,000,000,000    20\n",
       "10               69\n",
       "10,000          988\n",
       "10,000,000      933\n",
       "100             303\n",
       "100,000        1096\n",
       "100,000,000     189\n",
       "5                 9\n",
       "5,000           425\n",
       "5,000,000       607\n",
       "50               56\n",
       "50,000          457\n",
       "50,000,000      202\n",
       "500             199\n",
       "500,000         504\n",
       "500,000,000      24"
      ]
     },
     "execution_count": 118,
     "metadata": {},
     "output_type": "execute_result"
    }
   ],
   "source": [
    "df_apps_clean[[\"App\", \"Installs\"]].groupby(\"Installs\").count()"
   ]
  },
  {
   "cell_type": "code",
   "execution_count": 119,
   "id": "35a40ebb",
   "metadata": {},
   "outputs": [],
   "source": [
    "df_apps_clean.Installs = df_apps_clean.Installs.str.replace(\",\", \"\")"
   ]
  },
  {
   "cell_type": "code",
   "execution_count": 120,
   "id": "8dea3c7d",
   "metadata": {},
   "outputs": [
    {
     "data": {
      "text/plain": [
       "'500000000'"
      ]
     },
     "execution_count": 120,
     "metadata": {},
     "output_type": "execute_result"
    }
   ],
   "source": [
    "df_apps_clean.Installs.max()"
   ]
  },
  {
   "cell_type": "code",
   "execution_count": 121,
   "id": "1720378a",
   "metadata": {},
   "outputs": [],
   "source": [
    "df_apps_clean.Installs = pd.to_numeric(df_apps_clean.Installs)"
   ]
  },
  {
   "cell_type": "code",
   "execution_count": 122,
   "id": "d4fa35dd",
   "metadata": {},
   "outputs": [
    {
     "data": {
      "text/plain": [
       "App               20\n",
       "Category          20\n",
       "Rating            20\n",
       "Reviews           20\n",
       "Size_MBs          20\n",
       "Installs          20\n",
       "Type              20\n",
       "Price             20\n",
       "Content_Rating    20\n",
       "Genres            20\n",
       "dtype: int64"
      ]
     },
     "execution_count": 122,
     "metadata": {},
     "output_type": "execute_result"
    }
   ],
   "source": [
    "df_apps_clean[df_apps_clean.Installs >= 1000000000].count()"
   ]
  },
  {
   "cell_type": "code",
   "execution_count": 123,
   "id": "aee7c8a1",
   "metadata": {},
   "outputs": [
    {
     "data": {
      "text/plain": [
       "App               3\n",
       "Category          3\n",
       "Rating            3\n",
       "Reviews           3\n",
       "Size_MBs          3\n",
       "Installs          3\n",
       "Type              3\n",
       "Price             3\n",
       "Content_Rating    3\n",
       "Genres            3\n",
       "dtype: int64"
      ]
     },
     "execution_count": 123,
     "metadata": {},
     "output_type": "execute_result"
    }
   ],
   "source": [
    "df_apps_clean[df_apps_clean.Installs == 1].count()"
   ]
  },
  {
   "cell_type": "markdown",
   "id": "bb8bdbbb",
   "metadata": {},
   "source": [
    "Let's examine the Price column more closely.\n",
    "\n",
    "Convert the price column to numeric data. Then investigate the top 20 most expensive apps in the dataset.\n",
    "\n",
    "\n",
    "\n",
    "Remove all apps that cost more than $250 from the `df_apps_clean` DataFrame.\n",
    "\n",
    "\n",
    "\n",
    "Add a column called 'Revenue_Estimate' to the DataFrame. This column should hold the price of the app times the number of installs. What are the top 10 highest-grossing paid apps according to this estimate? Out of the top 10, how many are games?\n",
    "\n"
   ]
  },
  {
   "cell_type": "code",
   "execution_count": 125,
   "id": "cba8e0f7",
   "metadata": {},
   "outputs": [
    {
     "data": {
      "text/plain": [
       "count     8199\n",
       "unique      73\n",
       "top          0\n",
       "freq      7595\n",
       "Name: Price, dtype: object"
      ]
     },
     "execution_count": 125,
     "metadata": {},
     "output_type": "execute_result"
    }
   ],
   "source": [
    "df_apps_clean.Price.describe()"
   ]
  },
  {
   "cell_type": "code",
   "execution_count": 128,
   "id": "7e8112dd",
   "metadata": {},
   "outputs": [
    {
     "name": "stdout",
     "output_type": "stream",
     "text": [
      "21           0\n",
      "28       $1.49\n",
      "47       $0.99\n",
      "82           0\n",
      "99           0\n",
      "         ...  \n",
      "10824        0\n",
      "10828        0\n",
      "10829        0\n",
      "10831        0\n",
      "10835        0\n",
      "Name: Price, Length: 8199, dtype: object\n"
     ]
    }
   ],
   "source": [
    "print(df_apps_clean.Price)"
   ]
  },
  {
   "cell_type": "code",
   "execution_count": 129,
   "id": "0e521640",
   "metadata": {},
   "outputs": [],
   "source": [
    "df_apps_clean.Price = df_apps_clean.Price.str.replace(\"$\", \"\")\n",
    "df_apps_clean.Price = pd.to_numeric(df_apps_clean.Price)"
   ]
  },
  {
   "cell_type": "code",
   "execution_count": 133,
   "id": "2411598e",
   "metadata": {},
   "outputs": [
    {
     "data": {
      "text/html": [
       "<div>\n",
       "<style scoped>\n",
       "    .dataframe tbody tr th:only-of-type {\n",
       "        vertical-align: middle;\n",
       "    }\n",
       "\n",
       "    .dataframe tbody tr th {\n",
       "        vertical-align: top;\n",
       "    }\n",
       "\n",
       "    .dataframe thead th {\n",
       "        text-align: right;\n",
       "    }\n",
       "</style>\n",
       "<table border=\"1\" class=\"dataframe\">\n",
       "  <thead>\n",
       "    <tr style=\"text-align: right;\">\n",
       "      <th></th>\n",
       "      <th>App</th>\n",
       "      <th>Category</th>\n",
       "      <th>Rating</th>\n",
       "      <th>Reviews</th>\n",
       "      <th>Size_MBs</th>\n",
       "      <th>Installs</th>\n",
       "      <th>Type</th>\n",
       "      <th>Price</th>\n",
       "      <th>Content_Rating</th>\n",
       "      <th>Genres</th>\n",
       "    </tr>\n",
       "  </thead>\n",
       "  <tbody>\n",
       "    <tr>\n",
       "      <th>3946</th>\n",
       "      <td>I'm Rich - Trump Edition</td>\n",
       "      <td>LIFESTYLE</td>\n",
       "      <td>3.6</td>\n",
       "      <td>275</td>\n",
       "      <td>7.300000</td>\n",
       "      <td>10000</td>\n",
       "      <td>Paid</td>\n",
       "      <td>400.00</td>\n",
       "      <td>Everyone</td>\n",
       "      <td>Lifestyle</td>\n",
       "    </tr>\n",
       "    <tr>\n",
       "      <th>2461</th>\n",
       "      <td>I AM RICH PRO PLUS</td>\n",
       "      <td>FINANCE</td>\n",
       "      <td>4.0</td>\n",
       "      <td>36</td>\n",
       "      <td>41.000000</td>\n",
       "      <td>1000</td>\n",
       "      <td>Paid</td>\n",
       "      <td>399.99</td>\n",
       "      <td>Everyone</td>\n",
       "      <td>Finance</td>\n",
       "    </tr>\n",
       "    <tr>\n",
       "      <th>4606</th>\n",
       "      <td>I Am Rich Premium</td>\n",
       "      <td>FINANCE</td>\n",
       "      <td>4.1</td>\n",
       "      <td>1867</td>\n",
       "      <td>4.700000</td>\n",
       "      <td>50000</td>\n",
       "      <td>Paid</td>\n",
       "      <td>399.99</td>\n",
       "      <td>Everyone</td>\n",
       "      <td>Finance</td>\n",
       "    </tr>\n",
       "    <tr>\n",
       "      <th>3145</th>\n",
       "      <td>I am rich(premium)</td>\n",
       "      <td>FINANCE</td>\n",
       "      <td>3.5</td>\n",
       "      <td>472</td>\n",
       "      <td>0.942383</td>\n",
       "      <td>5000</td>\n",
       "      <td>Paid</td>\n",
       "      <td>399.99</td>\n",
       "      <td>Everyone</td>\n",
       "      <td>Finance</td>\n",
       "    </tr>\n",
       "    <tr>\n",
       "      <th>3554</th>\n",
       "      <td>💎 I'm rich</td>\n",
       "      <td>LIFESTYLE</td>\n",
       "      <td>3.8</td>\n",
       "      <td>718</td>\n",
       "      <td>26.000000</td>\n",
       "      <td>10000</td>\n",
       "      <td>Paid</td>\n",
       "      <td>399.99</td>\n",
       "      <td>Everyone</td>\n",
       "      <td>Lifestyle</td>\n",
       "    </tr>\n",
       "    <tr>\n",
       "      <th>5765</th>\n",
       "      <td>I am rich</td>\n",
       "      <td>LIFESTYLE</td>\n",
       "      <td>3.8</td>\n",
       "      <td>3547</td>\n",
       "      <td>1.800000</td>\n",
       "      <td>100000</td>\n",
       "      <td>Paid</td>\n",
       "      <td>399.99</td>\n",
       "      <td>Everyone</td>\n",
       "      <td>Lifestyle</td>\n",
       "    </tr>\n",
       "    <tr>\n",
       "      <th>1946</th>\n",
       "      <td>I am rich (Most expensive app)</td>\n",
       "      <td>FINANCE</td>\n",
       "      <td>4.1</td>\n",
       "      <td>129</td>\n",
       "      <td>2.700000</td>\n",
       "      <td>1000</td>\n",
       "      <td>Paid</td>\n",
       "      <td>399.99</td>\n",
       "      <td>Teen</td>\n",
       "      <td>Finance</td>\n",
       "    </tr>\n",
       "    <tr>\n",
       "      <th>2775</th>\n",
       "      <td>I Am Rich Pro</td>\n",
       "      <td>FAMILY</td>\n",
       "      <td>4.4</td>\n",
       "      <td>201</td>\n",
       "      <td>2.700000</td>\n",
       "      <td>5000</td>\n",
       "      <td>Paid</td>\n",
       "      <td>399.99</td>\n",
       "      <td>Everyone</td>\n",
       "      <td>Entertainment</td>\n",
       "    </tr>\n",
       "    <tr>\n",
       "      <th>3221</th>\n",
       "      <td>I am Rich Plus</td>\n",
       "      <td>FAMILY</td>\n",
       "      <td>4.0</td>\n",
       "      <td>856</td>\n",
       "      <td>8.700000</td>\n",
       "      <td>10000</td>\n",
       "      <td>Paid</td>\n",
       "      <td>399.99</td>\n",
       "      <td>Everyone</td>\n",
       "      <td>Entertainment</td>\n",
       "    </tr>\n",
       "    <tr>\n",
       "      <th>3114</th>\n",
       "      <td>I am Rich</td>\n",
       "      <td>FINANCE</td>\n",
       "      <td>4.3</td>\n",
       "      <td>180</td>\n",
       "      <td>3.800000</td>\n",
       "      <td>5000</td>\n",
       "      <td>Paid</td>\n",
       "      <td>399.99</td>\n",
       "      <td>Everyone</td>\n",
       "      <td>Finance</td>\n",
       "    </tr>\n",
       "    <tr>\n",
       "      <th>1331</th>\n",
       "      <td>most expensive app (H)</td>\n",
       "      <td>FAMILY</td>\n",
       "      <td>4.3</td>\n",
       "      <td>6</td>\n",
       "      <td>1.500000</td>\n",
       "      <td>100</td>\n",
       "      <td>Paid</td>\n",
       "      <td>399.99</td>\n",
       "      <td>Everyone</td>\n",
       "      <td>Entertainment</td>\n",
       "    </tr>\n",
       "    <tr>\n",
       "      <th>2394</th>\n",
       "      <td>I am Rich!</td>\n",
       "      <td>FINANCE</td>\n",
       "      <td>3.8</td>\n",
       "      <td>93</td>\n",
       "      <td>22.000000</td>\n",
       "      <td>1000</td>\n",
       "      <td>Paid</td>\n",
       "      <td>399.99</td>\n",
       "      <td>Everyone</td>\n",
       "      <td>Finance</td>\n",
       "    </tr>\n",
       "    <tr>\n",
       "      <th>3897</th>\n",
       "      <td>I Am Rich</td>\n",
       "      <td>FAMILY</td>\n",
       "      <td>3.6</td>\n",
       "      <td>217</td>\n",
       "      <td>4.900000</td>\n",
       "      <td>10000</td>\n",
       "      <td>Paid</td>\n",
       "      <td>389.99</td>\n",
       "      <td>Everyone</td>\n",
       "      <td>Entertainment</td>\n",
       "    </tr>\n",
       "    <tr>\n",
       "      <th>2193</th>\n",
       "      <td>I am extremely Rich</td>\n",
       "      <td>LIFESTYLE</td>\n",
       "      <td>2.9</td>\n",
       "      <td>41</td>\n",
       "      <td>2.900000</td>\n",
       "      <td>1000</td>\n",
       "      <td>Paid</td>\n",
       "      <td>379.99</td>\n",
       "      <td>Everyone</td>\n",
       "      <td>Lifestyle</td>\n",
       "    </tr>\n",
       "    <tr>\n",
       "      <th>3856</th>\n",
       "      <td>I am rich VIP</td>\n",
       "      <td>LIFESTYLE</td>\n",
       "      <td>3.8</td>\n",
       "      <td>411</td>\n",
       "      <td>2.600000</td>\n",
       "      <td>10000</td>\n",
       "      <td>Paid</td>\n",
       "      <td>299.99</td>\n",
       "      <td>Everyone</td>\n",
       "      <td>Lifestyle</td>\n",
       "    </tr>\n",
       "    <tr>\n",
       "      <th>2281</th>\n",
       "      <td>Vargo Anesthesia Mega App</td>\n",
       "      <td>MEDICAL</td>\n",
       "      <td>4.6</td>\n",
       "      <td>92</td>\n",
       "      <td>32.000000</td>\n",
       "      <td>1000</td>\n",
       "      <td>Paid</td>\n",
       "      <td>79.99</td>\n",
       "      <td>Everyone</td>\n",
       "      <td>Medical</td>\n",
       "    </tr>\n",
       "    <tr>\n",
       "      <th>1407</th>\n",
       "      <td>LTC AS Legal</td>\n",
       "      <td>MEDICAL</td>\n",
       "      <td>4.0</td>\n",
       "      <td>6</td>\n",
       "      <td>1.300000</td>\n",
       "      <td>100</td>\n",
       "      <td>Paid</td>\n",
       "      <td>39.99</td>\n",
       "      <td>Everyone</td>\n",
       "      <td>Medical</td>\n",
       "    </tr>\n",
       "    <tr>\n",
       "      <th>2629</th>\n",
       "      <td>I am Rich Person</td>\n",
       "      <td>LIFESTYLE</td>\n",
       "      <td>4.2</td>\n",
       "      <td>134</td>\n",
       "      <td>1.800000</td>\n",
       "      <td>1000</td>\n",
       "      <td>Paid</td>\n",
       "      <td>37.99</td>\n",
       "      <td>Everyone</td>\n",
       "      <td>Lifestyle</td>\n",
       "    </tr>\n",
       "    <tr>\n",
       "      <th>2481</th>\n",
       "      <td>A Manual of Acupuncture</td>\n",
       "      <td>MEDICAL</td>\n",
       "      <td>3.5</td>\n",
       "      <td>214</td>\n",
       "      <td>68.000000</td>\n",
       "      <td>1000</td>\n",
       "      <td>Paid</td>\n",
       "      <td>33.99</td>\n",
       "      <td>Everyone</td>\n",
       "      <td>Medical</td>\n",
       "    </tr>\n",
       "    <tr>\n",
       "      <th>4264</th>\n",
       "      <td>Golfshot Plus: Golf GPS</td>\n",
       "      <td>SPORTS</td>\n",
       "      <td>4.1</td>\n",
       "      <td>3387</td>\n",
       "      <td>25.000000</td>\n",
       "      <td>50000</td>\n",
       "      <td>Paid</td>\n",
       "      <td>29.99</td>\n",
       "      <td>Everyone</td>\n",
       "      <td>Sports</td>\n",
       "    </tr>\n",
       "  </tbody>\n",
       "</table>\n",
       "</div>"
      ],
      "text/plain": [
       "                                 App   Category  Rating  Reviews   Size_MBs  \\\n",
       "3946        I'm Rich - Trump Edition  LIFESTYLE     3.6      275   7.300000   \n",
       "2461              I AM RICH PRO PLUS    FINANCE     4.0       36  41.000000   \n",
       "4606               I Am Rich Premium    FINANCE     4.1     1867   4.700000   \n",
       "3145              I am rich(premium)    FINANCE     3.5      472   0.942383   \n",
       "3554                      💎 I'm rich  LIFESTYLE     3.8      718  26.000000   \n",
       "5765                       I am rich  LIFESTYLE     3.8     3547   1.800000   \n",
       "1946  I am rich (Most expensive app)    FINANCE     4.1      129   2.700000   \n",
       "2775                   I Am Rich Pro     FAMILY     4.4      201   2.700000   \n",
       "3221                  I am Rich Plus     FAMILY     4.0      856   8.700000   \n",
       "3114                       I am Rich    FINANCE     4.3      180   3.800000   \n",
       "1331          most expensive app (H)     FAMILY     4.3        6   1.500000   \n",
       "2394                      I am Rich!    FINANCE     3.8       93  22.000000   \n",
       "3897                       I Am Rich     FAMILY     3.6      217   4.900000   \n",
       "2193             I am extremely Rich  LIFESTYLE     2.9       41   2.900000   \n",
       "3856                   I am rich VIP  LIFESTYLE     3.8      411   2.600000   \n",
       "2281       Vargo Anesthesia Mega App    MEDICAL     4.6       92  32.000000   \n",
       "1407                    LTC AS Legal    MEDICAL     4.0        6   1.300000   \n",
       "2629                I am Rich Person  LIFESTYLE     4.2      134   1.800000   \n",
       "2481         A Manual of Acupuncture    MEDICAL     3.5      214  68.000000   \n",
       "4264         Golfshot Plus: Golf GPS     SPORTS     4.1     3387  25.000000   \n",
       "\n",
       "      Installs  Type   Price Content_Rating         Genres  \n",
       "3946     10000  Paid  400.00       Everyone      Lifestyle  \n",
       "2461      1000  Paid  399.99       Everyone        Finance  \n",
       "4606     50000  Paid  399.99       Everyone        Finance  \n",
       "3145      5000  Paid  399.99       Everyone        Finance  \n",
       "3554     10000  Paid  399.99       Everyone      Lifestyle  \n",
       "5765    100000  Paid  399.99       Everyone      Lifestyle  \n",
       "1946      1000  Paid  399.99           Teen        Finance  \n",
       "2775      5000  Paid  399.99       Everyone  Entertainment  \n",
       "3221     10000  Paid  399.99       Everyone  Entertainment  \n",
       "3114      5000  Paid  399.99       Everyone        Finance  \n",
       "1331       100  Paid  399.99       Everyone  Entertainment  \n",
       "2394      1000  Paid  399.99       Everyone        Finance  \n",
       "3897     10000  Paid  389.99       Everyone  Entertainment  \n",
       "2193      1000  Paid  379.99       Everyone      Lifestyle  \n",
       "3856     10000  Paid  299.99       Everyone      Lifestyle  \n",
       "2281      1000  Paid   79.99       Everyone        Medical  \n",
       "1407       100  Paid   39.99       Everyone        Medical  \n",
       "2629      1000  Paid   37.99       Everyone      Lifestyle  \n",
       "2481      1000  Paid   33.99       Everyone        Medical  \n",
       "4264     50000  Paid   29.99       Everyone         Sports  "
      ]
     },
     "execution_count": 133,
     "metadata": {},
     "output_type": "execute_result"
    }
   ],
   "source": [
    "df_apps_clean.sort_values(\"Price\", ascending=False).head(20)"
   ]
  },
  {
   "cell_type": "code",
   "execution_count": 134,
   "id": "3b6f247a",
   "metadata": {},
   "outputs": [],
   "source": [
    "df_apps_clean = df_apps_clean[df_apps_clean.Price <= 250]"
   ]
  },
  {
   "cell_type": "code",
   "execution_count": 136,
   "id": "73dd3f67",
   "metadata": {},
   "outputs": [],
   "source": [
    "df_apps_clean['Revenue_Estimate'] = df_apps_clean.Installs * df_apps_clean.Price"
   ]
  },
  {
   "cell_type": "code",
   "execution_count": 138,
   "id": "e77d2720",
   "metadata": {},
   "outputs": [
    {
     "data": {
      "text/html": [
       "<div>\n",
       "<style scoped>\n",
       "    .dataframe tbody tr th:only-of-type {\n",
       "        vertical-align: middle;\n",
       "    }\n",
       "\n",
       "    .dataframe tbody tr th {\n",
       "        vertical-align: top;\n",
       "    }\n",
       "\n",
       "    .dataframe thead th {\n",
       "        text-align: right;\n",
       "    }\n",
       "</style>\n",
       "<table border=\"1\" class=\"dataframe\">\n",
       "  <thead>\n",
       "    <tr style=\"text-align: right;\">\n",
       "      <th></th>\n",
       "      <th>App</th>\n",
       "      <th>Category</th>\n",
       "      <th>Rating</th>\n",
       "      <th>Reviews</th>\n",
       "      <th>Size_MBs</th>\n",
       "      <th>Installs</th>\n",
       "      <th>Type</th>\n",
       "      <th>Price</th>\n",
       "      <th>Content_Rating</th>\n",
       "      <th>Genres</th>\n",
       "      <th>Revenue_Estimate</th>\n",
       "    </tr>\n",
       "  </thead>\n",
       "  <tbody>\n",
       "    <tr>\n",
       "      <th>9220</th>\n",
       "      <td>Minecraft</td>\n",
       "      <td>FAMILY</td>\n",
       "      <td>4.5</td>\n",
       "      <td>2376564</td>\n",
       "      <td>19.000000</td>\n",
       "      <td>10000000</td>\n",
       "      <td>Paid</td>\n",
       "      <td>6.99</td>\n",
       "      <td>Everyone 10+</td>\n",
       "      <td>Arcade;Action &amp; Adventure</td>\n",
       "      <td>69900000.0</td>\n",
       "    </tr>\n",
       "    <tr>\n",
       "      <th>8825</th>\n",
       "      <td>Hitman Sniper</td>\n",
       "      <td>GAME</td>\n",
       "      <td>4.6</td>\n",
       "      <td>408292</td>\n",
       "      <td>29.000000</td>\n",
       "      <td>10000000</td>\n",
       "      <td>Paid</td>\n",
       "      <td>0.99</td>\n",
       "      <td>Mature 17+</td>\n",
       "      <td>Action</td>\n",
       "      <td>9900000.0</td>\n",
       "    </tr>\n",
       "    <tr>\n",
       "      <th>7151</th>\n",
       "      <td>Grand Theft Auto: San Andreas</td>\n",
       "      <td>GAME</td>\n",
       "      <td>4.4</td>\n",
       "      <td>348962</td>\n",
       "      <td>26.000000</td>\n",
       "      <td>1000000</td>\n",
       "      <td>Paid</td>\n",
       "      <td>6.99</td>\n",
       "      <td>Mature 17+</td>\n",
       "      <td>Action</td>\n",
       "      <td>6990000.0</td>\n",
       "    </tr>\n",
       "    <tr>\n",
       "      <th>7477</th>\n",
       "      <td>Facetune - For Free</td>\n",
       "      <td>PHOTOGRAPHY</td>\n",
       "      <td>4.4</td>\n",
       "      <td>49553</td>\n",
       "      <td>48.000000</td>\n",
       "      <td>1000000</td>\n",
       "      <td>Paid</td>\n",
       "      <td>5.99</td>\n",
       "      <td>Everyone</td>\n",
       "      <td>Photography</td>\n",
       "      <td>5990000.0</td>\n",
       "    </tr>\n",
       "    <tr>\n",
       "      <th>7977</th>\n",
       "      <td>Sleep as Android Unlock</td>\n",
       "      <td>LIFESTYLE</td>\n",
       "      <td>4.5</td>\n",
       "      <td>23966</td>\n",
       "      <td>0.851562</td>\n",
       "      <td>1000000</td>\n",
       "      <td>Paid</td>\n",
       "      <td>5.99</td>\n",
       "      <td>Everyone</td>\n",
       "      <td>Lifestyle</td>\n",
       "      <td>5990000.0</td>\n",
       "    </tr>\n",
       "    <tr>\n",
       "      <th>6594</th>\n",
       "      <td>DraStic DS Emulator</td>\n",
       "      <td>GAME</td>\n",
       "      <td>4.6</td>\n",
       "      <td>87766</td>\n",
       "      <td>12.000000</td>\n",
       "      <td>1000000</td>\n",
       "      <td>Paid</td>\n",
       "      <td>4.99</td>\n",
       "      <td>Everyone</td>\n",
       "      <td>Action</td>\n",
       "      <td>4990000.0</td>\n",
       "    </tr>\n",
       "    <tr>\n",
       "      <th>6082</th>\n",
       "      <td>Weather Live</td>\n",
       "      <td>WEATHER</td>\n",
       "      <td>4.5</td>\n",
       "      <td>76593</td>\n",
       "      <td>4.750000</td>\n",
       "      <td>500000</td>\n",
       "      <td>Paid</td>\n",
       "      <td>5.99</td>\n",
       "      <td>Everyone</td>\n",
       "      <td>Weather</td>\n",
       "      <td>2995000.0</td>\n",
       "    </tr>\n",
       "    <tr>\n",
       "      <th>7954</th>\n",
       "      <td>Bloons TD 5</td>\n",
       "      <td>FAMILY</td>\n",
       "      <td>4.6</td>\n",
       "      <td>190086</td>\n",
       "      <td>94.000000</td>\n",
       "      <td>1000000</td>\n",
       "      <td>Paid</td>\n",
       "      <td>2.99</td>\n",
       "      <td>Everyone</td>\n",
       "      <td>Strategy</td>\n",
       "      <td>2990000.0</td>\n",
       "    </tr>\n",
       "    <tr>\n",
       "      <th>7633</th>\n",
       "      <td>Five Nights at Freddy's</td>\n",
       "      <td>GAME</td>\n",
       "      <td>4.6</td>\n",
       "      <td>100805</td>\n",
       "      <td>50.000000</td>\n",
       "      <td>1000000</td>\n",
       "      <td>Paid</td>\n",
       "      <td>2.99</td>\n",
       "      <td>Teen</td>\n",
       "      <td>Action</td>\n",
       "      <td>2990000.0</td>\n",
       "    </tr>\n",
       "    <tr>\n",
       "      <th>6746</th>\n",
       "      <td>Card Wars - Adventure Time</td>\n",
       "      <td>FAMILY</td>\n",
       "      <td>4.3</td>\n",
       "      <td>129603</td>\n",
       "      <td>23.000000</td>\n",
       "      <td>1000000</td>\n",
       "      <td>Paid</td>\n",
       "      <td>2.99</td>\n",
       "      <td>Everyone 10+</td>\n",
       "      <td>Card;Action &amp; Adventure</td>\n",
       "      <td>2990000.0</td>\n",
       "    </tr>\n",
       "  </tbody>\n",
       "</table>\n",
       "</div>"
      ],
      "text/plain": [
       "                                App     Category  Rating  Reviews   Size_MBs  \\\n",
       "9220                      Minecraft       FAMILY     4.5  2376564  19.000000   \n",
       "8825                  Hitman Sniper         GAME     4.6   408292  29.000000   \n",
       "7151  Grand Theft Auto: San Andreas         GAME     4.4   348962  26.000000   \n",
       "7477            Facetune - For Free  PHOTOGRAPHY     4.4    49553  48.000000   \n",
       "7977        Sleep as Android Unlock    LIFESTYLE     4.5    23966   0.851562   \n",
       "6594            DraStic DS Emulator         GAME     4.6    87766  12.000000   \n",
       "6082                   Weather Live      WEATHER     4.5    76593   4.750000   \n",
       "7954                    Bloons TD 5       FAMILY     4.6   190086  94.000000   \n",
       "7633        Five Nights at Freddy's         GAME     4.6   100805  50.000000   \n",
       "6746     Card Wars - Adventure Time       FAMILY     4.3   129603  23.000000   \n",
       "\n",
       "      Installs  Type  Price Content_Rating                     Genres  \\\n",
       "9220  10000000  Paid   6.99   Everyone 10+  Arcade;Action & Adventure   \n",
       "8825  10000000  Paid   0.99     Mature 17+                     Action   \n",
       "7151   1000000  Paid   6.99     Mature 17+                     Action   \n",
       "7477   1000000  Paid   5.99       Everyone                Photography   \n",
       "7977   1000000  Paid   5.99       Everyone                  Lifestyle   \n",
       "6594   1000000  Paid   4.99       Everyone                     Action   \n",
       "6082    500000  Paid   5.99       Everyone                    Weather   \n",
       "7954   1000000  Paid   2.99       Everyone                   Strategy   \n",
       "7633   1000000  Paid   2.99           Teen                     Action   \n",
       "6746   1000000  Paid   2.99   Everyone 10+    Card;Action & Adventure   \n",
       "\n",
       "      Revenue_Estimate  \n",
       "9220        69900000.0  \n",
       "8825         9900000.0  \n",
       "7151         6990000.0  \n",
       "7477         5990000.0  \n",
       "7977         5990000.0  \n",
       "6594         4990000.0  \n",
       "6082         2995000.0  \n",
       "7954         2990000.0  \n",
       "7633         2990000.0  \n",
       "6746         2990000.0  "
      ]
     },
     "execution_count": 138,
     "metadata": {},
     "output_type": "execute_result"
    }
   ],
   "source": [
    "df_apps_clean.sort_values(\"Revenue_Estimate\", ascending=False).head(10)"
   ]
  },
  {
   "cell_type": "markdown",
   "id": "5592f6bb",
   "metadata": {},
   "source": [
    "7 are games but the category can is FAMILY or GAME\n",
    "\n",
    "The top spot of the highest-grossing paid app goes to … Minecraft at close to $70 million. It’s quite interesting that Minecraft (along with Bloons and Card Wars) is actually listed in the Family category rather than in the Game category. If we include these titles, we see that 7 out the top 10 highest-grossing apps are games. The Google Play Store seems to be quite flexible with its category labels.\n"
   ]
  }
 ],
 "metadata": {
  "kernelspec": {
   "display_name": "venv",
   "language": "python",
   "name": "python3"
  },
  "language_info": {
   "codemirror_mode": {
    "name": "ipython",
    "version": 3
   },
   "file_extension": ".py",
   "mimetype": "text/x-python",
   "name": "python",
   "nbconvert_exporter": "python",
   "pygments_lexer": "ipython3",
   "version": "3.11.3"
  }
 },
 "nbformat": 4,
 "nbformat_minor": 5
}
