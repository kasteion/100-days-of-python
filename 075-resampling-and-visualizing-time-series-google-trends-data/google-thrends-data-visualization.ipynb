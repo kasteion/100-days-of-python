{
 "cells": [
  {
   "cell_type": "markdown",
   "id": "406a4866",
   "metadata": {},
   "source": [
    "# Data Exploration - Making Sense of Google Search Data"
   ]
  },
  {
   "cell_type": "code",
   "execution_count": 1,
   "id": "5077a5fa",
   "metadata": {},
   "outputs": [],
   "source": [
    "import pandas as pd\n",
    "import matplotlib.pyplot as plt\n",
    "\n",
    "df_bitcoin = pd.read_csv(\"data/Bitcoin Search Trend.csv\")\n",
    "df_bitcoin_daily = pd.read_csv(\"data/Daily Bitcoin Price.csv\")\n",
    "df_tesla = pd.read_csv(\"data/TESLA Search Trend vs Price.csv\")\n",
    "df_unemployment = pd.read_csv(\"data/UE Benefits Search vs UE Rate 2004-19.csv\")"
   ]
  },
  {
   "cell_type": "markdown",
   "id": "db896e1b",
   "metadata": {},
   "source": [
    "### What are the shapes of the DataFrames?\n",
    "\n",
    "### How many rows & columns do they have?"
   ]
  },
  {
   "cell_type": "code",
   "execution_count": 2,
   "id": "39cc58de",
   "metadata": {},
   "outputs": [
    {
     "data": {
      "text/plain": [
       "(124, 3)"
      ]
     },
     "execution_count": 2,
     "metadata": {},
     "output_type": "execute_result"
    }
   ],
   "source": [
    "df_tesla.shape"
   ]
  },
  {
   "cell_type": "code",
   "execution_count": 3,
   "id": "cca2b76a",
   "metadata": {},
   "outputs": [
    {
     "data": {
      "text/plain": [
       "(181, 3)"
      ]
     },
     "execution_count": 3,
     "metadata": {},
     "output_type": "execute_result"
    }
   ],
   "source": [
    "df_unemployment.shape"
   ]
  },
  {
   "cell_type": "code",
   "execution_count": 4,
   "id": "f8b3fcb7",
   "metadata": {},
   "outputs": [
    {
     "data": {
      "text/plain": [
       "(73, 2)"
      ]
     },
     "execution_count": 4,
     "metadata": {},
     "output_type": "execute_result"
    }
   ],
   "source": [
    "df_bitcoin.shape"
   ]
  },
  {
   "cell_type": "code",
   "execution_count": 5,
   "id": "6335dc0b",
   "metadata": {},
   "outputs": [
    {
     "data": {
      "text/plain": [
       "(2204, 3)"
      ]
     },
     "execution_count": 5,
     "metadata": {},
     "output_type": "execute_result"
    }
   ],
   "source": [
    "df_bitcoin_daily.shape"
   ]
  },
  {
   "cell_type": "markdown",
   "id": "8001f4a0",
   "metadata": {},
   "source": [
    "### What are the column names?"
   ]
  },
  {
   "cell_type": "code",
   "execution_count": 6,
   "id": "042f7478",
   "metadata": {},
   "outputs": [
    {
     "data": {
      "text/plain": [
       "Index(['MONTH', 'TSLA_WEB_SEARCH', 'TSLA_USD_CLOSE'], dtype='object')"
      ]
     },
     "execution_count": 6,
     "metadata": {},
     "output_type": "execute_result"
    }
   ],
   "source": [
    "df_tesla.columns"
   ]
  },
  {
   "cell_type": "code",
   "execution_count": 7,
   "id": "54dd65b4",
   "metadata": {},
   "outputs": [
    {
     "data": {
      "text/plain": [
       "Index(['MONTH', 'UE_BENEFITS_WEB_SEARCH', 'UNRATE'], dtype='object')"
      ]
     },
     "execution_count": 7,
     "metadata": {},
     "output_type": "execute_result"
    }
   ],
   "source": [
    "df_unemployment.columns"
   ]
  },
  {
   "cell_type": "code",
   "execution_count": 8,
   "id": "ce8ac0ab",
   "metadata": {},
   "outputs": [
    {
     "data": {
      "text/plain": [
       "Index(['MONTH', 'BTC_NEWS_SEARCH'], dtype='object')"
      ]
     },
     "execution_count": 8,
     "metadata": {},
     "output_type": "execute_result"
    }
   ],
   "source": [
    "df_bitcoin.columns"
   ]
  },
  {
   "cell_type": "code",
   "execution_count": 9,
   "id": "f4ec12fa",
   "metadata": {},
   "outputs": [
    {
     "data": {
      "text/plain": [
       "Index(['DATE', 'CLOSE', 'VOLUME'], dtype='object')"
      ]
     },
     "execution_count": 9,
     "metadata": {},
     "output_type": "execute_result"
    }
   ],
   "source": [
    "df_bitcoin_daily.columns"
   ]
  },
  {
   "cell_type": "markdown",
   "id": "d3e26448",
   "metadata": {},
   "source": [
    "### What is the largest number in the search data column? Try using the `.describe()` function."
   ]
  },
  {
   "cell_type": "code",
   "execution_count": 10,
   "id": "a7f693de",
   "metadata": {},
   "outputs": [
    {
     "data": {
      "text/html": [
       "<div>\n",
       "<style scoped>\n",
       "    .dataframe tbody tr th:only-of-type {\n",
       "        vertical-align: middle;\n",
       "    }\n",
       "\n",
       "    .dataframe tbody tr th {\n",
       "        vertical-align: top;\n",
       "    }\n",
       "\n",
       "    .dataframe thead th {\n",
       "        text-align: right;\n",
       "    }\n",
       "</style>\n",
       "<table border=\"1\" class=\"dataframe\">\n",
       "  <thead>\n",
       "    <tr style=\"text-align: right;\">\n",
       "      <th></th>\n",
       "      <th>TSLA_WEB_SEARCH</th>\n",
       "      <th>TSLA_USD_CLOSE</th>\n",
       "    </tr>\n",
       "  </thead>\n",
       "  <tbody>\n",
       "    <tr>\n",
       "      <th>count</th>\n",
       "      <td>124.000000</td>\n",
       "      <td>124.000000</td>\n",
       "    </tr>\n",
       "    <tr>\n",
       "      <th>mean</th>\n",
       "      <td>8.725806</td>\n",
       "      <td>50.962145</td>\n",
       "    </tr>\n",
       "    <tr>\n",
       "      <th>std</th>\n",
       "      <td>5.870332</td>\n",
       "      <td>65.908389</td>\n",
       "    </tr>\n",
       "    <tr>\n",
       "      <th>min</th>\n",
       "      <td>2.000000</td>\n",
       "      <td>3.896000</td>\n",
       "    </tr>\n",
       "    <tr>\n",
       "      <th>25%</th>\n",
       "      <td>3.750000</td>\n",
       "      <td>7.352500</td>\n",
       "    </tr>\n",
       "    <tr>\n",
       "      <th>50%</th>\n",
       "      <td>8.000000</td>\n",
       "      <td>44.653000</td>\n",
       "    </tr>\n",
       "    <tr>\n",
       "      <th>75%</th>\n",
       "      <td>12.000000</td>\n",
       "      <td>58.991999</td>\n",
       "    </tr>\n",
       "    <tr>\n",
       "      <th>max</th>\n",
       "      <td>31.000000</td>\n",
       "      <td>498.320007</td>\n",
       "    </tr>\n",
       "  </tbody>\n",
       "</table>\n",
       "</div>"
      ],
      "text/plain": [
       "       TSLA_WEB_SEARCH  TSLA_USD_CLOSE\n",
       "count       124.000000      124.000000\n",
       "mean          8.725806       50.962145\n",
       "std           5.870332       65.908389\n",
       "min           2.000000        3.896000\n",
       "25%           3.750000        7.352500\n",
       "50%           8.000000       44.653000\n",
       "75%          12.000000       58.991999\n",
       "max          31.000000      498.320007"
      ]
     },
     "execution_count": 10,
     "metadata": {},
     "output_type": "execute_result"
    }
   ],
   "source": [
    "df_tesla.describe()"
   ]
  },
  {
   "cell_type": "code",
   "execution_count": 11,
   "id": "e19c4b96",
   "metadata": {},
   "outputs": [
    {
     "data": {
      "text/html": [
       "<div>\n",
       "<style scoped>\n",
       "    .dataframe tbody tr th:only-of-type {\n",
       "        vertical-align: middle;\n",
       "    }\n",
       "\n",
       "    .dataframe tbody tr th {\n",
       "        vertical-align: top;\n",
       "    }\n",
       "\n",
       "    .dataframe thead th {\n",
       "        text-align: right;\n",
       "    }\n",
       "</style>\n",
       "<table border=\"1\" class=\"dataframe\">\n",
       "  <thead>\n",
       "    <tr style=\"text-align: right;\">\n",
       "      <th></th>\n",
       "      <th>UE_BENEFITS_WEB_SEARCH</th>\n",
       "      <th>UNRATE</th>\n",
       "    </tr>\n",
       "  </thead>\n",
       "  <tbody>\n",
       "    <tr>\n",
       "      <th>count</th>\n",
       "      <td>181.000000</td>\n",
       "      <td>181.000000</td>\n",
       "    </tr>\n",
       "    <tr>\n",
       "      <th>mean</th>\n",
       "      <td>35.110497</td>\n",
       "      <td>6.217680</td>\n",
       "    </tr>\n",
       "    <tr>\n",
       "      <th>std</th>\n",
       "      <td>20.484925</td>\n",
       "      <td>1.891859</td>\n",
       "    </tr>\n",
       "    <tr>\n",
       "      <th>min</th>\n",
       "      <td>14.000000</td>\n",
       "      <td>3.700000</td>\n",
       "    </tr>\n",
       "    <tr>\n",
       "      <th>25%</th>\n",
       "      <td>21.000000</td>\n",
       "      <td>4.700000</td>\n",
       "    </tr>\n",
       "    <tr>\n",
       "      <th>50%</th>\n",
       "      <td>26.000000</td>\n",
       "      <td>5.400000</td>\n",
       "    </tr>\n",
       "    <tr>\n",
       "      <th>75%</th>\n",
       "      <td>45.000000</td>\n",
       "      <td>7.800000</td>\n",
       "    </tr>\n",
       "    <tr>\n",
       "      <th>max</th>\n",
       "      <td>100.000000</td>\n",
       "      <td>10.000000</td>\n",
       "    </tr>\n",
       "  </tbody>\n",
       "</table>\n",
       "</div>"
      ],
      "text/plain": [
       "       UE_BENEFITS_WEB_SEARCH      UNRATE\n",
       "count              181.000000  181.000000\n",
       "mean                35.110497    6.217680\n",
       "std                 20.484925    1.891859\n",
       "min                 14.000000    3.700000\n",
       "25%                 21.000000    4.700000\n",
       "50%                 26.000000    5.400000\n",
       "75%                 45.000000    7.800000\n",
       "max                100.000000   10.000000"
      ]
     },
     "execution_count": 11,
     "metadata": {},
     "output_type": "execute_result"
    }
   ],
   "source": [
    "df_unemployment.describe()"
   ]
  },
  {
   "cell_type": "code",
   "execution_count": 12,
   "id": "f08709f2",
   "metadata": {},
   "outputs": [
    {
     "data": {
      "text/html": [
       "<div>\n",
       "<style scoped>\n",
       "    .dataframe tbody tr th:only-of-type {\n",
       "        vertical-align: middle;\n",
       "    }\n",
       "\n",
       "    .dataframe tbody tr th {\n",
       "        vertical-align: top;\n",
       "    }\n",
       "\n",
       "    .dataframe thead th {\n",
       "        text-align: right;\n",
       "    }\n",
       "</style>\n",
       "<table border=\"1\" class=\"dataframe\">\n",
       "  <thead>\n",
       "    <tr style=\"text-align: right;\">\n",
       "      <th></th>\n",
       "      <th>BTC_NEWS_SEARCH</th>\n",
       "    </tr>\n",
       "  </thead>\n",
       "  <tbody>\n",
       "    <tr>\n",
       "      <th>count</th>\n",
       "      <td>73.000000</td>\n",
       "    </tr>\n",
       "    <tr>\n",
       "      <th>mean</th>\n",
       "      <td>15.013699</td>\n",
       "    </tr>\n",
       "    <tr>\n",
       "      <th>std</th>\n",
       "      <td>15.146959</td>\n",
       "    </tr>\n",
       "    <tr>\n",
       "      <th>min</th>\n",
       "      <td>3.000000</td>\n",
       "    </tr>\n",
       "    <tr>\n",
       "      <th>25%</th>\n",
       "      <td>5.000000</td>\n",
       "    </tr>\n",
       "    <tr>\n",
       "      <th>50%</th>\n",
       "      <td>14.000000</td>\n",
       "    </tr>\n",
       "    <tr>\n",
       "      <th>75%</th>\n",
       "      <td>18.000000</td>\n",
       "    </tr>\n",
       "    <tr>\n",
       "      <th>max</th>\n",
       "      <td>100.000000</td>\n",
       "    </tr>\n",
       "  </tbody>\n",
       "</table>\n",
       "</div>"
      ],
      "text/plain": [
       "       BTC_NEWS_SEARCH\n",
       "count        73.000000\n",
       "mean         15.013699\n",
       "std          15.146959\n",
       "min           3.000000\n",
       "25%           5.000000\n",
       "50%          14.000000\n",
       "75%          18.000000\n",
       "max         100.000000"
      ]
     },
     "execution_count": 12,
     "metadata": {},
     "output_type": "execute_result"
    }
   ],
   "source": [
    "df_bitcoin.describe()"
   ]
  },
  {
   "cell_type": "code",
   "execution_count": 13,
   "id": "1d03ee9b",
   "metadata": {},
   "outputs": [
    {
     "data": {
      "text/html": [
       "<div>\n",
       "<style scoped>\n",
       "    .dataframe tbody tr th:only-of-type {\n",
       "        vertical-align: middle;\n",
       "    }\n",
       "\n",
       "    .dataframe tbody tr th {\n",
       "        vertical-align: top;\n",
       "    }\n",
       "\n",
       "    .dataframe thead th {\n",
       "        text-align: right;\n",
       "    }\n",
       "</style>\n",
       "<table border=\"1\" class=\"dataframe\">\n",
       "  <thead>\n",
       "    <tr style=\"text-align: right;\">\n",
       "      <th></th>\n",
       "      <th>CLOSE</th>\n",
       "      <th>VOLUME</th>\n",
       "    </tr>\n",
       "  </thead>\n",
       "  <tbody>\n",
       "    <tr>\n",
       "      <th>count</th>\n",
       "      <td>2203.000000</td>\n",
       "      <td>2.203000e+03</td>\n",
       "    </tr>\n",
       "    <tr>\n",
       "      <th>mean</th>\n",
       "      <td>4429.421245</td>\n",
       "      <td>8.043622e+09</td>\n",
       "    </tr>\n",
       "    <tr>\n",
       "      <th>std</th>\n",
       "      <td>4148.150071</td>\n",
       "      <td>1.176529e+10</td>\n",
       "    </tr>\n",
       "    <tr>\n",
       "      <th>min</th>\n",
       "      <td>178.102997</td>\n",
       "      <td>5.914570e+06</td>\n",
       "    </tr>\n",
       "    <tr>\n",
       "      <th>25%</th>\n",
       "      <td>433.629502</td>\n",
       "      <td>6.029915e+07</td>\n",
       "    </tr>\n",
       "    <tr>\n",
       "      <th>50%</th>\n",
       "      <td>3637.520020</td>\n",
       "      <td>2.018890e+09</td>\n",
       "    </tr>\n",
       "    <tr>\n",
       "      <th>75%</th>\n",
       "      <td>7997.372803</td>\n",
       "      <td>1.322478e+10</td>\n",
       "    </tr>\n",
       "    <tr>\n",
       "      <th>max</th>\n",
       "      <td>19497.400391</td>\n",
       "      <td>7.415677e+10</td>\n",
       "    </tr>\n",
       "  </tbody>\n",
       "</table>\n",
       "</div>"
      ],
      "text/plain": [
       "              CLOSE        VOLUME\n",
       "count   2203.000000  2.203000e+03\n",
       "mean    4429.421245  8.043622e+09\n",
       "std     4148.150071  1.176529e+10\n",
       "min      178.102997  5.914570e+06\n",
       "25%      433.629502  6.029915e+07\n",
       "50%     3637.520020  2.018890e+09\n",
       "75%     7997.372803  1.322478e+10\n",
       "max    19497.400391  7.415677e+10"
      ]
     },
     "execution_count": 13,
     "metadata": {},
     "output_type": "execute_result"
    }
   ],
   "source": [
    "df_bitcoin_daily.describe()"
   ]
  },
  {
   "cell_type": "markdown",
   "id": "fc9db50a",
   "metadata": {},
   "source": [
    "### What do the Search Numbers mean?\n",
    "\n",
    "We can see from our DataFrames that Google's search interest ranges between 0 and 100. But what does that mean? Google defines the values of search interest as: \n",
    "\n",
    "> Numbers represent search interest relative to the highest point on the chart for the given region and time. A value of 100 is the peak popularity for the term. A value of 50 means that the term is half as popular. A score of 0 means there was not enough data for this term.\n",
    "\n",
    "Basically, the actual search volume of a term is not publicly available. Google only offers a scaled number. Each data point is divided by the total searches of the geography and time range it represents to compare relative popularity.\n",
    "\n",
    "\n",
    "\n",
    "For each word in your search, Google finds how much search volume in each region and time period your term had relative to all the searches in that region and time period. It then combines all of these measures into a single measure of popularity, and then it scales the values across your topics, so the largest measure is set to 100. In short: Google Trends doesn’t exactly tell you how many searches occurred for your topic, but it does give you a nice proxy.\n",
    "\n",
    "Here are the Google Trends Search Parameters that I used to generate the .csv data:\n",
    "\n",
    "- \"Tesla\", Worldwide, Web Search\n",
    "\n",
    "- \"Bitcoin\", Worldwide, News Search\n",
    "\n",
    "- \"Unemployment Benefits\", United States, Web Search"
   ]
  },
  {
   "cell_type": "markdown",
   "id": "506716e3",
   "metadata": {},
   "source": [
    "# Data Cleaning - Resampling Time Series Data\n",
    "\n",
    "First, we have to identify if there are any missing or junk values in our DataFrames.\n",
    "\n",
    "Can you investigate all 4 DataFrames and find if there are any missing values? \n",
    "\n",
    "If yes, find how many missing or NaN values there are. Then, find the row where the missing values occur."
   ]
  },
  {
   "cell_type": "code",
   "execution_count": 21,
   "id": "536b05a8",
   "metadata": {},
   "outputs": [
    {
     "name": "stdout",
     "output_type": "stream",
     "text": [
      "TESLA Search Trend vs Price: False\n",
      "UE Benefits Search vs UE Rate: False\n",
      "Bitcoint Search Trend: False\n",
      "Daily Bitcoin Price: True\n"
     ]
    }
   ],
   "source": [
    "print(\"TESLA Search Trend vs Price:\", df_tesla.isna().values.any())\n",
    "print(\"UE Benefits Search vs UE Rate:\", df_unemployment.isna().values.any())\n",
    "print(\"Bitcoint Search Trend:\", df_bitcoin.isna().values.any())\n",
    "print(\"Daily Bitcoin Price:\", df_bitcoin_daily.isna().values.any())"
   ]
  },
  {
   "cell_type": "code",
   "execution_count": null,
   "id": "46fdb47b",
   "metadata": {},
   "outputs": [
    {
     "data": {
      "text/html": [
       "<div>\n",
       "<style scoped>\n",
       "    .dataframe tbody tr th:only-of-type {\n",
       "        vertical-align: middle;\n",
       "    }\n",
       "\n",
       "    .dataframe tbody tr th {\n",
       "        vertical-align: top;\n",
       "    }\n",
       "\n",
       "    .dataframe thead th {\n",
       "        text-align: right;\n",
       "    }\n",
       "</style>\n",
       "<table border=\"1\" class=\"dataframe\">\n",
       "  <thead>\n",
       "    <tr style=\"text-align: right;\">\n",
       "      <th></th>\n",
       "      <th>DATE</th>\n",
       "      <th>CLOSE</th>\n",
       "      <th>VOLUME</th>\n",
       "    </tr>\n",
       "  </thead>\n",
       "  <tbody>\n",
       "    <tr>\n",
       "      <th>2148</th>\n",
       "      <td>2020-08-04</td>\n",
       "      <td>NaN</td>\n",
       "      <td>NaN</td>\n",
       "    </tr>\n",
       "  </tbody>\n",
       "</table>\n",
       "</div>"
      ],
      "text/plain": [
       "            DATE  CLOSE  VOLUME\n",
       "2148  2020-08-04    NaN     NaN"
      ]
     },
     "execution_count": 25,
     "metadata": {},
     "output_type": "execute_result"
    }
   ],
   "source": [
    "df_bitcoin_daily[df_bitcoin_daily.isna().any(axis=1)]"
   ]
  },
  {
   "cell_type": "code",
   "execution_count": 26,
   "id": "67cb824b",
   "metadata": {},
   "outputs": [],
   "source": [
    "df_bitcoin_daily = df_bitcoin_daily.drop(2148)"
   ]
  },
  {
   "cell_type": "code",
   "execution_count": 27,
   "id": "245a2509",
   "metadata": {},
   "outputs": [
    {
     "name": "stdout",
     "output_type": "stream",
     "text": [
      "Daily Bitcoin Price: False\n"
     ]
    }
   ],
   "source": [
    "print(\"Daily Bitcoin Price:\", df_bitcoin_daily.isna().values.any())"
   ]
  },
  {
   "cell_type": "markdown",
   "id": "5b16ce85",
   "metadata": {},
   "source": [
    "This works too\n",
    "\n",
    "```python\n",
    "# df_bitcoin_daily = df_bitcoin_daily.dropna()\n",
    "\n",
    "# inplace allows to overwrite the DataFrame\n",
    "df_bitcoin_daily.dropna(inplace=True)\n",
    "```"
   ]
  },
  {
   "cell_type": "markdown",
   "id": "447b36e5",
   "metadata": {},
   "source": [
    "Our DataFrames contain time-series data. Do you remember how to check the data type of the entries in the DataFrame? Have a look at the data types of the MONTH or DATE columns. Convert any strings you find into Datetime objects. Do this for all 4 DataFrames. Double-check if your type conversion was successful."
   ]
  },
  {
   "cell_type": "code",
   "execution_count": 29,
   "id": "69208c60",
   "metadata": {},
   "outputs": [
    {
     "name": "stdout",
     "output_type": "stream",
     "text": [
      "<class 'pandas.core.frame.DataFrame'>\n",
      "RangeIndex: 124 entries, 0 to 123\n",
      "Data columns (total 3 columns):\n",
      " #   Column           Non-Null Count  Dtype  \n",
      "---  ------           --------------  -----  \n",
      " 0   MONTH            124 non-null    object \n",
      " 1   TSLA_WEB_SEARCH  124 non-null    int64  \n",
      " 2   TSLA_USD_CLOSE   124 non-null    float64\n",
      "dtypes: float64(1), int64(1), object(1)\n",
      "memory usage: 3.0+ KB\n"
     ]
    }
   ],
   "source": [
    "df_tesla.info()"
   ]
  },
  {
   "cell_type": "code",
   "execution_count": 34,
   "id": "7c7fd98f",
   "metadata": {},
   "outputs": [
    {
     "name": "stdout",
     "output_type": "stream",
     "text": [
      "object\n"
     ]
    },
    {
     "data": {
      "text/plain": [
       "str"
      ]
     },
     "execution_count": 34,
     "metadata": {},
     "output_type": "execute_result"
    }
   ],
   "source": [
    "print(df_tesla['MONTH'].dtype)\n",
    "type(df_tesla['MONTH'][0])"
   ]
  },
  {
   "cell_type": "code",
   "execution_count": 35,
   "id": "1f14ce89",
   "metadata": {},
   "outputs": [],
   "source": [
    "df_tesla.MONTH = pd.to_datetime(df_tesla.MONTH)"
   ]
  },
  {
   "cell_type": "code",
   "execution_count": 36,
   "id": "eec7e574",
   "metadata": {},
   "outputs": [
    {
     "name": "stdout",
     "output_type": "stream",
     "text": [
      "datetime64[ns]\n"
     ]
    },
    {
     "data": {
      "text/plain": [
       "pandas._libs.tslibs.timestamps.Timestamp"
      ]
     },
     "execution_count": 36,
     "metadata": {},
     "output_type": "execute_result"
    }
   ],
   "source": [
    "print(df_tesla['MONTH'].dtype)\n",
    "type(df_tesla['MONTH'][0])"
   ]
  },
  {
   "cell_type": "code",
   "execution_count": 37,
   "id": "3e93b4ed",
   "metadata": {},
   "outputs": [
    {
     "name": "stdout",
     "output_type": "stream",
     "text": [
      "<class 'pandas.core.frame.DataFrame'>\n",
      "RangeIndex: 181 entries, 0 to 180\n",
      "Data columns (total 3 columns):\n",
      " #   Column                  Non-Null Count  Dtype  \n",
      "---  ------                  --------------  -----  \n",
      " 0   MONTH                   181 non-null    object \n",
      " 1   UE_BENEFITS_WEB_SEARCH  181 non-null    int64  \n",
      " 2   UNRATE                  181 non-null    float64\n",
      "dtypes: float64(1), int64(1), object(1)\n",
      "memory usage: 4.4+ KB\n"
     ]
    }
   ],
   "source": [
    "df_unemployment.info()"
   ]
  },
  {
   "cell_type": "code",
   "execution_count": 39,
   "id": "3cccfd86",
   "metadata": {},
   "outputs": [
    {
     "data": {
      "text/plain": [
       "str"
      ]
     },
     "execution_count": 39,
     "metadata": {},
     "output_type": "execute_result"
    }
   ],
   "source": [
    "type(df_unemployment.MONTH[0][1])"
   ]
  },
  {
   "cell_type": "code",
   "execution_count": 40,
   "id": "e288cbdd",
   "metadata": {},
   "outputs": [],
   "source": [
    "df_unemployment.MONTH = pd.to_datetime(df_unemployment.MONTH)"
   ]
  },
  {
   "cell_type": "code",
   "execution_count": 41,
   "id": "4440fbb4",
   "metadata": {},
   "outputs": [
    {
     "name": "stdout",
     "output_type": "stream",
     "text": [
      "<class 'pandas.core.frame.DataFrame'>\n",
      "RangeIndex: 73 entries, 0 to 72\n",
      "Data columns (total 2 columns):\n",
      " #   Column           Non-Null Count  Dtype \n",
      "---  ------           --------------  ----- \n",
      " 0   MONTH            73 non-null     object\n",
      " 1   BTC_NEWS_SEARCH  73 non-null     int64 \n",
      "dtypes: int64(1), object(1)\n",
      "memory usage: 1.3+ KB\n"
     ]
    }
   ],
   "source": [
    "df_bitcoin.info()"
   ]
  },
  {
   "cell_type": "code",
   "execution_count": 42,
   "id": "9731b0a1",
   "metadata": {},
   "outputs": [
    {
     "data": {
      "text/plain": [
       "str"
      ]
     },
     "execution_count": 42,
     "metadata": {},
     "output_type": "execute_result"
    }
   ],
   "source": [
    "type(df_bitcoin.MONTH[1])"
   ]
  },
  {
   "cell_type": "code",
   "execution_count": 43,
   "id": "935abedb",
   "metadata": {},
   "outputs": [],
   "source": [
    "df_bitcoin.MONTH = pd.to_datetime(df_bitcoin.MONTH)"
   ]
  },
  {
   "cell_type": "code",
   "execution_count": 44,
   "id": "d017e02a",
   "metadata": {},
   "outputs": [
    {
     "data": {
      "text/plain": [
       "pandas._libs.tslibs.timestamps.Timestamp"
      ]
     },
     "execution_count": 44,
     "metadata": {},
     "output_type": "execute_result"
    }
   ],
   "source": [
    "type(df_bitcoin.MONTH[1])"
   ]
  },
  {
   "cell_type": "code",
   "execution_count": 45,
   "id": "64388498",
   "metadata": {},
   "outputs": [
    {
     "name": "stdout",
     "output_type": "stream",
     "text": [
      "<class 'pandas.core.frame.DataFrame'>\n",
      "Index: 2203 entries, 0 to 2203\n",
      "Data columns (total 3 columns):\n",
      " #   Column  Non-Null Count  Dtype  \n",
      "---  ------  --------------  -----  \n",
      " 0   DATE    2203 non-null   object \n",
      " 1   CLOSE   2203 non-null   float64\n",
      " 2   VOLUME  2203 non-null   float64\n",
      "dtypes: float64(2), object(1)\n",
      "memory usage: 68.8+ KB\n"
     ]
    }
   ],
   "source": [
    "df_bitcoin_daily.info()"
   ]
  },
  {
   "cell_type": "code",
   "execution_count": 46,
   "id": "479e4258",
   "metadata": {},
   "outputs": [
    {
     "data": {
      "text/plain": [
       "str"
      ]
     },
     "execution_count": 46,
     "metadata": {},
     "output_type": "execute_result"
    }
   ],
   "source": [
    "type(df_bitcoin_daily.DATE[1])"
   ]
  },
  {
   "cell_type": "code",
   "execution_count": 47,
   "id": "2aa1ca0a",
   "metadata": {},
   "outputs": [],
   "source": [
    "df_bitcoin_daily.DATE = pd.to_datetime(df_bitcoin_daily.DATE)"
   ]
  },
  {
   "cell_type": "code",
   "execution_count": 48,
   "id": "4dc40330",
   "metadata": {},
   "outputs": [
    {
     "data": {
      "text/plain": [
       "pandas._libs.tslibs.timestamps.Timestamp"
      ]
     },
     "execution_count": 48,
     "metadata": {},
     "output_type": "execute_result"
    }
   ],
   "source": [
    "type(df_bitcoin_daily.DATE[1])"
   ]
  },
  {
   "cell_type": "markdown",
   "id": "cfe225d8",
   "metadata": {},
   "source": [
    "### Resampling Time Series Data\n",
    "\n",
    "Next, we have to think about how to make our Bitcoin price and our Bitcoin search volume comparable. Our Bitcoin price is daily data, but our Bitcoin Search Popularity is monthly data.\n",
    "\n",
    "To convert our daily data into monthly data, we're going to use the [.resample()](https://pandas.pydata.org/pandas-docs/stable/reference/api/pandas.DataFrame.resample.html) function. The only things we need to specify is which column to use (i.e., our DATE column) and what kind of sample frequency we want (i.e., the \"rule\"). We want a monthly frequency, so we use `'M'`.  If you ever need to resample a time series to a different frequency, you can find a list of different options [here](https://pandas.pydata.org/pandas-docs/stable/user_guide/timeseries.html#dateoffset-objects) (for example `'Y'` for yearly or `'T'` for minute).\n",
    "\n",
    "After resampling, we need to figure out how the data should be treated. In our case, we want the last available price of the month - the price at month-end.\n",
    "\n"
   ]
  },
  {
   "cell_type": "code",
   "execution_count": 52,
   "id": "2a72fd0f",
   "metadata": {},
   "outputs": [],
   "source": [
    "df_btc_monthly = df_bitcoin_daily.resample('ME', on='DATE').last()\n"
   ]
  },
  {
   "cell_type": "markdown",
   "id": "aa53f6d7",
   "metadata": {},
   "source": [
    "If we wanted the average price over the course of the month, we could use something like:\n",
    "\n"
   ]
  },
  {
   "cell_type": "code",
   "execution_count": 53,
   "id": "f293a245",
   "metadata": {},
   "outputs": [],
   "source": [
    "df_btc_monthly = df_bitcoin_daily.resample('ME', on='DATE').mean()"
   ]
  },
  {
   "cell_type": "code",
   "execution_count": 54,
   "id": "59d1457d",
   "metadata": {},
   "outputs": [
    {
     "name": "stdout",
     "output_type": "stream",
     "text": [
      "(73, 2)\n"
     ]
    },
    {
     "data": {
      "text/html": [
       "<div>\n",
       "<style scoped>\n",
       "    .dataframe tbody tr th:only-of-type {\n",
       "        vertical-align: middle;\n",
       "    }\n",
       "\n",
       "    .dataframe tbody tr th {\n",
       "        vertical-align: top;\n",
       "    }\n",
       "\n",
       "    .dataframe thead th {\n",
       "        text-align: right;\n",
       "    }\n",
       "</style>\n",
       "<table border=\"1\" class=\"dataframe\">\n",
       "  <thead>\n",
       "    <tr style=\"text-align: right;\">\n",
       "      <th></th>\n",
       "      <th>CLOSE</th>\n",
       "      <th>VOLUME</th>\n",
       "    </tr>\n",
       "    <tr>\n",
       "      <th>DATE</th>\n",
       "      <th></th>\n",
       "      <th></th>\n",
       "    </tr>\n",
       "  </thead>\n",
       "  <tbody>\n",
       "    <tr>\n",
       "      <th>2014-09-30</th>\n",
       "      <td>386.944000</td>\n",
       "      <td>34707300.0</td>\n",
       "    </tr>\n",
       "    <tr>\n",
       "      <th>2014-10-31</th>\n",
       "      <td>338.321014</td>\n",
       "      <td>12545400.0</td>\n",
       "    </tr>\n",
       "    <tr>\n",
       "      <th>2014-11-30</th>\n",
       "      <td>378.046997</td>\n",
       "      <td>9194440.0</td>\n",
       "    </tr>\n",
       "    <tr>\n",
       "      <th>2014-12-31</th>\n",
       "      <td>320.192993</td>\n",
       "      <td>13942900.0</td>\n",
       "    </tr>\n",
       "    <tr>\n",
       "      <th>2015-01-31</th>\n",
       "      <td>217.464005</td>\n",
       "      <td>23348200.0</td>\n",
       "    </tr>\n",
       "  </tbody>\n",
       "</table>\n",
       "</div>"
      ],
      "text/plain": [
       "                 CLOSE      VOLUME\n",
       "DATE                              \n",
       "2014-09-30  386.944000  34707300.0\n",
       "2014-10-31  338.321014  12545400.0\n",
       "2014-11-30  378.046997   9194440.0\n",
       "2014-12-31  320.192993  13942900.0\n",
       "2015-01-31  217.464005  23348200.0"
      ]
     },
     "execution_count": 54,
     "metadata": {},
     "output_type": "execute_result"
    }
   ],
   "source": [
    "df_btc_monthly = df_bitcoin_daily.resample('ME', on='DATE').last()\n",
    "print(df_btc_monthly.shape)\n",
    "df_btc_monthly.head()"
   ]
  }
 ],
 "metadata": {
  "kernelspec": {
   "display_name": "venv",
   "language": "python",
   "name": "python3"
  },
  "language_info": {
   "codemirror_mode": {
    "name": "ipython",
    "version": 3
   },
   "file_extension": ".py",
   "mimetype": "text/x-python",
   "name": "python",
   "nbconvert_exporter": "python",
   "pygments_lexer": "ipython3",
   "version": "3.11.3"
  }
 },
 "nbformat": 4,
 "nbformat_minor": 5
}
